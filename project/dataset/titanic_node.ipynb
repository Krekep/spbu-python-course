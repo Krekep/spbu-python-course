{
 "cells": [
  {
   "cell_type": "markdown",
   "id": "d485f9b3-ef52-432b-9862-47c9f93d0bcb",
   "metadata": {},
   "source": [
    "Importing necessary libraries for data analysis and visualization"
   ]
  },
  {
   "cell_type": "code",
   "execution_count": 21,
   "id": "59b654a9-e7a8-403e-af28-172bbcc4daab",
   "metadata": {},
   "outputs": [],
   "source": [
    "import pandas as pd\n",
    "import seaborn as sns\n",
    "import matplotlib.pyplot as plt\n",
    "import plotly.express as px\n",
    "import plotly.graph_objects as go\n",
    "import warnings"
   ]
  },
  {
   "cell_type": "markdown",
   "id": "93074bdc-cdb3-4d4f-a872-41f8d9d74e5d",
   "metadata": {},
   "source": [
    "Step 1: Load the datasets"
   ]
  },
  {
   "cell_type": "markdown",
   "id": "36a85c80-84b8-4959-9a4a-501a36a756d4",
   "metadata": {},
   "source": [
    "In this step, we load the train.csv and test.csv datasets and combine them into one data DataFrame. This is important as it allows us to analyze the full set of passenger data."
   ]
  },
  {
   "cell_type": "code",
   "execution_count": 22,
   "id": "1de0923b-b1c0-4831-8cd9-ff1b6bf3a70b",
   "metadata": {},
   "outputs": [],
   "source": [
    "train = pd.read_csv(\"C:/Users/denis/OneDrive/Рабочий стол/Python/spbu-python-course-1/project/dataset/train.csv\")\n",
    "test = pd.read_csv(\"C:/Users/denis/OneDrive/Рабочий стол/Python/spbu-python-course-1/project/dataset/test.csv\")\n",
    "\n",
    "data = pd.concat([train, test], ignore_index=True)"
   ]
  },
  {
   "cell_type": "markdown",
   "id": "b6d127d8-2d23-471f-a734-234d9421d496",
   "metadata": {},
   "source": [
    "Step 2: Convert columns to categorical data types"
   ]
  },
  {
   "cell_type": "markdown",
   "id": "a9626a64-eb57-412a-b751-26eb7a8f06f3",
   "metadata": {},
   "source": [
    "Here, we are converting certain columns to categorical data types to save memory and improve processing performance."
   ]
  },
  {
   "cell_type": "code",
   "execution_count": 23,
   "id": "a9a30caf-2f9c-46ad-86d3-b3b7ce2c82ae",
   "metadata": {},
   "outputs": [],
   "source": [
    "data[\"Survived\"] = data[\"Survived\"].astype(\"category\")\n",
    "data[\"Pclass\"] = data[\"Pclass\"].astype(\"category\")\n",
    "data[\"Sex\"] = data[\"Sex\"].astype(\"category\")"
   ]
  },
  {
   "cell_type": "markdown",
   "id": "5d3c256b-a1f6-4c89-9d58-50ff25086cdb",
   "metadata": {},
   "source": [
    "Step 3: Basic Statistics and Insights"
   ]
  },
  {
   "cell_type": "markdown",
   "id": "195686a3-afe2-465b-866d-9d96fd6cee6e",
   "metadata": {},
   "source": [
    "We can check the general statistics of the dataset and get an overview of the data. We also perform some grouping operations to gain more insights."
   ]
  },
  {
   "cell_type": "code",
   "execution_count": 24,
   "id": "e42c6264-9f37-4ece-ae69-b3586d833e23",
   "metadata": {},
   "outputs": [
    {
     "name": "stdout",
     "output_type": "stream",
     "text": [
      "       PassengerId          Age        SibSp        Parch         Fare\n",
      "count  1309.000000  1046.000000  1309.000000  1309.000000  1308.000000\n",
      "mean    655.000000    29.881138     0.498854     0.385027    33.295479\n",
      "std     378.020061    14.413493     1.041658     0.865560    51.758668\n",
      "min       1.000000     0.170000     0.000000     0.000000     0.000000\n",
      "25%     328.000000    21.000000     0.000000     0.000000     7.895800\n",
      "50%     655.000000    28.000000     0.000000     0.000000    14.454200\n",
      "75%     982.000000    39.000000     1.000000     0.000000    31.275000\n",
      "max    1309.000000    80.000000     8.000000     9.000000   512.329200\n",
      "Pclass\n",
      "3    709\n",
      "1    323\n",
      "2    277\n",
      "Name: count, dtype: int64\n",
      "Pclass  Sex   \n",
      "1       female    37.037594\n",
      "        male      41.029272\n",
      "2       female    27.499223\n",
      "        male      30.815380\n",
      "3       female    22.185329\n",
      "        male      25.962264\n",
      "Name: Age, dtype: float64\n"
     ]
    }
   ],
   "source": [
    "# Show basic statistics for numerical columns\n",
    "print(data.describe())\n",
    "\n",
    "# Show the count of passengers in each class\n",
    "print(data[\"Pclass\"].value_counts())\n",
    "\n",
    "# Group by Pclass and Sex to see the average age of passengers\n",
    "age_stats = data.groupby([\"Pclass\", \"Sex\"], observed=False)[\"Age\"].mean()\n",
    "print(age_stats)"
   ]
  },
  {
   "cell_type": "markdown",
   "id": "8fe63179-d99f-4eee-8e45-80e3a5e3cc37",
   "metadata": {},
   "source": [
    "Step 4: Find the youngest and oldest passengers by class and gender"
   ]
  },
  {
   "cell_type": "markdown",
   "id": "2fddf920-9049-4cb2-b139-897e5397d156",
   "metadata": {},
   "source": [
    "Here, we identify the youngest and oldest passengers based on their age."
   ]
  },
  {
   "cell_type": "code",
   "execution_count": 25,
   "id": "1279d88b-8edc-4e69-aadc-96b7b68e1fa5",
   "metadata": {},
   "outputs": [
    {
     "name": "stdout",
     "output_type": "stream",
     "text": [
      "The Youngest: ((np.int64(3), 'female'), np.float64(22.185328947368422))\n",
      "The oldest: ((np.int64(1), 'male'), np.float64(41.02927152317881))\n"
     ]
    }
   ],
   "source": [
    "# Find the youngest and oldest passengers by class and gender\n",
    "youngest = age_stats.idxmin(), age_stats.min()\n",
    "oldest = age_stats.idxmax(), age_stats.max()\n",
    "\n",
    "print(\"The Youngest:\", youngest)\n",
    "print(\"The oldest:\", oldest)"
   ]
  },
  {
   "cell_type": "markdown",
   "id": "8a356634-82c2-4ba7-aa2c-d238e53769bc",
   "metadata": {},
   "source": [
    "Step 5: Analyze survivors whose names start with 'K'"
   ]
  },
  {
   "cell_type": "markdown",
   "id": "f0f15cae-3274-4fa7-a1ca-0829ef8a8a13",
   "metadata": {},
   "source": [
    "In this step, we focus on passengers whose names start with the letter 'K' and find out who paid the most and the least."
   ]
  },
  {
   "cell_type": "code",
   "execution_count": 26,
   "id": "6a78fe31-1bd8-434c-9af8-a9885ea1ffed",
   "metadata": {},
   "outputs": [
    {
     "name": "stdout",
     "output_type": "stream",
     "text": [
      "Passenger paid more than all: Kimball, Mr. Edwin Nelson Jr\n",
      "Passenger paid less than all: Kelly, Miss. Mary\n"
     ]
    }
   ],
   "source": [
    "# Filter survivors whose names start with 'K' and sort by Fare\n",
    "survivors_with_k = data[(data[\"Survived\"] == 1) & (data[\"Name\"].str.startswith(\"K\"))]\n",
    "survivors_with_k_sorted = survivors_with_k.sort_values(by=\"Fare\", ascending=False)\n",
    "\n",
    "# Display the passenger who paid the most and the least\n",
    "print(\"Passenger paid more than all:\", survivors_with_k_sorted.iloc[0][\"Name\"])\n",
    "print(\"Passenger paid less than all:\", survivors_with_k_sorted.iloc[-1][\"Name\"])"
   ]
  },
  {
   "cell_type": "markdown",
   "id": "183e676a-9cc8-4607-a65c-6e521d6f7711",
   "metadata": {},
   "source": [
    "Step 6: Analyze the number of relatives of survivors"
   ]
  },
  {
   "cell_type": "markdown",
   "id": "094f2ba0-d279-457d-abe2-9c19bb8842e4",
   "metadata": {},
   "source": [
    "This section calculates the number of relatives (siblings/spouses + parents/children) and finds the maximum value for survivors."
   ]
  },
  {
   "cell_type": "code",
   "execution_count": 27,
   "id": "8e950c7e-38f6-48c2-8740-7322fb7b8fb5",
   "metadata": {},
   "outputs": [
    {
     "name": "stdout",
     "output_type": "stream",
     "text": [
      "Max relatives: 6\n"
     ]
    }
   ],
   "source": [
    "# Create a new column 'Relatives' representing the number of relatives\n",
    "data[\"Relatives\"] = data[\"SibSp\"] + data[\"Parch\"]\n",
    "\n",
    "# Find the maximum number of relatives among survivors\n",
    "max_relatives = data[data[\"Survived\"] == 1][\"Relatives\"].max()\n",
    "print(\"Max relatives:\", max_relatives)"
   ]
  },
  {
   "cell_type": "markdown",
   "id": "35c4dc88-3a20-4352-9648-1311075cc568",
   "metadata": {},
   "source": [
    "Step 7: Analyze Fare based on the presence of Cabin"
   ]
  },
  {
   "cell_type": "markdown",
   "id": "237ea0c7-f523-401e-a553-9c9b2a126458",
   "metadata": {},
   "source": [
    "We analyze how the presence or absence of a cabin affects the fare."
   ]
  },
  {
   "cell_type": "code",
   "execution_count": 28,
   "id": "a5021b13-9248-4e38-a232-cfc2f8e4294b",
   "metadata": {},
   "outputs": [
    {
     "name": "stdout",
     "output_type": "stream",
     "text": [
      "The average ticket price for passengers with a cabin: 81.92899830508475\n",
      "The average ticket price for passengers without a cabin: 19.132707206317864\n",
      "How many times do the prices differ: 4.282143526350037\n"
     ]
    }
   ],
   "source": [
    "# Calculate average Fare for passengers with and without a cabin\n",
    "with_cabin = data[data[\"Cabin\"].notna()][\"Fare\"].mean()\n",
    "without_cabin = data[data[\"Cabin\"].isna()][\"Fare\"].mean()\n",
    "\n",
    "# Calculate ratio of fares\n",
    "fare_ratio = with_cabin / without_cabin if without_cabin != 0 else float(\"inf\")\n",
    "\n",
    "print(\"The average ticket price for passengers with a cabin:\", with_cabin)\n",
    "print(\"The average ticket price for passengers without a cabin:\", without_cabin)\n",
    "print(\"How many times do the prices differ:\", fare_ratio)"
   ]
  },
  {
   "cell_type": "markdown",
   "id": "3635da76-df8e-43b9-813c-c9fbf326420a",
   "metadata": {},
   "source": [
    "Step 8: Visualize Passenger Distribution by Class"
   ]
  },
  {
   "cell_type": "markdown",
   "id": "49a6c079-3069-41ca-94d8-d589d63eae11",
   "metadata": {},
   "source": [
    "Now, we will visualize the distribution of passengers by class using a bar plot."
   ]
  },
  {
   "cell_type": "code",
   "execution_count": 29,
   "id": "06c2b8d8-d73f-4e37-abec-ac2a2fc7b7c9",
   "metadata": {},
   "outputs": [
    {
     "data": {
      "image/png": "[encoded data removed]",
      "text/plain": [
       "<Figure size 640x480 with 1 Axes>"
      ]
     },
     "metadata": {},
     "output_type": "display_data"
    }
   ],
   "source": [
    "# Visualizing the distribution of passengers by class\n",
    "sns.countplot(x=\"Pclass\", data=data)\n",
    "plt.title(\"The distribution of passengers by class\")\n",
    "plt.show()"
   ]
  },
  {
   "cell_type": "markdown",
   "id": "335866fa-6b0f-4ff3-bf66-54347e6ddad4",
   "metadata": {},
   "source": [
    "Step 9: Create a Sankey Diagram to show the flow of passengers by Class, Sex, and Survival"
   ]
  },
  {
   "cell_type": "markdown",
   "id": "8f72d6ec-0c17-483c-b769-87c3d3695544",
   "metadata": {},
   "source": [
    "We will create a Sankey diagram to visualize how passengers flowed through the different categories of Pclass, Sex, and Survived."
   ]
  },
  {
   "cell_type": "code",
   "execution_count": 30,
   "id": "bead1ceb-cf5e-4b5b-bde2-ab3f4ca18568",
   "metadata": {},
   "outputs": [
    {
     "data": {
      "application/vnd.plotly.v1+json": {
       "config": {
        "plotlyServerURL": "https://plot.ly"
       },
       "data": [
        {
         "link": {
          "source": [
           0,
           0,
           1,
           1,
           2,
           2,
           3,
           3,
           4,
           4
          ],
          "target": [
           3,
           4,
           3,
           4,
           3,
           4,
           5,
           6,
           5,
           6
          ],
          "value": [
           94,
           122,
           76,
           108,
           144,
           347,
           81,
           233,
           468,
           109
          ]
         },
         "node": {
          "label": [
           "Class 1",
           "Class 2",
           "Class 3",
           "female",
           "male",
           "Did not Survive",
           "Survived"
          ],
          "line": {
           "color": "black",
           "width": 0.5
          },
          "pad": 15,
          "thickness": 20
         },
         "type": "sankey"
        }
       ],
       "layout": {
        "font": {
         "size": 12
        },
        "template": {
         "data": {
          "bar": [
           {
            "error_x": {
             "color": "#2a3f5f"
            },
            "error_y": {
             "color": "#2a3f5f"
            },
            "marker": {
             "line": {
              "color": "#E5ECF6",
              "width": 0.5
             },
             "pattern": {
              "fillmode": "overlay",
              "size": 10,
              "solidity": 0.2
             }
            },
            "type": "bar"
           }
          ],
          "barpolar": [
           {
            "marker": {
             "line": {
              "color": "#E5ECF6",
              "width": 0.5
             },
             "pattern": {
              "fillmode": "overlay",
              "size": 10,
              "solidity": 0.2
             }
            },
            "type": "barpolar"
           }
          ],
          "carpet": [
           {
            "aaxis": {
             "endlinecolor": "#2a3f5f",
             "gridcolor": "white",
             "linecolor": "white",
             "minorgridcolor": "white",
             "startlinecolor": "#2a3f5f"
            },
            "baxis": {
             "endlinecolor": "#2a3f5f",
             "gridcolor": "white",
             "linecolor": "white",
             "minorgridcolor": "white",
             "startlinecolor": "#2a3f5f"
            },
            "type": "carpet"
           }
          ],
          "choropleth": [
           {
            "colorbar": {
             "outlinewidth": 0,
             "ticks": ""
            },
            "type": "choropleth"
           }
          ],
          "contour": [
           {
            "colorbar": {
             "outlinewidth": 0,
             "ticks": ""
            },
            "colorscale": [
             [
              0,
              "#0d0887"
             ],
             [
              0.1111111111111111,
              "#46039f"
             ],
             [
              0.2222222222222222,
              "#7201a8"
             ],
             [
              0.3333333333333333,
              "#9c179e"
             ],
             [
              0.4444444444444444,
              "#bd3786"
             ],
             [
              0.5555555555555556,
              "#d8576b"
             ],
             [
              0.6666666666666666,
              "#ed7953"
             ],
             [
              0.7777777777777778,
              "#fb9f3a"
             ],
             [
              0.8888888888888888,
              "#fdca26"
             ],
             [
              1,
              "#f0f921"
             ]
            ],
            "type": "contour"
           }
          ],
          "contourcarpet": [
           {
            "colorbar": {
             "outlinewidth": 0,
             "ticks": ""
            },
            "type": "contourcarpet"
           }
          ],
          "heatmap": [
           {
            "colorbar": {
             "outlinewidth": 0,
             "ticks": ""
            },
            "colorscale": [
             [
              0,
              "#0d0887"
             ],
             [
              0.1111111111111111,
              "#46039f"
             ],
             [
              0.2222222222222222,
              "#7201a8"
             ],
             [
              0.3333333333333333,
              "#9c179e"
             ],
             [
              0.4444444444444444,
              "#bd3786"
             ],
             [
              0.5555555555555556,
              "#d8576b"
             ],
             [
              0.6666666666666666,
              "#ed7953"
             ],
             [
              0.7777777777777778,
              "#fb9f3a"
             ],
             [
              0.8888888888888888,
              "#fdca26"
             ],
             [
              1,
              "#f0f921"
             ]
            ],
            "type": "heatmap"
           }
          ],
          "heatmapgl": [
           {
            "colorbar": {
             "outlinewidth": 0,
             "ticks": ""
            },
            "colorscale": [
             [
              0,
              "#0d0887"
             ],
             [
              0.1111111111111111,
              "#46039f"
             ],
             [
              0.2222222222222222,
              "#7201a8"
             ],
             [
              0.3333333333333333,
              "#9c179e"
             ],
             [
              0.4444444444444444,
              "#bd3786"
             ],
             [
              0.5555555555555556,
              "#d8576b"
             ],
             [
              0.6666666666666666,
              "#ed7953"
             ],
             [
              0.7777777777777778,
              "#fb9f3a"
             ],
             [
              0.8888888888888888,
              "#fdca26"
             ],
             [
              1,
              "#f0f921"
             ]
            ],
            "type": "heatmapgl"
           }
          ],
          "histogram": [
           {
            "marker": {
             "pattern": {
              "fillmode": "overlay",
              "size": 10,
              "solidity": 0.2
             }
            },
            "type": "histogram"
           }
          ],
          "histogram2d": [
           {
            "colorbar": {
             "outlinewidth": 0,
             "ticks": ""
            },
            "colorscale": [
             [
              0,
              "#0d0887"
             ],
             [
              0.1111111111111111,
              "#46039f"
             ],
             [
              0.2222222222222222,
              "#7201a8"
             ],
             [
              0.3333333333333333,
              "#9c179e"
             ],
             [
              0.4444444444444444,
              "#bd3786"
             ],
             [
              0.5555555555555556,
              "#d8576b"
             ],
             [
              0.6666666666666666,
              "#ed7953"
             ],
             [
              0.7777777777777778,
              "#fb9f3a"
             ],
             [
              0.8888888888888888,
              "#fdca26"
             ],
             [
              1,
              "#f0f921"
             ]
            ],
            "type": "histogram2d"
           }
          ],
          "histogram2dcontour": [
           {
            "colorbar": {
             "outlinewidth": 0,
             "ticks": ""
            },
            "colorscale": [
             [
              0,
              "#0d0887"
             ],
             [
              0.1111111111111111,
              "#46039f"
             ],
             [
              0.2222222222222222,
              "#7201a8"
             ],
             [
              0.3333333333333333,
              "#9c179e"
             ],
             [
              0.4444444444444444,
              "#bd3786"
             ],
             [
              0.5555555555555556,
              "#d8576b"
             ],
             [
              0.6666666666666666,
              "#ed7953"
             ],
             [
              0.7777777777777778,
              "#fb9f3a"
             ],
             [
              0.8888888888888888,
              "#fdca26"
             ],
             [
              1,
              "#f0f921"
             ]
            ],
            "type": "histogram2dcontour"
           }
          ],
          "mesh3d": [
           {
            "colorbar": {
             "outlinewidth": 0,
             "ticks": ""
            },
            "type": "mesh3d"
           }
          ],
          "parcoords": [
           {
            "line": {
             "colorbar": {
              "outlinewidth": 0,
              "ticks": ""
             }
            },
            "type": "parcoords"
           }
          ],
          "pie": [
           {
            "automargin": true,
            "type": "pie"
           }
          ],
          "scatter": [
           {
            "fillpattern": {
             "fillmode": "overlay",
             "size": 10,
             "solidity": 0.2
            },
            "type": "scatter"
           }
          ],
          "scatter3d": [
           {
            "line": {
             "colorbar": {
              "outlinewidth": 0,
              "ticks": ""
             }
            },
            "marker": {
             "colorbar": {
              "outlinewidth": 0,
              "ticks": ""
             }
            },
            "type": "scatter3d"
           }
          ],
          "scattercarpet": [
           {
            "marker": {
             "colorbar": {
              "outlinewidth": 0,
              "ticks": ""
             }
            },
            "type": "scattercarpet"
           }
          ],
          "scattergeo": [
           {
            "marker": {
             "colorbar": {
              "outlinewidth": 0,
              "ticks": ""
             }
            },
            "type": "scattergeo"
           }
          ],
          "scattergl": [
           {
            "marker": {
             "colorbar": {
              "outlinewidth": 0,
              "ticks": ""
             }
            },
            "type": "scattergl"
           }
          ],
          "scattermapbox": [
           {
            "marker": {
             "colorbar": {
              "outlinewidth": 0,
              "ticks": ""
             }
            },
            "type": "scattermapbox"
           }
          ],
          "scatterpolar": [
           {
            "marker": {
             "colorbar": {
              "outlinewidth": 0,
              "ticks": ""
             }
            },
            "type": "scatterpolar"
           }
          ],
          "scatterpolargl": [
           {
            "marker": {
             "colorbar": {
              "outlinewidth": 0,
              "ticks": ""
             }
            },
            "type": "scatterpolargl"
           }
          ],
          "scatterternary": [
           {
            "marker": {
             "colorbar": {
              "outlinewidth": 0,
              "ticks": ""
             }
            },
            "type": "scatterternary"
           }
          ],
          "surface": [
           {
            "colorbar": {
             "outlinewidth": 0,
             "ticks": ""
            },
            "colorscale": [
             [
              0,
              "#0d0887"
             ],
             [
              0.1111111111111111,
              "#46039f"
             ],
             [
              0.2222222222222222,
              "#7201a8"
             ],
             [
              0.3333333333333333,
              "#9c179e"
             ],
             [
              0.4444444444444444,
              "#bd3786"
             ],
             [
              0.5555555555555556,
              "#d8576b"
             ],
             [
              0.6666666666666666,
              "#ed7953"
             ],
             [
              0.7777777777777778,
              "#fb9f3a"
             ],
             [
              0.8888888888888888,
              "#fdca26"
             ],
             [
              1,
              "#f0f921"
             ]
            ],
            "type": "surface"
           }
          ],
          "table": [
           {
            "cells": {
             "fill": {
              "color": "#EBF0F8"
             },
             "line": {
              "color": "white"
             }
            },
            "header": {
             "fill": {
              "color": "#C8D4E3"
             },
             "line": {
              "color": "white"
             }
            },
            "type": "table"
           }
          ]
         },
         "layout": {
          "annotationdefaults": {
           "arrowcolor": "#2a3f5f",
           "arrowhead": 0,
           "arrowwidth": 1
          },
          "autotypenumbers": "strict",
          "coloraxis": {
           "colorbar": {
            "outlinewidth": 0,
            "ticks": ""
           }
          },
          "colorscale": {
           "diverging": [
            [
             0,
             "#8e0152"
            ],
            [
             0.1,
             "#c51b7d"
            ],
            [
             0.2,
             "#de77ae"
            ],
            [
             0.3,
             "#f1b6da"
            ],
            [
             0.4,
             "#fde0ef"
            ],
            [
             0.5,
             "#f7f7f7"
            ],
            [
             0.6,
             "#e6f5d0"
            ],
            [
             0.7,
             "#b8e186"
            ],
            [
             0.8,
             "#7fbc41"
            ],
            [
             0.9,
             "#4d9221"
            ],
            [
             1,
             "#276419"
            ]
           ],
           "sequential": [
            [
             0,
             "#0d0887"
            ],
            [
             0.1111111111111111,
             "#46039f"
            ],
            [
             0.2222222222222222,
             "#7201a8"
            ],
            [
             0.3333333333333333,
             "#9c179e"
            ],
            [
             0.4444444444444444,
             "#bd3786"
            ],
            [
             0.5555555555555556,
             "#d8576b"
            ],
            [
             0.6666666666666666,
             "#ed7953"
            ],
            [
             0.7777777777777778,
             "#fb9f3a"
            ],
            [
             0.8888888888888888,
             "#fdca26"
            ],
            [
             1,
             "#f0f921"
            ]
           ],
           "sequentialminus": [
            [
             0,
             "#0d0887"
            ],
            [
             0.1111111111111111,
             "#46039f"
            ],
            [
             0.2222222222222222,
             "#7201a8"
            ],
            [
             0.3333333333333333,
             "#9c179e"
            ],
            [
             0.4444444444444444,
             "#bd3786"
            ],
            [
             0.5555555555555556,
             "#d8576b"
            ],
            [
             0.6666666666666666,
             "#ed7953"
            ],
            [
             0.7777777777777778,
             "#fb9f3a"
            ],
            [
             0.8888888888888888,
             "#fdca26"
            ],
            [
             1,
             "#f0f921"
            ]
           ]
          },
          "colorway": [
           "#636efa",
           "#EF553B",
           "#00cc96",
           "#ab63fa",
           "#FFA15A",
           "#19d3f3",
           "#FF6692",
           "#B6E880",
           "#FF97FF",
           "#FECB52"
          ],
          "font": {
           "color": "#2a3f5f"
          },
          "geo": {
           "bgcolor": "white",
           "lakecolor": "white",
           "landcolor": "#E5ECF6",
           "showlakes": true,
           "showland": true,
           "subunitcolor": "white"
          },
          "hoverlabel": {
           "align": "left"
          },
          "hovermode": "closest",
          "mapbox": {
           "style": "light"
          },
          "paper_bgcolor": "white",
          "plot_bgcolor": "#E5ECF6",
          "polar": {
           "angularaxis": {
            "gridcolor": "white",
            "linecolor": "white",
            "ticks": ""
           },
           "bgcolor": "#E5ECF6",
           "radialaxis": {
            "gridcolor": "white",
            "linecolor": "white",
            "ticks": ""
           }
          },
          "scene": {
           "xaxis": {
            "backgroundcolor": "#E5ECF6",
            "gridcolor": "white",
            "gridwidth": 2,
            "linecolor": "white",
            "showbackground": true,
            "ticks": "",
            "zerolinecolor": "white"
           },
           "yaxis": {
            "backgroundcolor": "#E5ECF6",
            "gridcolor": "white",
            "gridwidth": 2,
            "linecolor": "white",
            "showbackground": true,
            "ticks": "",
            "zerolinecolor": "white"
           },
           "zaxis": {
            "backgroundcolor": "#E5ECF6",
            "gridcolor": "white",
            "gridwidth": 2,
            "linecolor": "white",
            "showbackground": true,
            "ticks": "",
            "zerolinecolor": "white"
           }
          },
          "shapedefaults": {
           "line": {
            "color": "#2a3f5f"
           }
          },
          "ternary": {
           "aaxis": {
            "gridcolor": "white",
            "linecolor": "white",
            "ticks": ""
           },
           "baxis": {
            "gridcolor": "white",
            "linecolor": "white",
            "ticks": ""
           },
           "bgcolor": "#E5ECF6",
           "caxis": {
            "gridcolor": "white",
            "linecolor": "white",
            "ticks": ""
           }
          },
          "title": {
           "x": 0.05
          },
          "xaxis": {
           "automargin": true,
           "gridcolor": "white",
           "linecolor": "white",
           "ticks": "",
           "title": {
            "standoff": 15
           },
           "zerolinecolor": "white",
           "zerolinewidth": 2
          },
          "yaxis": {
           "automargin": true,
           "gridcolor": "white",
           "linecolor": "white",
           "ticks": "",
           "title": {
            "standoff": 15
           },
           "zerolinecolor": "white",
           "zerolinewidth": 2
          }
         }
        },
        "title": {
         "text": "Passenger Flow by Class, Sex, and Survival"
        }
       }
      }
     },
     "metadata": {},
     "output_type": "display_data"
    }
   ],
   "source": [
    "# Group by columns and count the number\n",
    "grouped_data = data.groupby([\"Pclass\", \"Sex\", \"Survived\"]).size()\n",
    "\n",
    "# Convert Series to DataFrame directly\n",
    "sankey_data = pd.DataFrame(grouped_data).reset_index()\n",
    "sankey_data = pd.DataFrame(grouped_data, columns=[\"Count\"]).reset_index()\n",
    "\n",
    "classes = sorted(data[\"Pclass\"].unique())\n",
    "sexes = sorted(data[\"Sex\"].unique())\n",
    "survival_status = [\"Did not Survive\", \"Survived\"]\n",
    "\n",
    "# Create nodes for the Sankey diagram\n",
    "nodes = {\n",
    "    **{f\"Class {cls}\": i for i, cls in enumerate(classes)},\n",
    "    **{sex: i + len(classes) for i, sex in enumerate(sexes)},\n",
    "    **{\n",
    "        status: i + len(classes) + len(sexes)\n",
    "        for i, status in enumerate(survival_status)\n",
    "    },\n",
    "}\n",
    "\n",
    "# Prepare sources, targets, and values for the Sankey diagram\n",
    "sources, targets, values = [], [], []\n",
    "\n",
    "for cls in classes:\n",
    "    for sex in sexes:\n",
    "        count = sankey_data[(sankey_data[\"Pclass\"] == cls) & (sankey_data[\"Sex\"] == sex)][\"Count\"].sum()\n",
    "        if count > 0:\n",
    "            sources.append(nodes[f\"Class {cls}\"])\n",
    "            targets.append(nodes[sex])\n",
    "            values.append(count)\n",
    "\n",
    "for sex in sexes:\n",
    "    for i, status in enumerate([0, 1]):\n",
    "        count = sankey_data[(sankey_data[\"Sex\"] == sex) & (sankey_data[\"Survived\"] == status)][\"Count\"].sum()\n",
    "        if count > 0:\n",
    "            sources.append(nodes[sex])\n",
    "            targets.append(nodes[survival_status[status]])\n",
    "            values.append(count)\n",
    "\n",
    "# Create and display the Sankey diagram\n",
    "fig = go.Figure(\n",
    "    go.Sankey(\n",
    "        node=dict(\n",
    "            pad=15,\n",
    "            thickness=20,\n",
    "            line=dict(color=\"black\", width=0.5),\n",
    "            label=list(nodes.keys()),\n",
    "        ),\n",
    "        link=dict(source=sources, target=targets, value=values),\n",
    "    )\n",
    ")\n",
    "fig.update_layout(title_text=\"Passenger Flow by Class, Sex, and Survival\", font_size=12)\n",
    "fig.show()"
   ]
  },
  {
   "cell_type": "markdown",
   "id": "6a701419-ef0a-457f-a54b-efc10d991278",
   "metadata": {},
   "source": [
    "Step 10: Visualize Fare vs Age by Class"
   ]
  },
  {
   "cell_type": "markdown",
   "id": "5f0700b2-5527-45f8-8fc3-d975db27aeee",
   "metadata": {},
   "source": [
    "We will now create a scatter plot to visualize the relationship between Age and Fare, with the size of the points representing the number of relatives."
   ]
  },
  {
   "cell_type": "code",
   "execution_count": 31,
   "id": "6f8ac815-b291-4f67-9a8b-517d40717e32",
   "metadata": {
    "scrolled": true
   },
   "outputs": [
    {
     "data": {
      "image/png": "[encoded data removed]",
      "text/plain": [
       "<Figure size 1000x600 with 1 Axes>"
      ]
     },
     "metadata": {},
     "output_type": "display_data"
    }
   ],
   "source": [
    "# Visualizing Fare vs Age by Class with the size of the points representing number of relatives\n",
    "plt.figure(figsize=(10, 6))\n",
    "sns.scatterplot(data=data, x=\"Age\", y=\"Fare\", hue=\"Pclass\", size=\"Relatives\", sizes=(20, 200))\n",
    "plt.title(\"Fare vs. Age by Class\")\n",
    "plt.xlabel(\"Age\")\n",
    "plt.ylabel(\"Fare\")\n",
    "plt.show()"
   ]
  },
  {
   "cell_type": "markdown",
   "id": "6d5cbf4e-228a-4508-b5c9-f02f0cf13b1d",
   "metadata": {},
   "source": [
    "Step 11: Analyze Survival by Age"
   ]
  },
  {
   "cell_type": "markdown",
   "id": "374e9902-de47-40a6-afc4-7515ac2671f8",
   "metadata": {},
   "source": [
    "We will analyze the number of survivors and non-survivors by age. This analysis helps us understand how survival rates vary across different age groups."
   ]
  },
  {
   "cell_type": "code",
   "execution_count": 32,
   "id": "2a1efaf9-c17c-4506-8fbd-a00e98b9203d",
   "metadata": {},
   "outputs": [
    {
     "data": {
      "image/png": "[encoded data removed]",
      "text/plain": [
       "<Figure size 1000x600 with 1 Axes>"
      ]
     },
     "metadata": {},
     "output_type": "display_data"
    }
   ],
   "source": [
    "age_survival = data.groupby([\"Age\", \"Survived\"], observed=False).size().unstack().fillna(0)\n",
    "age_survival.plot(figsize=(10, 6), title=\"Survived and Deceased by Age\")\n",
    "plt.xlabel(\"Age\")\n",
    "plt.ylabel(\"Number of Passengers\")\n",
    "plt.legend([\"Deceased\", \"Survived\"])\n",
    "plt.show()"
   ]
  },
  {
   "cell_type": "markdown",
   "id": "fe1da0a1-07e5-4be4-8186-e10d379e7c94",
   "metadata": {},
   "source": [
    "Step 12: Visualize Age Distribution of Passengers"
   ]
  },
  {
   "cell_type": "markdown",
   "id": "8124f744-377e-4d01-aec7-89617db1f91f",
   "metadata": {},
   "source": [
    "Next, we will create a histogram to visualize the age distribution of passengers. This visualization provides insights into the demographics of the passengers on board."
   ]
  },
  {
   "cell_type": "code",
   "execution_count": 33,
   "id": "08de5282-061b-42b1-be6a-1cf327aa0536",
   "metadata": {},
   "outputs": [
    {
     "data": {
      "image/png": "[encoded data removed]",
      "text/plain": [
       "<Figure size 1000x600 with 1 Axes>"
      ]
     },
     "metadata": {},
     "output_type": "display_data"
    }
   ],
   "source": [
    "plt.figure(figsize=(10, 6))\n",
    "sns.histplot(data=data, x=\"Age\", bins=30, kde=True)\n",
    "plt.title(\"Age Distribution of Passengers\")\n",
    "plt.xlabel(\"Age\")\n",
    "plt.ylabel(\"Frequency\")\n",
    "plt.show()"
   ]
  },
  {
   "cell_type": "markdown",
   "id": "7d9c4323-b239-45fc-86ef-c84c8322772f",
   "metadata": {},
   "source": [
    "Step 13: Visualize Passenger Count by Class"
   ]
  },
  {
   "cell_type": "markdown",
   "id": "1ef225b2-1df1-498d-b131-b861b50a99ed",
   "metadata": {},
   "source": [
    "We will create another count plot to visualize the total number of passengers in each class. This helps us understand class distribution among the passengers."
   ]
  },
  {
   "cell_type": "code",
   "execution_count": 34,
   "id": "1be6d820-7d6e-4dae-87fe-d230745410d8",
   "metadata": {},
   "outputs": [
    {
     "data": {
      "image/png": "[encoded data removed]",
      "text/plain": [
       "<Figure size 1000x600 with 1 Axes>"
      ]
     },
     "metadata": {},
     "output_type": "display_data"
    }
   ],
   "source": [
    "plt.figure(figsize=(10, 6))\n",
    "sns.countplot(data=data, x=\"Pclass\")\n",
    "plt.title(\"Passenger Count by Class\")\n",
    "plt.xlabel(\"Class\")\n",
    "plt.ylabel(\"Number of Passengers\")\n",
    "plt.show()"
   ]
  },
  {
   "cell_type": "markdown",
   "id": "e76f7bb4-5f2e-441a-b869-e0a3f643ded4",
   "metadata": {},
   "source": [
    "Step 14: Visualize Passenger Distribution by Gender"
   ]
  },
  {
   "cell_type": "markdown",
   "id": "e2221946-b732-42e3-a91b-f2dd51e57454",
   "metadata": {},
   "source": [
    "Next, we will visualize the distribution of passengers by gender using a count plot. This will help us see how many male and female passengers were on board.\n",
    "python"
   ]
  },
  {
   "cell_type": "code",
   "execution_count": 35,
   "id": "d1f3ff69-656d-4fec-9dcf-a4c4bbf65ae7",
   "metadata": {},
   "outputs": [
    {
     "data": {
      "image/png": "[encoded data removed]",
      "text/plain": [
       "<Figure size 800x600 with 1 Axes>"
      ]
     },
     "metadata": {},
     "output_type": "display_data"
    }
   ],
   "source": [
    "plt.figure(figsize=(8, 6))\n",
    "sns.countplot(data=data, y=\"Sex\", hue=\"Sex\", palette=\"pastel\", legend=False)\n",
    "plt.title(\"Passenger Distribution by Gender\")\n",
    "plt.xlabel(\"Number of Passengers\")\n",
    "plt.ylabel(\"Gender\")\n",
    "plt.show()"
   ]
  },
  {
   "cell_type": "markdown",
   "id": "870a5792-f936-47bf-82bf-f4f421caae02",
   "metadata": {},
   "source": [
    "Step 15: Visualize Survival Rate of Passengers"
   ]
  },
  {
   "cell_type": "markdown",
   "id": "d79b7420-fb41-49a7-b01d-e4ab99ec0c33",
   "metadata": {},
   "source": [
    "We will create a pie chart to visualize the survival rate of passengers. This provides a clear representation of the proportion of survivors versus non-survivors."
   ]
  },
  {
   "cell_type": "code",
   "execution_count": 36,
   "id": "4c4a7298-8010-4f42-9606-9fdc81666ff0",
   "metadata": {},
   "outputs": [
    {
     "data": {
      "application/vnd.plotly.v1+json": {
       "config": {
        "plotlyServerURL": "https://plot.ly"
       },
       "data": [
        {
         "domain": {
          "x": [
           0,
           1
          ],
          "y": [
           0,
           1
          ]
         },
         "hovertemplate": "label=%{label}<br>value=%{value}<extra></extra>",
         "labels": [
          0,
          1
         ],
         "legendgroup": "",
         "name": "",
         "showlegend": true,
         "type": "pie",
         "values": [
          549,
          342
         ]
        }
       ],
       "layout": {
        "legend": {
         "tracegroupgap": 0
        },
        "template": {
         "data": {
          "bar": [
           {
            "error_x": {
             "color": "#2a3f5f"
            },
            "error_y": {
             "color": "#2a3f5f"
            },
            "marker": {
             "line": {
              "color": "#E5ECF6",
              "width": 0.5
             },
             "pattern": {
              "fillmode": "overlay",
              "size": 10,
              "solidity": 0.2
             }
            },
            "type": "bar"
           }
          ],
          "barpolar": [
           {
            "marker": {
             "line": {
              "color": "#E5ECF6",
              "width": 0.5
             },
             "pattern": {
              "fillmode": "overlay",
              "size": 10,
              "solidity": 0.2
             }
            },
            "type": "barpolar"
           }
          ],
          "carpet": [
           {
            "aaxis": {
             "endlinecolor": "#2a3f5f",
             "gridcolor": "white",
             "linecolor": "white",
             "minorgridcolor": "white",
             "startlinecolor": "#2a3f5f"
            },
            "baxis": {
             "endlinecolor": "#2a3f5f",
             "gridcolor": "white",
             "linecolor": "white",
             "minorgridcolor": "white",
             "startlinecolor": "#2a3f5f"
            },
            "type": "carpet"
           }
          ],
          "choropleth": [
           {
            "colorbar": {
             "outlinewidth": 0,
             "ticks": ""
            },
            "type": "choropleth"
           }
          ],
          "contour": [
           {
            "colorbar": {
             "outlinewidth": 0,
             "ticks": ""
            },
            "colorscale": [
             [
              0,
              "#0d0887"
             ],
             [
              0.1111111111111111,
              "#46039f"
             ],
             [
              0.2222222222222222,
              "#7201a8"
             ],
             [
              0.3333333333333333,
              "#9c179e"
             ],
             [
              0.4444444444444444,
              "#bd3786"
             ],
             [
              0.5555555555555556,
              "#d8576b"
             ],
             [
              0.6666666666666666,
              "#ed7953"
             ],
             [
              0.7777777777777778,
              "#fb9f3a"
             ],
             [
              0.8888888888888888,
              "#fdca26"
             ],
             [
              1,
              "#f0f921"
             ]
            ],
            "type": "contour"
           }
          ],
          "contourcarpet": [
           {
            "colorbar": {
             "outlinewidth": 0,
             "ticks": ""
            },
            "type": "contourcarpet"
           }
          ],
          "heatmap": [
           {
            "colorbar": {
             "outlinewidth": 0,
             "ticks": ""
            },
            "colorscale": [
             [
              0,
              "#0d0887"
             ],
             [
              0.1111111111111111,
              "#46039f"
             ],
             [
              0.2222222222222222,
              "#7201a8"
             ],
             [
              0.3333333333333333,
              "#9c179e"
             ],
             [
              0.4444444444444444,
              "#bd3786"
             ],
             [
              0.5555555555555556,
              "#d8576b"
             ],
             [
              0.6666666666666666,
              "#ed7953"
             ],
             [
              0.7777777777777778,
              "#fb9f3a"
             ],
             [
              0.8888888888888888,
              "#fdca26"
             ],
             [
              1,
              "#f0f921"
             ]
            ],
            "type": "heatmap"
           }
          ],
          "heatmapgl": [
           {
            "colorbar": {
             "outlinewidth": 0,
             "ticks": ""
            },
            "colorscale": [
             [
              0,
              "#0d0887"
             ],
             [
              0.1111111111111111,
              "#46039f"
             ],
             [
              0.2222222222222222,
              "#7201a8"
             ],
             [
              0.3333333333333333,
              "#9c179e"
             ],
             [
              0.4444444444444444,
              "#bd3786"
             ],
             [
              0.5555555555555556,
              "#d8576b"
             ],
             [
              0.6666666666666666,
              "#ed7953"
             ],
             [
              0.7777777777777778,
              "#fb9f3a"
             ],
             [
              0.8888888888888888,
              "#fdca26"
             ],
             [
              1,
              "#f0f921"
             ]
            ],
            "type": "heatmapgl"
           }
          ],
          "histogram": [
           {
            "marker": {
             "pattern": {
              "fillmode": "overlay",
              "size": 10,
              "solidity": 0.2
             }
            },
            "type": "histogram"
           }
          ],
          "histogram2d": [
           {
            "colorbar": {
             "outlinewidth": 0,
             "ticks": ""
            },
            "colorscale": [
             [
              0,
              "#0d0887"
             ],
             [
              0.1111111111111111,
              "#46039f"
             ],
             [
              0.2222222222222222,
              "#7201a8"
             ],
             [
              0.3333333333333333,
              "#9c179e"
             ],
             [
              0.4444444444444444,
              "#bd3786"
             ],
             [
              0.5555555555555556,
              "#d8576b"
             ],
             [
              0.6666666666666666,
              "#ed7953"
             ],
             [
              0.7777777777777778,
              "#fb9f3a"
             ],
             [
              0.8888888888888888,
              "#fdca26"
             ],
             [
              1,
              "#f0f921"
             ]
            ],
            "type": "histogram2d"
           }
          ],
          "histogram2dcontour": [
           {
            "colorbar": {
             "outlinewidth": 0,
             "ticks": ""
            },
            "colorscale": [
             [
              0,
              "#0d0887"
             ],
             [
              0.1111111111111111,
              "#46039f"
             ],
             [
              0.2222222222222222,
              "#7201a8"
             ],
             [
              0.3333333333333333,
              "#9c179e"
             ],
             [
              0.4444444444444444,
              "#bd3786"
             ],
             [
              0.5555555555555556,
              "#d8576b"
             ],
             [
              0.6666666666666666,
              "#ed7953"
             ],
             [
              0.7777777777777778,
              "#fb9f3a"
             ],
             [
              0.8888888888888888,
              "#fdca26"
             ],
             [
              1,
              "#f0f921"
             ]
            ],
            "type": "histogram2dcontour"
           }
          ],
          "mesh3d": [
           {
            "colorbar": {
             "outlinewidth": 0,
             "ticks": ""
            },
            "type": "mesh3d"
           }
          ],
          "parcoords": [
           {
            "line": {
             "colorbar": {
              "outlinewidth": 0,
              "ticks": ""
             }
            },
            "type": "parcoords"
           }
          ],
          "pie": [
           {
            "automargin": true,
            "type": "pie"
           }
          ],
          "scatter": [
           {
            "fillpattern": {
             "fillmode": "overlay",
             "size": 10,
             "solidity": 0.2
            },
            "type": "scatter"
           }
          ],
          "scatter3d": [
           {
            "line": {
             "colorbar": {
              "outlinewidth": 0,
              "ticks": ""
             }
            },
            "marker": {
             "colorbar": {
              "outlinewidth": 0,
              "ticks": ""
             }
            },
            "type": "scatter3d"
           }
          ],
          "scattercarpet": [
           {
            "marker": {
             "colorbar": {
              "outlinewidth": 0,
              "ticks": ""
             }
            },
            "type": "scattercarpet"
           }
          ],
          "scattergeo": [
           {
            "marker": {
             "colorbar": {
              "outlinewidth": 0,
              "ticks": ""
             }
            },
            "type": "scattergeo"
           }
          ],
          "scattergl": [
           {
            "marker": {
             "colorbar": {
              "outlinewidth": 0,
              "ticks": ""
             }
            },
            "type": "scattergl"
           }
          ],
          "scattermapbox": [
           {
            "marker": {
             "colorbar": {
              "outlinewidth": 0,
              "ticks": ""
             }
            },
            "type": "scattermapbox"
           }
          ],
          "scatterpolar": [
           {
            "marker": {
             "colorbar": {
              "outlinewidth": 0,
              "ticks": ""
             }
            },
            "type": "scatterpolar"
           }
          ],
          "scatterpolargl": [
           {
            "marker": {
             "colorbar": {
              "outlinewidth": 0,
              "ticks": ""
             }
            },
            "type": "scatterpolargl"
           }
          ],
          "scatterternary": [
           {
            "marker": {
             "colorbar": {
              "outlinewidth": 0,
              "ticks": ""
             }
            },
            "type": "scatterternary"
           }
          ],
          "surface": [
           {
            "colorbar": {
             "outlinewidth": 0,
             "ticks": ""
            },
            "colorscale": [
             [
              0,
              "#0d0887"
             ],
             [
              0.1111111111111111,
              "#46039f"
             ],
             [
              0.2222222222222222,
              "#7201a8"
             ],
             [
              0.3333333333333333,
              "#9c179e"
             ],
             [
              0.4444444444444444,
              "#bd3786"
             ],
             [
              0.5555555555555556,
              "#d8576b"
             ],
             [
              0.6666666666666666,
              "#ed7953"
             ],
             [
              0.7777777777777778,
              "#fb9f3a"
             ],
             [
              0.8888888888888888,
              "#fdca26"
             ],
             [
              1,
              "#f0f921"
             ]
            ],
            "type": "surface"
           }
          ],
          "table": [
           {
            "cells": {
             "fill": {
              "color": "#EBF0F8"
             },
             "line": {
              "color": "white"
             }
            },
            "header": {
             "fill": {
              "color": "#C8D4E3"
             },
             "line": {
              "color": "white"
             }
            },
            "type": "table"
           }
          ]
         },
         "layout": {
          "annotationdefaults": {
           "arrowcolor": "#2a3f5f",
           "arrowhead": 0,
           "arrowwidth": 1
          },
          "autotypenumbers": "strict",
          "coloraxis": {
           "colorbar": {
            "outlinewidth": 0,
            "ticks": ""
           }
          },
          "colorscale": {
           "diverging": [
            [
             0,
             "#8e0152"
            ],
            [
             0.1,
             "#c51b7d"
            ],
            [
             0.2,
             "#de77ae"
            ],
            [
             0.3,
             "#f1b6da"
            ],
            [
             0.4,
             "#fde0ef"
            ],
            [
             0.5,
             "#f7f7f7"
            ],
            [
             0.6,
             "#e6f5d0"
            ],
            [
             0.7,
             "#b8e186"
            ],
            [
             0.8,
             "#7fbc41"
            ],
            [
             0.9,
             "#4d9221"
            ],
            [
             1,
             "#276419"
            ]
           ],
           "sequential": [
            [
             0,
             "#0d0887"
            ],
            [
             0.1111111111111111,
             "#46039f"
            ],
            [
             0.2222222222222222,
             "#7201a8"
            ],
            [
             0.3333333333333333,
             "#9c179e"
            ],
            [
             0.4444444444444444,
             "#bd3786"
            ],
            [
             0.5555555555555556,
             "#d8576b"
            ],
            [
             0.6666666666666666,
             "#ed7953"
            ],
            [
             0.7777777777777778,
             "#fb9f3a"
            ],
            [
             0.8888888888888888,
             "#fdca26"
            ],
            [
             1,
             "#f0f921"
            ]
           ],
           "sequentialminus": [
            [
             0,
             "#0d0887"
            ],
            [
             0.1111111111111111,
             "#46039f"
            ],
            [
             0.2222222222222222,
             "#7201a8"
            ],
            [
             0.3333333333333333,
             "#9c179e"
            ],
            [
             0.4444444444444444,
             "#bd3786"
            ],
            [
             0.5555555555555556,
             "#d8576b"
            ],
            [
             0.6666666666666666,
             "#ed7953"
            ],
            [
             0.7777777777777778,
             "#fb9f3a"
            ],
            [
             0.8888888888888888,
             "#fdca26"
            ],
            [
             1,
             "#f0f921"
            ]
           ]
          },
          "colorway": [
           "#636efa",
           "#EF553B",
           "#00cc96",
           "#ab63fa",
           "#FFA15A",
           "#19d3f3",
           "#FF6692",
           "#B6E880",
           "#FF97FF",
           "#FECB52"
          ],
          "font": {
           "color": "#2a3f5f"
          },
          "geo": {
           "bgcolor": "white",
           "lakecolor": "white",
           "landcolor": "#E5ECF6",
           "showlakes": true,
           "showland": true,
           "subunitcolor": "white"
          },
          "hoverlabel": {
           "align": "left"
          },
          "hovermode": "closest",
          "mapbox": {
           "style": "light"
          },
          "paper_bgcolor": "white",
          "plot_bgcolor": "#E5ECF6",
          "polar": {
           "angularaxis": {
            "gridcolor": "white",
            "linecolor": "white",
            "ticks": ""
           },
           "bgcolor": "#E5ECF6",
           "radialaxis": {
            "gridcolor": "white",
            "linecolor": "white",
            "ticks": ""
           }
          },
          "scene": {
           "xaxis": {
            "backgroundcolor": "#E5ECF6",
            "gridcolor": "white",
            "gridwidth": 2,
            "linecolor": "white",
            "showbackground": true,
            "ticks": "",
            "zerolinecolor": "white"
           },
           "yaxis": {
            "backgroundcolor": "#E5ECF6",
            "gridcolor": "white",
            "gridwidth": 2,
            "linecolor": "white",
            "showbackground": true,
            "ticks": "",
            "zerolinecolor": "white"
           },
           "zaxis": {
            "backgroundcolor": "#E5ECF6",
            "gridcolor": "white",
            "gridwidth": 2,
            "linecolor": "white",
            "showbackground": true,
            "ticks": "",
            "zerolinecolor": "white"
           }
          },
          "shapedefaults": {
           "line": {
            "color": "#2a3f5f"
           }
          },
          "ternary": {
           "aaxis": {
            "gridcolor": "white",
            "linecolor": "white",
            "ticks": ""
           },
           "baxis": {
            "gridcolor": "white",
            "linecolor": "white",
            "ticks": ""
           },
           "bgcolor": "#E5ECF6",
           "caxis": {
            "gridcolor": "white",
            "linecolor": "white",
            "ticks": ""
           }
          },
          "title": {
           "x": 0.05
          },
          "xaxis": {
           "automargin": true,
           "gridcolor": "white",
           "linecolor": "white",
           "ticks": "",
           "title": {
            "standoff": 15
           },
           "zerolinecolor": "white",
           "zerolinewidth": 2
          },
          "yaxis": {
           "automargin": true,
           "gridcolor": "white",
           "linecolor": "white",
           "ticks": "",
           "title": {
            "standoff": 15
           },
           "zerolinecolor": "white",
           "zerolinewidth": 2
          }
         }
        },
        "title": {
         "text": "Survival Rate of Passengers"
        }
       }
      }
     },
     "metadata": {},
     "output_type": "display_data"
    }
   ],
   "source": [
    "import plotly.express as px\n",
    "\n",
    "survival_counts = data[\"Survived\"].value_counts()\n",
    "fig = px.pie(names=survival_counts.index, values=survival_counts.values,\n",
    "              title=\"Survival Rate of Passengers\")\n",
    "fig.show()"
   ]
  },
  {
   "cell_type": "markdown",
   "id": "b30ba52a-6d57-451e-816d-fa17442ec5ce",
   "metadata": {},
   "source": [
    "Step 16: Visualize Fare Distribution by Class"
   ]
  },
  {
   "cell_type": "markdown",
   "id": "94e7ba4b-c10f-4c26-b5bb-bf9b761d4a82",
   "metadata": {},
   "source": [
    "We will create a box plot to visualize the fare distribution across different classes. This helps us understand how fares vary among different passenger classes."
   ]
  },
  {
   "cell_type": "code",
   "execution_count": 37,
   "id": "f4e0a7ec-527d-45a8-b989-bb9848e43212",
   "metadata": {},
   "outputs": [
    {
     "data": {
      "image/png": "[encoded data removed]",
      "text/plain": [
       "<Figure size 1000x600 with 1 Axes>"
      ]
     },
     "metadata": {},
     "output_type": "display_data"
    }
   ],
   "source": [
    "plt.figure(figsize=(10, 6))\n",
    "sns.boxplot(data=data, x=\"Pclass\", y=\"Fare\")\n",
    "plt.title(\"Fare by Class\")\n",
    "plt.xlabel(\"Class\")\n",
    "plt.ylabel(\"Fare\")\n",
    "plt.show()"
   ]
  },
  {
   "cell_type": "markdown",
   "id": "490102eb-b9a6-46e7-89e2-ce81a601d0f3",
   "metadata": {},
   "source": [
    "Step 17: Visualize Passenger Distribution by Class and Gender"
   ]
  },
  {
   "cell_type": "markdown",
   "id": "b0437066-bffe-4462-a9a2-c6e056f1f8d6",
   "metadata": {},
   "source": [
    "Next, we will use a sunburst chart to visualize the distribution of passengers based on class and gender. This hierarchical visualization provides insights into how different groups are represented.\n",
    "python"
   ]
  },
  {
   "cell_type": "code",
   "execution_count": 38,
   "id": "69f62aae-aa65-4329-b934-396f2e378878",
   "metadata": {},
   "outputs": [
    {
     "data": {
      "application/vnd.plotly.v1+json": {
       "config": {
        "plotlyServerURL": "https://plot.ly"
       },
       "data": [
        {
         "branchvalues": "total",
         "domain": {
          "x": [
           0,
           1
          ],
          "y": [
           0,
           1
          ]
         },
         "hovertemplate": "labels=%{label}<br>Fare=%{value}<br>parent=%{parent}<br>id=%{id}<extra></extra>",
         "ids": [
          "1/female",
          "2/female",
          "3/female",
          "1/male",
          "2/male",
          "3/male",
          "1",
          "2",
          "3"
         ],
         "labels": [
          "female",
          "female",
          "female",
          "male",
          "male",
          "male",
          "1",
          "2",
          "3"
         ],
         "name": "",
         "parents": [
          "1",
          "2",
          "3",
          "1",
          "2",
          "3",
          "",
          "",
          ""
         ],
         "type": "sunburst",
         "values": [
          15755.3834,
          2462.8917,
          3310.0379,
          12510.0209,
          3403.7457,
          6108.4073,
          28265.404300000002,
          5866.6374,
          9418.4452
         ]
        }
       ],
       "layout": {
        "legend": {
         "tracegroupgap": 0
        },
        "template": {
         "data": {
          "bar": [
           {
            "error_x": {
             "color": "#2a3f5f"
            },
            "error_y": {
             "color": "#2a3f5f"
            },
            "marker": {
             "line": {
              "color": "#E5ECF6",
              "width": 0.5
             },
             "pattern": {
              "fillmode": "overlay",
              "size": 10,
              "solidity": 0.2
             }
            },
            "type": "bar"
           }
          ],
          "barpolar": [
           {
            "marker": {
             "line": {
              "color": "#E5ECF6",
              "width": 0.5
             },
             "pattern": {
              "fillmode": "overlay",
              "size": 10,
              "solidity": 0.2
             }
            },
            "type": "barpolar"
           }
          ],
          "carpet": [
           {
            "aaxis": {
             "endlinecolor": "#2a3f5f",
             "gridcolor": "white",
             "linecolor": "white",
             "minorgridcolor": "white",
             "startlinecolor": "#2a3f5f"
            },
            "baxis": {
             "endlinecolor": "#2a3f5f",
             "gridcolor": "white",
             "linecolor": "white",
             "minorgridcolor": "white",
             "startlinecolor": "#2a3f5f"
            },
            "type": "carpet"
           }
          ],
          "choropleth": [
           {
            "colorbar": {
             "outlinewidth": 0,
             "ticks": ""
            },
            "type": "choropleth"
           }
          ],
          "contour": [
           {
            "colorbar": {
             "outlinewidth": 0,
             "ticks": ""
            },
            "colorscale": [
             [
              0,
              "#0d0887"
             ],
             [
              0.1111111111111111,
              "#46039f"
             ],
             [
              0.2222222222222222,
              "#7201a8"
             ],
             [
              0.3333333333333333,
              "#9c179e"
             ],
             [
              0.4444444444444444,
              "#bd3786"
             ],
             [
              0.5555555555555556,
              "#d8576b"
             ],
             [
              0.6666666666666666,
              "#ed7953"
             ],
             [
              0.7777777777777778,
              "#fb9f3a"
             ],
             [
              0.8888888888888888,
              "#fdca26"
             ],
             [
              1,
              "#f0f921"
             ]
            ],
            "type": "contour"
           }
          ],
          "contourcarpet": [
           {
            "colorbar": {
             "outlinewidth": 0,
             "ticks": ""
            },
            "type": "contourcarpet"
           }
          ],
          "heatmap": [
           {
            "colorbar": {
             "outlinewidth": 0,
             "ticks": ""
            },
            "colorscale": [
             [
              0,
              "#0d0887"
             ],
             [
              0.1111111111111111,
              "#46039f"
             ],
             [
              0.2222222222222222,
              "#7201a8"
             ],
             [
              0.3333333333333333,
              "#9c179e"
             ],
             [
              0.4444444444444444,
              "#bd3786"
             ],
             [
              0.5555555555555556,
              "#d8576b"
             ],
             [
              0.6666666666666666,
              "#ed7953"
             ],
             [
              0.7777777777777778,
              "#fb9f3a"
             ],
             [
              0.8888888888888888,
              "#fdca26"
             ],
             [
              1,
              "#f0f921"
             ]
            ],
            "type": "heatmap"
           }
          ],
          "heatmapgl": [
           {
            "colorbar": {
             "outlinewidth": 0,
             "ticks": ""
            },
            "colorscale": [
             [
              0,
              "#0d0887"
             ],
             [
              0.1111111111111111,
              "#46039f"
             ],
             [
              0.2222222222222222,
              "#7201a8"
             ],
             [
              0.3333333333333333,
              "#9c179e"
             ],
             [
              0.4444444444444444,
              "#bd3786"
             ],
             [
              0.5555555555555556,
              "#d8576b"
             ],
             [
              0.6666666666666666,
              "#ed7953"
             ],
             [
              0.7777777777777778,
              "#fb9f3a"
             ],
             [
              0.8888888888888888,
              "#fdca26"
             ],
             [
              1,
              "#f0f921"
             ]
            ],
            "type": "heatmapgl"
           }
          ],
          "histogram": [
           {
            "marker": {
             "pattern": {
              "fillmode": "overlay",
              "size": 10,
              "solidity": 0.2
             }
            },
            "type": "histogram"
           }
          ],
          "histogram2d": [
           {
            "colorbar": {
             "outlinewidth": 0,
             "ticks": ""
            },
            "colorscale": [
             [
              0,
              "#0d0887"
             ],
             [
              0.1111111111111111,
              "#46039f"
             ],
             [
              0.2222222222222222,
              "#7201a8"
             ],
             [
              0.3333333333333333,
              "#9c179e"
             ],
             [
              0.4444444444444444,
              "#bd3786"
             ],
             [
              0.5555555555555556,
              "#d8576b"
             ],
             [
              0.6666666666666666,
              "#ed7953"
             ],
             [
              0.7777777777777778,
              "#fb9f3a"
             ],
             [
              0.8888888888888888,
              "#fdca26"
             ],
             [
              1,
              "#f0f921"
             ]
            ],
            "type": "histogram2d"
           }
          ],
          "histogram2dcontour": [
           {
            "colorbar": {
             "outlinewidth": 0,
             "ticks": ""
            },
            "colorscale": [
             [
              0,
              "#0d0887"
             ],
             [
              0.1111111111111111,
              "#46039f"
             ],
             [
              0.2222222222222222,
              "#7201a8"
             ],
             [
              0.3333333333333333,
              "#9c179e"
             ],
             [
              0.4444444444444444,
              "#bd3786"
             ],
             [
              0.5555555555555556,
              "#d8576b"
             ],
             [
              0.6666666666666666,
              "#ed7953"
             ],
             [
              0.7777777777777778,
              "#fb9f3a"
             ],
             [
              0.8888888888888888,
              "#fdca26"
             ],
             [
              1,
              "#f0f921"
             ]
            ],
            "type": "histogram2dcontour"
           }
          ],
          "mesh3d": [
           {
            "colorbar": {
             "outlinewidth": 0,
             "ticks": ""
            },
            "type": "mesh3d"
           }
          ],
          "parcoords": [
           {
            "line": {
             "colorbar": {
              "outlinewidth": 0,
              "ticks": ""
             }
            },
            "type": "parcoords"
           }
          ],
          "pie": [
           {
            "automargin": true,
            "type": "pie"
           }
          ],
          "scatter": [
           {
            "fillpattern": {
             "fillmode": "overlay",
             "size": 10,
             "solidity": 0.2
            },
            "type": "scatter"
           }
          ],
          "scatter3d": [
           {
            "line": {
             "colorbar": {
              "outlinewidth": 0,
              "ticks": ""
             }
            },
            "marker": {
             "colorbar": {
              "outlinewidth": 0,
              "ticks": ""
             }
            },
            "type": "scatter3d"
           }
          ],
          "scattercarpet": [
           {
            "marker": {
             "colorbar": {
              "outlinewidth": 0,
              "ticks": ""
             }
            },
            "type": "scattercarpet"
           }
          ],
          "scattergeo": [
           {
            "marker": {
             "colorbar": {
              "outlinewidth": 0,
              "ticks": ""
             }
            },
            "type": "scattergeo"
           }
          ],
          "scattergl": [
           {
            "marker": {
             "colorbar": {
              "outlinewidth": 0,
              "ticks": ""
             }
            },
            "type": "scattergl"
           }
          ],
          "scattermapbox": [
           {
            "marker": {
             "colorbar": {
              "outlinewidth": 0,
              "ticks": ""
             }
            },
            "type": "scattermapbox"
           }
          ],
          "scatterpolar": [
           {
            "marker": {
             "colorbar": {
              "outlinewidth": 0,
              "ticks": ""
             }
            },
            "type": "scatterpolar"
           }
          ],
          "scatterpolargl": [
           {
            "marker": {
             "colorbar": {
              "outlinewidth": 0,
              "ticks": ""
             }
            },
            "type": "scatterpolargl"
           }
          ],
          "scatterternary": [
           {
            "marker": {
             "colorbar": {
              "outlinewidth": 0,
              "ticks": ""
             }
            },
            "type": "scatterternary"
           }
          ],
          "surface": [
           {
            "colorbar": {
             "outlinewidth": 0,
             "ticks": ""
            },
            "colorscale": [
             [
              0,
              "#0d0887"
             ],
             [
              0.1111111111111111,
              "#46039f"
             ],
             [
              0.2222222222222222,
              "#7201a8"
             ],
             [
              0.3333333333333333,
              "#9c179e"
             ],
             [
              0.4444444444444444,
              "#bd3786"
             ],
             [
              0.5555555555555556,
              "#d8576b"
             ],
             [
              0.6666666666666666,
              "#ed7953"
             ],
             [
              0.7777777777777778,
              "#fb9f3a"
             ],
             [
              0.8888888888888888,
              "#fdca26"
             ],
             [
              1,
              "#f0f921"
             ]
            ],
            "type": "surface"
           }
          ],
          "table": [
           {
            "cells": {
             "fill": {
              "color": "#EBF0F8"
             },
             "line": {
              "color": "white"
             }
            },
            "header": {
             "fill": {
              "color": "#C8D4E3"
             },
             "line": {
              "color": "white"
             }
            },
            "type": "table"
           }
          ]
         },
         "layout": {
          "annotationdefaults": {
           "arrowcolor": "#2a3f5f",
           "arrowhead": 0,
           "arrowwidth": 1
          },
          "autotypenumbers": "strict",
          "coloraxis": {
           "colorbar": {
            "outlinewidth": 0,
            "ticks": ""
           }
          },
          "colorscale": {
           "diverging": [
            [
             0,
             "#8e0152"
            ],
            [
             0.1,
             "#c51b7d"
            ],
            [
             0.2,
             "#de77ae"
            ],
            [
             0.3,
             "#f1b6da"
            ],
            [
             0.4,
             "#fde0ef"
            ],
            [
             0.5,
             "#f7f7f7"
            ],
            [
             0.6,
             "#e6f5d0"
            ],
            [
             0.7,
             "#b8e186"
            ],
            [
             0.8,
             "#7fbc41"
            ],
            [
             0.9,
             "#4d9221"
            ],
            [
             1,
             "#276419"
            ]
           ],
           "sequential": [
            [
             0,
             "#0d0887"
            ],
            [
             0.1111111111111111,
             "#46039f"
            ],
            [
             0.2222222222222222,
             "#7201a8"
            ],
            [
             0.3333333333333333,
             "#9c179e"
            ],
            [
             0.4444444444444444,
             "#bd3786"
            ],
            [
             0.5555555555555556,
             "#d8576b"
            ],
            [
             0.6666666666666666,
             "#ed7953"
            ],
            [
             0.7777777777777778,
             "#fb9f3a"
            ],
            [
             0.8888888888888888,
             "#fdca26"
            ],
            [
             1,
             "#f0f921"
            ]
           ],
           "sequentialminus": [
            [
             0,
             "#0d0887"
            ],
            [
             0.1111111111111111,
             "#46039f"
            ],
            [
             0.2222222222222222,
             "#7201a8"
            ],
            [
             0.3333333333333333,
             "#9c179e"
            ],
            [
             0.4444444444444444,
             "#bd3786"
            ],
            [
             0.5555555555555556,
             "#d8576b"
            ],
            [
             0.6666666666666666,
             "#ed7953"
            ],
            [
             0.7777777777777778,
             "#fb9f3a"
            ],
            [
             0.8888888888888888,
             "#fdca26"
            ],
            [
             1,
             "#f0f921"
            ]
           ]
          },
          "colorway": [
           "#636efa",
           "#EF553B",
           "#00cc96",
           "#ab63fa",
           "#FFA15A",
           "#19d3f3",
           "#FF6692",
           "#B6E880",
           "#FF97FF",
           "#FECB52"
          ],
          "font": {
           "color": "#2a3f5f"
          },
          "geo": {
           "bgcolor": "white",
           "lakecolor": "white",
           "landcolor": "#E5ECF6",
           "showlakes": true,
           "showland": true,
           "subunitcolor": "white"
          },
          "hoverlabel": {
           "align": "left"
          },
          "hovermode": "closest",
          "mapbox": {
           "style": "light"
          },
          "paper_bgcolor": "white",
          "plot_bgcolor": "#E5ECF6",
          "polar": {
           "angularaxis": {
            "gridcolor": "white",
            "linecolor": "white",
            "ticks": ""
           },
           "bgcolor": "#E5ECF6",
           "radialaxis": {
            "gridcolor": "white",
            "linecolor": "white",
            "ticks": ""
           }
          },
          "scene": {
           "xaxis": {
            "backgroundcolor": "#E5ECF6",
            "gridcolor": "white",
            "gridwidth": 2,
            "linecolor": "white",
            "showbackground": true,
            "ticks": "",
            "zerolinecolor": "white"
           },
           "yaxis": {
            "backgroundcolor": "#E5ECF6",
            "gridcolor": "white",
            "gridwidth": 2,
            "linecolor": "white",
            "showbackground": true,
            "ticks": "",
            "zerolinecolor": "white"
           },
           "zaxis": {
            "backgroundcolor": "#E5ECF6",
            "gridcolor": "white",
            "gridwidth": 2,
            "linecolor": "white",
            "showbackground": true,
            "ticks": "",
            "zerolinecolor": "white"
           }
          },
          "shapedefaults": {
           "line": {
            "color": "#2a3f5f"
           }
          },
          "ternary": {
           "aaxis": {
            "gridcolor": "white",
            "linecolor": "white",
            "ticks": ""
           },
           "baxis": {
            "gridcolor": "white",
            "linecolor": "white",
            "ticks": ""
           },
           "bgcolor": "#E5ECF6",
           "caxis": {
            "gridcolor": "white",
            "linecolor": "white",
            "ticks": ""
           }
          },
          "title": {
           "x": 0.05
          },
          "xaxis": {
           "automargin": true,
           "gridcolor": "white",
           "linecolor": "white",
           "ticks": "",
           "title": {
            "standoff": 15
           },
           "zerolinecolor": "white",
           "zerolinewidth": 2
          },
          "yaxis": {
           "automargin": true,
           "gridcolor": "white",
           "linecolor": "white",
           "ticks": "",
           "title": {
            "standoff": 15
           },
           "zerolinecolor": "white",
           "zerolinewidth": 2
          }
         }
        },
        "title": {
         "text": "Passenger Distribution by Class and Gender"
        }
       }
      }
     },
     "metadata": {},
     "output_type": "display_data"
    }
   ],
   "source": [
    "import warnings\n",
    "\n",
    "# Suppress FutureWarnings\n",
    "warnings.simplefilter(action=\"ignore\", category=FutureWarning)\n",
    "\n",
    "\n",
    "fig = px.sunburst(data,\n",
    "                  path=[\"Pclass\", \"Sex\"],\n",
    "                  values=\"Fare\",\n",
    "                  title=\"Passenger Distribution by Class and Gender\")\n",
    "fig.show()"
   ]
  },
  {
   "cell_type": "markdown",
   "id": "b23af2f0-68be-476d-abf6-d91360cadbfe",
   "metadata": {},
   "source": [
    "Step 18: Create a 3D Scatter Plot of Age, Relatives, and Fare"
   ]
  },
  {
   "cell_type": "markdown",
   "id": "51c25da7-e4a0-4b09-bf63-6f9dae5116b7",
   "metadata": {},
   "source": [
    "We will create a 3D scatter plot to visualize the relationship between Age, Number of Relatives, and Fare. This visualization allows us to explore how these three variables interact with each other.\n",
    "python"
   ]
  },
  {
   "cell_type": "code",
   "execution_count": 39,
   "id": "229b8430-60b3-488d-8e8b-164aae47b83e",
   "metadata": {},
   "outputs": [
    {
     "data": {
      "application/vnd.plotly.v1+json": {
       "config": {
        "plotlyServerURL": "https://plot.ly"
       },
       "data": [
        {
         "hovertemplate": "Pclass=3<br>Age=%{x}<br>Relatives=%{y}<br>Fare=%{marker.size}<extra></extra>",
         "legendgroup": "3",
         "marker": {
          "color": "#636efa",
          "size": [
           7.25,
           7.925,
           8.05,
           8.4583,
           21.075,
           11.1333,
           16.7,
           8.05,
           31.275,
           7.8542,
           29.125,
           18,
           7.225,
           8.0292,
           21.075,
           31.3875,
           7.225,
           7.8792,
           7.8958,
           7.75,
           7.2292,
           8.05,
           18,
           11.2417,
           9.475,
           7.8958,
           7.8792,
           8.05,
           15.5,
           7.75,
           21.6792,
           17.8,
           39.6875,
           7.8,
           7.2292,
           46.9,
           7.2292,
           27.9,
           15.2458,
           8.1583,
           7.925,
           8.6625,
           46.9,
           14.4542,
           56.4958,
           7.65,
           7.8958,
           8.05,
           12.475,
           9,
           9.5,
           7.7875,
           15.85,
           34.375,
           8.05,
           8.05,
           8.05,
           7.8542,
           20.575,
           7.25,
           8.05,
           7.8958,
           7.8958,
           8.6542,
           7.925,
           7.8958,
           7.65,
           7.775,
           7.8958,
           24.15,
           14.4542,
           8.05,
           9.825,
           14.4583,
           7.925,
           7.75,
           31.275,
           8.05,
           11.2417,
           7.75,
           7.1417,
           22.3583,
           6.975,
           7.8958,
           7.05,
           14.5,
           9.2167,
           15.2458,
           7.75,
           15.85,
           6.75,
           7.7958,
           34.375,
           8.05,
           14.5,
           7.3125,
           7.7333,
           8.05,
           8.6625,
           69.55,
           16.1,
           7.775,
           8.6625,
           39.6875,
           20.525,
           27.9,
           56.4958,
           29.125,
           11.1333,
           7.925,
           7.8542,
           25.4667,
           0,
           69.55,
           31.3875,
           22.025,
           15.5,
           15.5,
           7.8958,
           7.8542,
           7.75,
           8.4042,
           7.75,
           9.5,
           69.55,
           6.4958,
           7.225,
           8.05,
           10.4625,
           15.85,
           18.7875,
           7.75,
           7.05,
           7.25,
           7.75,
           7.925,
           8.05,
           8.05,
           7.8958,
           9.35,
           7.25,
           25.4667,
           7.775,
           31.3875,
           7.55,
           14.4542,
           15.5,
           7.125,
           7.225,
           7.775,
           7.25,
           10.4625,
           16.1,
           20.2125,
           15.2458,
           7.75,
           31.3875,
           7.75,
           39.6875,
           7.775,
           0,
           7.75,
           7.75,
           29.125,
           20.25,
           7.75,
           7.8542,
           9.5,
           8.05,
           8.6625,
           9.5,
           7.8958,
           7.75,
           8.85,
           7.8958,
           7.2292,
           7.75,
           23.25,
           0,
           8.05,
           7.8958,
           7.8542,
           7.25,
           7.8958,
           69.55,
           6.2375,
           20.525,
           23.25,
           18,
           7.8958,
           8.05,
           16.1,
           15.9,
           8.6625,
           9.225,
           7.2292,
           17.8,
           7.225,
           9.5,
           7.8792,
           7.8792,
           27.9,
           14.4542,
           7.05,
           15.5,
           7.25,
           7.2292,
           7.75,
           6.4958,
           8.05,
           21.075,
           7.25,
           4.0125,
           7.775,
           15.7417,
           7.925,
           7.8958,
           46.9,
           7.7292,
           7.7958,
           7.925,
           16.7,
           7.7958,
           7.8542,
           7.925,
           8.05,
           9.825,
           15.85,
           8.6625,
           7.75,
           7.775,
           25.4667,
           7.8958,
           6.8583,
           7.925,
           8.05,
           24.15,
           7.8958,
           7.7333,
           7.875,
           14.4,
           20.2125,
           7.25,
           7.75,
           8.05,
           16.1,
           7.125,
           34.375,
           9.5,
           7.775,
           8.1125,
           19.2583,
           19.9667,
           8.05,
           7.8958,
           7.75,
           8.05,
           8.05,
           7.05,
           7.725,
           19.2583,
           7.25,
           8.6625,
           9.8375,
           7.0458,
           7.5208,
           12.2875,
           46.9,
           8.05,
           9.5875,
           25.4667,
           8.05,
           15.9,
           19.9667,
           7.25,
           8.05,
           14.4583,
           15.1,
           7.7958,
           8.6625,
           7.75,
           7.6292,
           9.5875,
           22.525,
           56.4958,
           7.75,
           8.05,
           7.4958,
           24.15,
           7.8958,
           7.8958,
           7.225,
           7.2292,
           7.75,
           7.925,
           7.2292,
           7.2292,
           22.3583,
           8.6625,
           14.5,
           31.275,
           31.275,
           20.525,
           7.8292,
           7.225,
           7.775,
           17.4,
           7.75,
           7.8958,
           8.05,
           8.05,
           24.15,
           7.8958,
           21.075,
           7.2292,
           7.8542,
           7.75,
           8.05,
           14.5,
           14.4583,
           7.925,
           8.7125,
           8.05,
           8.05,
           7.125,
           7.25,
           7.75,
           24.15,
           0,
           7.225,
           7.8958,
           8.05,
           15.55,
           7.8958,
           31.275,
           7.05,
           15.5,
           7.75,
           8.05,
           14.4,
           16.1,
           14.4542,
           15.7417,
           7.8542,
           16.1,
           7.8958,
           7.7333,
           7.0542,
           27.9,
           7.925,
           39.6875,
           16.1,
           7.8542,
           27.9,
           56.4958,
           19.2583,
           7.8958,
           7.55,
           7.55,
           7.8958,
           8.4333,
           7.8292,
           6.75,
           7.8958,
           15.5,
           7.225,
           7.4958,
           7.925,
           7.775,
           8.05,
           7.775,
           8.05,
           9.8417,
           46.9,
           8.1375,
           9.225,
           46.9,
           39.6875,
           10.1708,
           7.7958,
           13.4167,
           56.4958,
           7.225,
           8.05,
           7.7333,
           7.65,
           14.4542,
           7.7417,
           7.8542,
           15.2458,
           9.4833,
           7.65,
           15.5,
           7.775,
           7.0542,
           8.6625,
           7.7375,
           7.925,
           18.7875,
           16.1,
           34.375,
           7.8958,
           7.8958,
           16.1,
           7.925,
           20.25,
           7.75,
           12.475,
           9.5,
           7.8958,
           7.7958,
           8.05,
           14.5,
           7.125,
           7.2292,
           7.775,
           7.75,
           24.15,
           8.3625,
           9.5,
           7.8542,
           7.225,
           7.75,
           7.75,
           12.475,
           7.7375,
           7.2292,
           23.45,
           7.05,
           7.25,
           7.4958,
           29.125,
           20.575,
           7.75,
           69.55,
           7.8958,
           8.6833,
           7.2292,
           24.15,
           8.5167,
           6.975,
           7.775,
           7.775,
           7.8875,
           24.15,
           31.275,
           8.05,
           7.925,
           6.45,
           27.9,
           8.6625,
           12.475,
           39.6875,
           6.95,
           56.4958,
           7.75,
           14.4542,
           7.2292,
           7.8542,
           8.3,
           8.6625,
           8.05,
           56.4958,
           7.925,
           6.4375,
           8.6625,
           7.55,
           69.55,
           7.8958,
           31.275,
           7.775,
           15.2458,
           9.35,
           19.2583,
           7.2292,
           14.1083,
           69.55,
           9.5,
           11.1333,
           7.8958,
           9,
           7.225,
           9.8458,
           7.8958,
           7.8958,
           7.8958,
           10.5167,
           7.05,
           29.125,
           23.45,
           7.75,
           7.8292,
           7,
           8.6625,
           12.2875,
           9.225,
           7.6292,
           7.2292,
           24.15,
           7.8958,
           7.225,
           7.925,
           7.225,
           3.1708,
           14.5,
           7.225,
           21.6792,
           20.575,
           23.45,
           7.2292,
           8.05,
           8.6625,
           9.5,
           56.4958,
           13.4167,
           7.85,
           7.925,
           7.75,
           15.9,
           29.125,
           7.8958,
           7.65,
           16.1,
           7.8958,
           7.75,
           7.725,
           7.8792,
           7.75,
           7.8958,
           7.925,
           8.05,
           7.75,
           15.2458,
           7.8958,
           14.4542,
           7.8792,
           8.05,
           7.75,
           13.9,
           7.775,
           8.05,
           7.7958,
           7.925,
           7.8542,
           8.05,
           7.75,
           7.775,
           8.5167,
           22.525,
           7.8208,
           7.75,
           8.7125,
           7.7792,
           7.2833,
           14.4542,
           6.4375,
           16.7,
           7.75,
           7.25,
           7.75,
           16.1,
           7.7958,
           23.25,
           8.05,
           8.05,
           25.4667,
           6.4375,
           7.8958,
           7.8542,
           7.225,
           8.05,
           46.9,
           46.9,
           18,
           8.05,
           7.8958,
           0,
           12.1833,
           31.3875,
           7.55,
           7.8542,
           13.775,
           7.7333,
           15.2458,
           7,
           22.025,
           34.375,
           8.9625,
           7.55,
           7.225,
           13.9,
           7.2292,
           31.3875,
           7.75,
           8.05,
           69.55,
           14.5,
           7.8542,
           7.775,
           8.1125,
           15.5,
           14.4,
           7.75,
           7.8958,
           22.525,
           7.05,
           7.775,
           7.8792,
           8.05,
           8.05,
           7.7958,
           15.2458,
           7.7958,
           7.75,
           15.1,
           6.4958,
           7.8792,
           7.8542,
           7.225,
           7.8875,
           23.45,
           14.4542,
           7.925,
           9.325,
           9.5,
           7.55,
           7.75,
           8.05,
           7.775,
           17.4,
           7.8542,
           12.1833,
           7.8958,
           7.55,
           8.05,
           8.6625,
           7.75,
           15.5,
           7.225,
           8.6625,
           13.775,
           7.75,
           15.2458,
           20.2125,
           7.25,
           7.25,
           7.2292,
           8.05,
           6.95,
           7.2292,
           9.5,
           7.8958,
           21.6792,
           7.8542,
           7.775,
           8.6625,
           7.75,
           9.35,
           14.1083,
           8.6625,
           7.225,
           7.575,
           7.75,
           7.7333,
           7.8542,
           7.775,
           7.2292,
           7.05,
           7.225,
           15.7417,
           7.8958,
           7.2292,
           7.2292,
           7.5792,
           69.55,
           14.5,
           7.65,
           7.2292,
           20.575,
           7.8792,
           7.75,
           15.55,
           69.55,
           8.6625,
           69.55,
           14.4583,
           39.6875,
           8.6625,
           31.3875,
           7.75,
           7.8792,
           14.5,
           16.1,
           7.775,
           7.75,
           21.075,
           20.25,
           22.025,
           7.25,
           7.775,
           7.7333,
           7.7208,
           13.775,
           7.75,
           7.775,
           8.05,
           7.25,
           8.05,
           22.3583
          ],
          "sizemode": "area",
          "sizeref": 1.280823,
          "symbol": "circle"
         },
         "mode": "markers",
         "name": "3",
         "scene": "scene",
         "showlegend": true,
         "type": "scatter3d",
         "x": [
          22,
          26,
          35,
          null,
          2,
          27,
          4,
          20,
          39,
          14,
          2,
          31,
          null,
          15,
          8,
          38,
          null,
          null,
          null,
          null,
          null,
          21,
          18,
          14,
          40,
          null,
          19,
          null,
          null,
          null,
          null,
          18,
          7,
          21,
          28.5,
          11,
          22,
          4,
          null,
          19,
          17,
          26,
          16,
          26,
          32,
          25,
          null,
          null,
          30,
          22,
          29,
          null,
          33,
          16,
          null,
          24,
          29,
          20,
          26,
          59,
          null,
          28,
          null,
          33,
          37,
          28,
          21,
          null,
          38,
          null,
          14.5,
          22,
          20,
          17,
          21,
          70.5,
          2,
          null,
          12,
          null,
          24,
          null,
          45,
          33,
          20,
          47,
          16,
          null,
          22,
          24,
          19,
          27,
          9,
          55.5,
          40.5,
          null,
          16,
          30,
          null,
          null,
          44,
          26,
          17,
          1,
          9,
          45,
          28,
          4,
          1,
          21,
          18,
          null,
          36,
          null,
          9,
          4,
          null,
          40,
          36,
          19,
          null,
          42,
          null,
          28,
          null,
          34,
          45.5,
          18,
          2,
          32,
          26,
          16,
          24,
          22,
          null,
          27,
          16,
          51,
          null,
          22,
          20.5,
          null,
          29,
          5,
          null,
          null,
          null,
          22,
          30,
          25,
          null,
          29,
          30,
          41,
          29,
          null,
          3,
          null,
          16,
          25,
          25,
          null,
          45,
          7,
          35,
          65,
          28,
          16,
          19,
          33,
          30,
          22,
          22,
          24,
          24,
          23.5,
          null,
          null,
          19,
          null,
          28,
          26,
          22,
          27,
          null,
          61,
          31,
          null,
          16,
          null,
          45,
          null,
          3,
          42,
          23,
          15,
          25,
          null,
          28,
          null,
          null,
          40,
          45,
          35,
          null,
          30,
          null,
          null,
          18,
          19,
          3,
          22,
          20,
          19,
          1,
          32,
          null,
          1,
          null,
          21,
          28,
          24,
          22,
          31,
          39,
          26,
          21,
          28,
          20,
          51,
          21,
          null,
          null,
          null,
          44,
          null,
          10,
          null,
          21,
          29,
          28,
          18,
          null,
          null,
          32,
          null,
          17,
          21,
          20,
          25,
          null,
          5,
          null,
          null,
          29,
          null,
          34,
          null,
          38,
          null,
          0.75,
          null,
          38,
          22,
          29,
          22,
          2,
          9,
          50,
          63,
          null,
          30,
          9,
          null,
          21,
          21,
          null,
          null,
          24,
          17,
          21,
          null,
          37,
          28,
          26,
          29,
          null,
          24,
          null,
          32,
          22,
          null,
          null,
          40.5,
          39,
          null,
          17,
          null,
          30,
          null,
          9,
          11,
          33,
          null,
          22,
          22,
          36,
          null,
          40,
          null,
          null,
          24,
          19,
          29,
          null,
          32,
          null,
          16,
          19,
          null,
          32,
          null,
          22,
          null,
          35,
          47,
          null,
          36,
          49,
          null,
          null,
          44,
          36,
          30,
          39,
          null,
          null,
          null,
          35,
          34,
          26,
          27,
          20,
          21,
          21,
          26,
          null,
          51,
          9,
          32,
          41,
          null,
          20,
          2,
          null,
          0.75,
          19,
          null,
          23,
          null,
          21,
          null,
          18,
          null,
          32,
          40,
          36,
          20,
          null,
          43,
          18,
          24.5,
          18,
          43,
          null,
          20,
          14,
          14,
          19,
          18,
          4,
          null,
          25,
          44,
          null,
          42,
          18,
          25,
          26,
          null,
          29,
          19,
          null,
          33,
          17,
          20,
          null,
          25,
          11,
          28.5,
          48,
          null,
          null,
          24,
          31,
          16,
          31,
          6,
          33,
          23,
          28,
          34,
          null,
          41,
          20,
          16,
          30.5,
          null,
          32,
          24,
          48,
          null,
          18,
          null,
          5,
          null,
          13,
          null,
          25,
          25,
          18,
          8,
          1,
          null,
          null,
          25,
          31,
          30,
          30,
          0.42,
          27,
          31,
          18,
          26,
          39,
          6,
          30.5,
          23,
          43,
          10,
          27,
          27,
          2,
          null,
          null,
          null,
          15,
          null,
          23,
          18,
          21,
          null,
          32,
          20,
          34.5,
          17,
          42,
          null,
          35,
          4,
          74,
          9,
          18,
          24,
          null,
          41,
          null,
          null,
          4,
          26,
          47,
          15,
          20,
          19,
          null,
          33,
          22,
          25,
          39,
          null,
          32,
          34.5,
          47,
          27,
          22,
          14,
          30,
          18,
          21,
          null,
          21,
          27,
          45,
          9,
          50,
          22.5,
          null,
          33,
          null,
          18.5,
          null,
          21,
          25,
          null,
          39,
          41,
          25,
          null,
          36,
          10,
          35,
          25,
          null,
          17,
          18,
          22,
          18,
          24,
          21,
          29,
          null,
          24,
          6,
          null,
          null,
          27,
          18,
          null,
          22,
          null,
          null,
          25,
          29,
          20,
          33,
          null,
          26,
          16,
          28,
          21,
          null,
          null,
          null,
          18.5,
          18,
          null,
          1,
          null,
          28,
          null,
          17,
          22,
          null,
          24,
          32,
          null,
          null,
          43,
          24,
          26.5,
          23,
          40,
          10,
          31,
          22,
          null,
          60.5,
          36,
          13,
          24,
          23,
          26,
          null,
          7,
          null,
          26,
          18,
          22,
          null,
          27,
          23,
          null,
          40,
          null,
          17,
          null,
          11.5,
          33,
          18,
          null,
          null,
          0.33,
          35,
          25,
          32,
          null,
          38,
          null,
          null,
          21,
          21,
          null,
          23,
          null,
          40.5,
          21,
          null,
          20,
          20,
          null,
          null,
          null,
          20,
          24,
          32.5,
          null,
          null,
          28,
          21,
          36.5,
          21,
          1,
          null,
          null,
          null,
          17,
          null,
          null,
          null,
          23,
          0.75,
          null,
          9,
          2,
          36,
          null,
          null,
          null,
          30,
          null,
          36,
          26,
          null,
          29,
          32,
          24,
          null,
          0.83,
          45,
          18,
          22,
          null,
          37,
          17,
          27,
          26,
          25,
          23,
          null,
          19,
          27,
          39,
          null,
          32,
          null,
          null,
          16,
          38,
          0.17,
          null,
          null,
          30,
          14.5,
          27,
          null,
          null,
          22,
          22,
          5,
          null,
          26,
          null,
          19,
          24,
          21,
          6,
          13,
          29,
          24,
          22,
          31,
          null,
          3,
          null,
          28,
          null,
          38.5,
          null,
          null
         ],
         "y": [
          1,
          0,
          0,
          0,
          4,
          2,
          2,
          0,
          6,
          0,
          5,
          1,
          0,
          0,
          4,
          6,
          0,
          0,
          0,
          0,
          0,
          0,
          2,
          1,
          1,
          0,
          0,
          0,
          1,
          0,
          2,
          1,
          5,
          0,
          0,
          7,
          0,
          5,
          2,
          0,
          6,
          2,
          7,
          1,
          0,
          0,
          0,
          0,
          0,
          0,
          0,
          0,
          3,
          4,
          0,
          0,
          0,
          0,
          3,
          0,
          0,
          0,
          0,
          0,
          2,
          0,
          0,
          0,
          0,
          1,
          1,
          0,
          1,
          0,
          0,
          0,
          6,
          0,
          1,
          0,
          0,
          2,
          0,
          0,
          0,
          1,
          0,
          2,
          0,
          1,
          0,
          0,
          4,
          0,
          2,
          0,
          0,
          0,
          0,
          10,
          1,
          0,
          0,
          5,
          2,
          5,
          0,
          5,
          2,
          0,
          2,
          4,
          0,
          10,
          6,
          2,
          1,
          2,
          0,
          1,
          0,
          1,
          0,
          0,
          10,
          0,
          0,
          0,
          1,
          1,
          0,
          0,
          0,
          0,
          1,
          0,
          0,
          0,
          0,
          0,
          0,
          4,
          0,
          6,
          0,
          1,
          1,
          0,
          0,
          0,
          0,
          2,
          1,
          2,
          2,
          0,
          6,
          0,
          5,
          1,
          0,
          0,
          0,
          5,
          2,
          0,
          0,
          0,
          0,
          0,
          0,
          0,
          0,
          0,
          0,
          0,
          0,
          2,
          0,
          0,
          0,
          0,
          0,
          0,
          10,
          0,
          2,
          2,
          2,
          0,
          0,
          1,
          2,
          0,
          0,
          2,
          1,
          0,
          0,
          0,
          0,
          5,
          1,
          0,
          1,
          0,
          0,
          0,
          1,
          0,
          4,
          0,
          0,
          0,
          2,
          0,
          0,
          7,
          0,
          0,
          2,
          2,
          0,
          0,
          0,
          0,
          1,
          1,
          0,
          0,
          0,
          4,
          0,
          0,
          0,
          0,
          2,
          0,
          0,
          0,
          2,
          2,
          0,
          0,
          0,
          1,
          0,
          4,
          0,
          1,
          0,
          3,
          1,
          0,
          0,
          0,
          0,
          0,
          0,
          0,
          3,
          0,
          0,
          0,
          1,
          0,
          1,
          7,
          0,
          0,
          4,
          0,
          2,
          1,
          0,
          0,
          0,
          0,
          0,
          0,
          0,
          0,
          0,
          0,
          0,
          0,
          0,
          0,
          0,
          0,
          0,
          0,
          0,
          0,
          0,
          0,
          2,
          2,
          0,
          0,
          6,
          6,
          2,
          0,
          0,
          0,
          1,
          0,
          0,
          0,
          0,
          2,
          0,
          4,
          0,
          0,
          0,
          0,
          0,
          1,
          0,
          0,
          0,
          0,
          0,
          0,
          2,
          2,
          0,
          0,
          0,
          0,
          1,
          0,
          6,
          0,
          1,
          0,
          0,
          2,
          1,
          1,
          2,
          0,
          0,
          0,
          0,
          0,
          5,
          0,
          5,
          1,
          0,
          5,
          0,
          3,
          0,
          0,
          0,
          0,
          0,
          0,
          0,
          0,
          2,
          0,
          0,
          1,
          0,
          0,
          0,
          0,
          0,
          7,
          0,
          0,
          7,
          5,
          0,
          0,
          1,
          0,
          0,
          0,
          0,
          0,
          1,
          0,
          1,
          2,
          0,
          0,
          0,
          0,
          1,
          0,
          0,
          1,
          0,
          0,
          4,
          0,
          0,
          1,
          0,
          2,
          0,
          1,
          0,
          0,
          0,
          0,
          0,
          0,
          0,
          0,
          0,
          1,
          0,
          0,
          0,
          0,
          0,
          0,
          0,
          0,
          0,
          3,
          0,
          0,
          0,
          5,
          3,
          0,
          10,
          0,
          0,
          0,
          2,
          1,
          0,
          0,
          0,
          0,
          0,
          6,
          0,
          0,
          0,
          5,
          0,
          1,
          5,
          0,
          0,
          0,
          1,
          0,
          0,
          0,
          0,
          0,
          0,
          0,
          0,
          0,
          0,
          10,
          0,
          6,
          0,
          2,
          1,
          3,
          0,
          2,
          10,
          0,
          2,
          0,
          0,
          0,
          0,
          0,
          0,
          0,
          0,
          0,
          5,
          3,
          0,
          0,
          1,
          0,
          2,
          0,
          0,
          0,
          2,
          0,
          0,
          1,
          0,
          1,
          1,
          0,
          2,
          3,
          3,
          0,
          0,
          0,
          0,
          0,
          1,
          0,
          0,
          0,
          2,
          5,
          0,
          0,
          1,
          0,
          0,
          0,
          0,
          0,
          0,
          0,
          0,
          0,
          2,
          0,
          1,
          0,
          0,
          0,
          1,
          0,
          0,
          0,
          0,
          0,
          0,
          0,
          0,
          2,
          0,
          0,
          0,
          0,
          0,
          0,
          1,
          0,
          2,
          1,
          0,
          0,
          1,
          0,
          2,
          0,
          0,
          4,
          1,
          0,
          0,
          0,
          0,
          7,
          7,
          3,
          0,
          0,
          0,
          2,
          6,
          0,
          0,
          2,
          0,
          2,
          0,
          2,
          4,
          0,
          0,
          0,
          1,
          0,
          6,
          0,
          2,
          10,
          2,
          0,
          0,
          0,
          0,
          2,
          0,
          0,
          0,
          0,
          6,
          0,
          0,
          0,
          0,
          2,
          0,
          0,
          0,
          1,
          0,
          0,
          0,
          0,
          3,
          1,
          0,
          0,
          0,
          0,
          0,
          0,
          0,
          1,
          0,
          2,
          0,
          0,
          0,
          0,
          0,
          1,
          0,
          0,
          2,
          0,
          2,
          2,
          0,
          0,
          0,
          0,
          0,
          0,
          0,
          0,
          2,
          0,
          0,
          0,
          0,
          1,
          1,
          0,
          0,
          0,
          0,
          0,
          0,
          0,
          0,
          0,
          0,
          2,
          0,
          2,
          0,
          0,
          10,
          2,
          0,
          0,
          3,
          0,
          0,
          1,
          10,
          0,
          10,
          1,
          0,
          2,
          6,
          0,
          0,
          0,
          1,
          0,
          0,
          4,
          2,
          4,
          0,
          0,
          0,
          0,
          2,
          0,
          0,
          0,
          0,
          0,
          2
         ],
         "z": [
          7.25,
          7.925,
          8.05,
          8.4583,
          21.075,
          11.1333,
          16.7,
          8.05,
          31.275,
          7.8542,
          29.125,
          18,
          7.225,
          8.0292,
          21.075,
          31.3875,
          7.225,
          7.8792,
          7.8958,
          7.75,
          7.2292,
          8.05,
          18,
          11.2417,
          9.475,
          7.8958,
          7.8792,
          8.05,
          15.5,
          7.75,
          21.6792,
          17.8,
          39.6875,
          7.8,
          7.2292,
          46.9,
          7.2292,
          27.9,
          15.2458,
          8.1583,
          7.925,
          8.6625,
          46.9,
          14.4542,
          56.4958,
          7.65,
          7.8958,
          8.05,
          12.475,
          9,
          9.5,
          7.7875,
          15.85,
          34.375,
          8.05,
          8.05,
          8.05,
          7.8542,
          20.575,
          7.25,
          8.05,
          7.8958,
          7.8958,
          8.6542,
          7.925,
          7.8958,
          7.65,
          7.775,
          7.8958,
          24.15,
          14.4542,
          8.05,
          9.825,
          14.4583,
          7.925,
          7.75,
          31.275,
          8.05,
          11.2417,
          7.75,
          7.1417,
          22.3583,
          6.975,
          7.8958,
          7.05,
          14.5,
          9.2167,
          15.2458,
          7.75,
          15.85,
          6.75,
          7.7958,
          34.375,
          8.05,
          14.5,
          7.3125,
          7.7333,
          8.05,
          8.6625,
          69.55,
          16.1,
          7.775,
          8.6625,
          39.6875,
          20.525,
          27.9,
          56.4958,
          29.125,
          11.1333,
          7.925,
          7.8542,
          25.4667,
          0,
          69.55,
          31.3875,
          22.025,
          15.5,
          15.5,
          7.8958,
          7.8542,
          7.75,
          8.4042,
          7.75,
          9.5,
          69.55,
          6.4958,
          7.225,
          8.05,
          10.4625,
          15.85,
          18.7875,
          7.75,
          7.05,
          7.25,
          7.75,
          7.925,
          8.05,
          8.05,
          7.8958,
          9.35,
          7.25,
          25.4667,
          7.775,
          31.3875,
          7.55,
          14.4542,
          15.5,
          7.125,
          7.225,
          7.775,
          7.25,
          10.4625,
          16.1,
          20.2125,
          15.2458,
          7.75,
          31.3875,
          7.75,
          39.6875,
          7.775,
          0,
          7.75,
          7.75,
          29.125,
          20.25,
          7.75,
          7.8542,
          9.5,
          8.05,
          8.6625,
          9.5,
          7.8958,
          7.75,
          8.85,
          7.8958,
          7.2292,
          7.75,
          23.25,
          0,
          8.05,
          7.8958,
          7.8542,
          7.25,
          7.8958,
          69.55,
          6.2375,
          20.525,
          23.25,
          18,
          7.8958,
          8.05,
          16.1,
          15.9,
          8.6625,
          9.225,
          7.2292,
          17.8,
          7.225,
          9.5,
          7.8792,
          7.8792,
          27.9,
          14.4542,
          7.05,
          15.5,
          7.25,
          7.2292,
          7.75,
          6.4958,
          8.05,
          21.075,
          7.25,
          4.0125,
          7.775,
          15.7417,
          7.925,
          7.8958,
          46.9,
          7.7292,
          7.7958,
          7.925,
          16.7,
          7.7958,
          7.8542,
          7.925,
          8.05,
          9.825,
          15.85,
          8.6625,
          7.75,
          7.775,
          25.4667,
          7.8958,
          6.8583,
          7.925,
          8.05,
          24.15,
          7.8958,
          7.7333,
          7.875,
          14.4,
          20.2125,
          7.25,
          7.75,
          8.05,
          16.1,
          7.125,
          34.375,
          9.5,
          7.775,
          8.1125,
          19.2583,
          19.9667,
          8.05,
          7.8958,
          7.75,
          8.05,
          8.05,
          7.05,
          7.725,
          19.2583,
          7.25,
          8.6625,
          9.8375,
          7.0458,
          7.5208,
          12.2875,
          46.9,
          8.05,
          9.5875,
          25.4667,
          8.05,
          15.9,
          19.9667,
          7.25,
          8.05,
          14.4583,
          15.1,
          7.7958,
          8.6625,
          7.75,
          7.6292,
          9.5875,
          22.525,
          56.4958,
          7.75,
          8.05,
          7.4958,
          24.15,
          7.8958,
          7.8958,
          7.225,
          7.2292,
          7.75,
          7.925,
          7.2292,
          7.2292,
          22.3583,
          8.6625,
          14.5,
          31.275,
          31.275,
          20.525,
          7.8292,
          7.225,
          7.775,
          17.4,
          7.75,
          7.8958,
          8.05,
          8.05,
          24.15,
          7.8958,
          21.075,
          7.2292,
          7.8542,
          7.75,
          8.05,
          14.5,
          14.4583,
          7.925,
          8.7125,
          8.05,
          8.05,
          7.125,
          7.25,
          7.75,
          24.15,
          0,
          7.225,
          7.8958,
          8.05,
          15.55,
          7.8958,
          31.275,
          7.05,
          15.5,
          7.75,
          8.05,
          14.4,
          16.1,
          14.4542,
          15.7417,
          7.8542,
          16.1,
          7.8958,
          7.7333,
          7.0542,
          27.9,
          7.925,
          39.6875,
          16.1,
          7.8542,
          27.9,
          56.4958,
          19.2583,
          7.8958,
          7.55,
          7.55,
          7.8958,
          8.4333,
          7.8292,
          6.75,
          7.8958,
          15.5,
          7.225,
          7.4958,
          7.925,
          7.775,
          8.05,
          7.775,
          8.05,
          9.8417,
          46.9,
          8.1375,
          9.225,
          46.9,
          39.6875,
          10.1708,
          7.7958,
          13.4167,
          56.4958,
          7.225,
          8.05,
          7.7333,
          7.65,
          14.4542,
          7.7417,
          7.8542,
          15.2458,
          9.4833,
          7.65,
          15.5,
          7.775,
          7.0542,
          8.6625,
          7.7375,
          7.925,
          18.7875,
          16.1,
          34.375,
          7.8958,
          7.8958,
          16.1,
          7.925,
          20.25,
          7.75,
          12.475,
          9.5,
          7.8958,
          7.7958,
          8.05,
          14.5,
          7.125,
          7.2292,
          7.775,
          7.75,
          24.15,
          8.3625,
          9.5,
          7.8542,
          7.225,
          7.75,
          7.75,
          12.475,
          7.7375,
          7.2292,
          23.45,
          7.05,
          7.25,
          7.4958,
          29.125,
          20.575,
          7.75,
          69.55,
          7.8958,
          8.6833,
          7.2292,
          24.15,
          8.5167,
          6.975,
          7.775,
          7.775,
          7.8875,
          24.15,
          31.275,
          8.05,
          7.925,
          6.45,
          27.9,
          8.6625,
          12.475,
          39.6875,
          6.95,
          56.4958,
          7.75,
          14.4542,
          7.2292,
          7.8542,
          8.3,
          8.6625,
          8.05,
          56.4958,
          7.925,
          6.4375,
          8.6625,
          7.55,
          69.55,
          7.8958,
          31.275,
          7.775,
          15.2458,
          9.35,
          19.2583,
          7.2292,
          14.1083,
          69.55,
          9.5,
          11.1333,
          7.8958,
          9,
          7.225,
          9.8458,
          7.8958,
          7.8958,
          7.8958,
          10.5167,
          7.05,
          29.125,
          23.45,
          7.75,
          7.8292,
          7,
          8.6625,
          12.2875,
          9.225,
          7.6292,
          7.2292,
          24.15,
          7.8958,
          7.225,
          7.925,
          7.225,
          3.1708,
          14.5,
          7.225,
          21.6792,
          20.575,
          23.45,
          7.2292,
          8.05,
          8.6625,
          9.5,
          56.4958,
          13.4167,
          7.85,
          7.925,
          7.75,
          15.9,
          29.125,
          7.8958,
          7.65,
          16.1,
          7.8958,
          7.75,
          7.725,
          7.8792,
          7.75,
          7.8958,
          7.925,
          8.05,
          7.75,
          15.2458,
          7.8958,
          14.4542,
          7.8792,
          8.05,
          7.75,
          13.9,
          7.775,
          8.05,
          7.7958,
          7.925,
          7.8542,
          8.05,
          7.75,
          7.775,
          8.5167,
          22.525,
          7.8208,
          7.75,
          8.7125,
          7.7792,
          7.2833,
          14.4542,
          6.4375,
          16.7,
          7.75,
          7.25,
          7.75,
          16.1,
          7.7958,
          23.25,
          8.05,
          8.05,
          25.4667,
          6.4375,
          7.8958,
          7.8542,
          7.225,
          8.05,
          46.9,
          46.9,
          18,
          8.05,
          7.8958,
          0,
          12.1833,
          31.3875,
          7.55,
          7.8542,
          13.775,
          7.7333,
          15.2458,
          7,
          22.025,
          34.375,
          8.9625,
          7.55,
          7.225,
          13.9,
          7.2292,
          31.3875,
          7.75,
          8.05,
          69.55,
          14.5,
          7.8542,
          7.775,
          8.1125,
          15.5,
          14.4,
          7.75,
          7.8958,
          22.525,
          7.05,
          7.775,
          7.8792,
          8.05,
          8.05,
          7.7958,
          15.2458,
          7.7958,
          7.75,
          15.1,
          6.4958,
          7.8792,
          7.8542,
          7.225,
          7.8875,
          23.45,
          14.4542,
          7.925,
          9.325,
          9.5,
          7.55,
          7.75,
          8.05,
          7.775,
          17.4,
          7.8542,
          12.1833,
          7.8958,
          7.55,
          8.05,
          8.6625,
          7.75,
          15.5,
          7.225,
          8.6625,
          13.775,
          7.75,
          15.2458,
          20.2125,
          7.25,
          7.25,
          7.2292,
          8.05,
          6.95,
          7.2292,
          9.5,
          7.8958,
          21.6792,
          7.8542,
          7.775,
          8.6625,
          7.75,
          9.35,
          14.1083,
          8.6625,
          7.225,
          7.575,
          7.75,
          7.7333,
          7.8542,
          7.775,
          7.2292,
          7.05,
          7.225,
          15.7417,
          7.8958,
          7.2292,
          7.2292,
          7.5792,
          69.55,
          14.5,
          7.65,
          7.2292,
          20.575,
          7.8792,
          7.75,
          15.55,
          69.55,
          8.6625,
          69.55,
          14.4583,
          39.6875,
          8.6625,
          31.3875,
          7.75,
          7.8792,
          14.5,
          16.1,
          7.775,
          7.75,
          21.075,
          20.25,
          22.025,
          7.25,
          7.775,
          7.7333,
          7.7208,
          13.775,
          7.75,
          7.775,
          8.05,
          7.25,
          8.05,
          22.3583
         ]
        },
        {
         "hovertemplate": "Pclass=1<br>Age=%{x}<br>Relatives=%{y}<br>Fare=%{marker.size}<extra></extra>",
         "legendgroup": "1",
         "marker": {
          "color": "#EF553B",
          "size": [
           71.2833,
           53.1,
           51.8625,
           26.55,
           35.5,
           263,
           27.7208,
           146.5208,
           82.1708,
           52,
           76.7292,
           61.9792,
           35.5,
           80,
           83.475,
           27.7208,
           47.1,
           263,
           61.175,
           34.6542,
           63.3583,
           77.2875,
           52,
           247.5208,
           77.2875,
           26.2833,
           53.1,
           79.2,
           66.6,
           61.3792,
           55,
           25.925,
           33.5,
           30.6958,
           28.7125,
           50,
           26.55,
           27.7208,
           146.5208,
           31,
           113.275,
           76.2917,
           90,
           83.475,
           90,
           52.5542,
           26.55,
           79.2,
           86.5,
           512.3292,
           79.65,
           0,
           153.4625,
           135.6333,
           31,
           29.7,
           77.9583,
           26,
           78.85,
           91.0792,
           27.7208,
           151.55,
           30.5,
           247.5208,
           151.55,
           110.8833,
           108.9,
           56.9292,
           83.1583,
           262.375,
           164.8667,
           134.5,
           135.6333,
           57.9792,
           28.5,
           153.4625,
           133.65,
           66.6,
           134.5,
           35.5,
           263,
           35,
           55,
           75.25,
           69.3,
           55.4417,
           135.6333,
           82.1708,
           211.5,
           227.525,
           52,
           120,
           113.275,
           90,
           26.55,
           55.9,
           120,
           263,
           81.8583,
           26.55,
           30.5,
           27.75,
           89.1042,
           26.55,
           51.8625,
           26.55,
           38.5,
           26.55,
           52,
           91.0792,
           90,
           29.7,
           30.5,
           49.5042,
           78.2667,
           151.55,
           86.5,
           108.9,
           26.55,
           26.2875,
           59.4,
           34.0208,
           93.5,
           57.9792,
           221.7792,
           26.55,
           106.425,
           49.5,
           71,
           106.425,
           26,
           110.8833,
           26.55,
           39.6,
           227.525,
           79.65,
           51.4792,
           26.3875,
           55.9,
           110.8833,
           40.125,
           79.65,
           79.2,
           78.2667,
           56.9292,
           42.4,
           26.55,
           30.5,
           153.4625,
           52.5542,
           32.3208,
           77.9583,
           30,
           30.5,
           0,
           69.3,
           76.7292,
           35.5,
           113.275,
           133.65,
           25.5875,
           52,
           52,
           512.3292,
           76.7292,
           211.3375,
           57,
           26.55,
           110.8833,
           227.525,
           26.2875,
           26.2875,
           151.55,
           49.5042,
           26.55,
           52,
           227.525,
           53.1,
           211.3375,
           512.3292,
           30,
           78.85,
           262.375,
           71,
           53.1,
           86.5,
           120,
           77.9583,
           39.6,
           211.3375,
           57,
           30,
           79.2,
           30.6958,
           25.9292,
           120,
           0,
           53.1,
           0,
           93.5,
           0,
           80,
           83.1583,
           29.7,
           31,
           89.1042,
           39.4,
           164.8667,
           26.55,
           25.9292,
           50.4958,
           52.5542,
           5,
           83.1583,
           30,
           30,
           26,
           82.2667,
           61.175,
           59.4,
           31.6833,
           61.3792,
           262.375,
           61.9792,
           30.5,
           57.75,
           26.55,
           52.5542,
           29.7,
           76.2917,
           60,
           263,
           262.375,
           262.375,
           42.4,
           28.5375,
           263,
           27.7208,
           211.5,
           211.5,
           25.7,
           221.7792,
           26,
           52,
           26,
           78.85,
           55.4417,
           31.6792,
           221.7792,
           75.2417,
           57.75,
           28.5,
           151.55,
           262.375,
           26.55,
           51.8625,
           26.55,
           83.1583,
           221.7792,
           26.55,
           50.4958,
           27.7208,
           55.4417,
           83.1583,
           83.1583,
           53.1,
           247.5208,
           26,
           134.5,
           227.525,
           25.7417,
           27.7208,
           42.5,
           164.8667,
           211.5,
           27.4458,
           26.55,
           71.2833,
           75.25,
           106.425,
           27.7208,
           134.5,
           51.8625,
           136.7792,
           0,
           75.2417,
           136.7792,
           82.2667,
           39.6,
           81.8583,
           45.5,
           26.55,
           151.55,
           93.5,
           135.6333,
           146.5208,
           26.55,
           211.3375,
           79.2,
           29.7,
           26,
           512.3292,
           63.3583,
           26,
           51.4792,
           55.4417,
           59.4,
           134.5,
           0,
           81.8583,
           262.375,
           50,
           93.5,
           39.4,
           60,
           79.2,
           164.8667,
           59.4,
           47.1,
           27.7208,
           211.5,
           90,
           108.9
          ],
          "sizemode": "area",
          "sizeref": 1.280823,
          "symbol": "circle"
         },
         "mode": "markers",
         "name": "1",
         "scene": "scene",
         "showlegend": true,
         "type": "scatter3d",
         "x": [
          38,
          35,
          54,
          58,
          28,
          19,
          40,
          null,
          28,
          42,
          49,
          65,
          null,
          38,
          45,
          null,
          28,
          23,
          46,
          71,
          23,
          21,
          47,
          24,
          54,
          19,
          37,
          24,
          22,
          51,
          null,
          null,
          61,
          56,
          50,
          null,
          45,
          44,
          58,
          40,
          31,
          32,
          38,
          35,
          44,
          37,
          62,
          null,
          30,
          35,
          52,
          40,
          58,
          35,
          null,
          37,
          63,
          null,
          26,
          19,
          null,
          2,
          null,
          50,
          0.92,
          null,
          17,
          30,
          24,
          18,
          31,
          40,
          36,
          16,
          45.5,
          38,
          null,
          29,
          41,
          45,
          24,
          null,
          22,
          60,
          24,
          25,
          22,
          null,
          27,
          42,
          35,
          36,
          23,
          33,
          28,
          50,
          14,
          64,
          4,
          34,
          52,
          30,
          49,
          65,
          null,
          48,
          47,
          56,
          null,
          25,
          35,
          58,
          55,
          71,
          54,
          25,
          16,
          18,
          null,
          36,
          54,
          47,
          30,
          44,
          null,
          45,
          30,
          22,
          36,
          50,
          64,
          17,
          62,
          48,
          null,
          39,
          53,
          36,
          39,
          39,
          36,
          18,
          60,
          52,
          49,
          null,
          35,
          27,
          40,
          42,
          61,
          21,
          80,
          32,
          null,
          24,
          48,
          56,
          58,
          50,
          47,
          null,
          31,
          36,
          27,
          15,
          31,
          60,
          49,
          18,
          35,
          42,
          22,
          24,
          null,
          48,
          38,
          27,
          29,
          35,
          null,
          36,
          21,
          70,
          19,
          33,
          36,
          51,
          null,
          43,
          17,
          29,
          46,
          null,
          49,
          11,
          39,
          33,
          null,
          52,
          38,
          62,
          39,
          null,
          30,
          null,
          16,
          45,
          51,
          48,
          31,
          47,
          33,
          56,
          19,
          26,
          46,
          23,
          47,
          55,
          null,
          21,
          48,
          22,
          41,
          30,
          null,
          45,
          45,
          60,
          24,
          28,
          36,
          13,
          47,
          31,
          60,
          28.5,
          35,
          32.5,
          55,
          67,
          49,
          27,
          25,
          76,
          43,
          36,
          63,
          36,
          35,
          53,
          33,
          61,
          42,
          null,
          null,
          23,
          29,
          42,
          48,
          null,
          54,
          64,
          37,
          18,
          27,
          null,
          6,
          47,
          null,
          33,
          42,
          57,
          50,
          53,
          21,
          39,
          64,
          48,
          55,
          45,
          41,
          27,
          null,
          46,
          26,
          24,
          null,
          53,
          30,
          64,
          30,
          55,
          55,
          57,
          33,
          39,
          46,
          39,
          30,
          58,
          45,
          50,
          59,
          25,
          45,
          31,
          49,
          54,
          45,
          55,
          23,
          51,
          18,
          48,
          30,
          22,
          17,
          43,
          50,
          37,
          39
         ],
         "y": [
          1,
          1,
          0,
          0,
          0,
          5,
          0,
          1,
          1,
          1,
          1,
          1,
          0,
          0,
          1,
          0,
          0,
          5,
          1,
          0,
          1,
          1,
          0,
          1,
          1,
          2,
          1,
          0,
          1,
          1,
          1,
          0,
          0,
          0,
          0,
          0,
          0,
          0,
          0,
          0,
          1,
          0,
          1,
          1,
          2,
          2,
          0,
          0,
          0,
          0,
          2,
          0,
          1,
          0,
          0,
          1,
          1,
          0,
          0,
          1,
          0,
          3,
          0,
          1,
          3,
          0,
          1,
          0,
          0,
          4,
          2,
          2,
          0,
          1,
          0,
          1,
          1,
          1,
          0,
          0,
          5,
          0,
          1,
          1,
          0,
          1,
          0,
          1,
          2,
          0,
          1,
          3,
          1,
          1,
          0,
          1,
          3,
          5,
          2,
          0,
          0,
          0,
          1,
          0,
          1,
          0,
          0,
          0,
          0,
          1,
          1,
          0,
          0,
          0,
          1,
          3,
          0,
          1,
          0,
          0,
          1,
          0,
          0,
          1,
          0,
          0,
          0,
          2,
          2,
          1,
          0,
          2,
          0,
          1,
          0,
          2,
          2,
          0,
          1,
          2,
          0,
          2,
          2,
          1,
          1,
          0,
          0,
          0,
          0,
          1,
          0,
          0,
          0,
          0,
          0,
          0,
          1,
          0,
          2,
          2,
          0,
          1,
          1,
          1,
          0,
          1,
          1,
          0,
          2,
          1,
          0,
          0,
          0,
          0,
          0,
          1,
          0,
          1,
          0,
          0,
          0,
          1,
          4,
          2,
          1,
          0,
          3,
          1,
          0,
          1,
          1,
          0,
          0,
          0,
          0,
          3,
          0,
          1,
          0,
          2,
          0,
          0,
          2,
          0,
          0,
          1,
          1,
          2,
          0,
          0,
          0,
          2,
          0,
          1,
          0,
          0,
          0,
          1,
          1,
          1,
          0,
          1,
          4,
          1,
          0,
          1,
          0,
          1,
          0,
          0,
          1,
          5,
          0,
          4,
          0,
          0,
          5,
          0,
          0,
          0,
          2,
          1,
          0,
          3,
          0,
          1,
          1,
          0,
          1,
          0,
          1,
          0,
          0,
          4,
          0,
          0,
          0,
          1,
          0,
          0,
          0,
          0,
          1,
          2,
          2,
          1,
          2,
          0,
          2,
          1,
          0,
          0,
          0,
          2,
          2,
          0,
          0,
          1,
          1,
          1,
          0,
          2,
          1,
          1,
          0,
          0,
          1,
          1,
          0,
          2,
          0,
          2,
          3,
          2,
          0,
          1,
          0,
          0,
          0,
          0,
          0,
          1,
          1,
          0,
          2,
          1,
          1,
          0,
          0,
          2,
          0,
          0,
          0,
          1,
          1,
          2,
          0,
          1,
          0,
          1,
          2,
          1,
          0
         ],
         "z": [
          71.2833,
          53.1,
          51.8625,
          26.55,
          35.5,
          263,
          27.7208,
          146.5208,
          82.1708,
          52,
          76.7292,
          61.9792,
          35.5,
          80,
          83.475,
          27.7208,
          47.1,
          263,
          61.175,
          34.6542,
          63.3583,
          77.2875,
          52,
          247.5208,
          77.2875,
          26.2833,
          53.1,
          79.2,
          66.6,
          61.3792,
          55,
          25.925,
          33.5,
          30.6958,
          28.7125,
          50,
          26.55,
          27.7208,
          146.5208,
          31,
          113.275,
          76.2917,
          90,
          83.475,
          90,
          52.5542,
          26.55,
          79.2,
          86.5,
          512.3292,
          79.65,
          0,
          153.4625,
          135.6333,
          31,
          29.7,
          77.9583,
          26,
          78.85,
          91.0792,
          27.7208,
          151.55,
          30.5,
          247.5208,
          151.55,
          110.8833,
          108.9,
          56.9292,
          83.1583,
          262.375,
          164.8667,
          134.5,
          135.6333,
          57.9792,
          28.5,
          153.4625,
          133.65,
          66.6,
          134.5,
          35.5,
          263,
          35,
          55,
          75.25,
          69.3,
          55.4417,
          135.6333,
          82.1708,
          211.5,
          227.525,
          52,
          120,
          113.275,
          90,
          26.55,
          55.9,
          120,
          263,
          81.8583,
          26.55,
          30.5,
          27.75,
          89.1042,
          26.55,
          51.8625,
          26.55,
          38.5,
          26.55,
          52,
          91.0792,
          90,
          29.7,
          30.5,
          49.5042,
          78.2667,
          151.55,
          86.5,
          108.9,
          26.55,
          26.2875,
          59.4,
          34.0208,
          93.5,
          57.9792,
          221.7792,
          26.55,
          106.425,
          49.5,
          71,
          106.425,
          26,
          110.8833,
          26.55,
          39.6,
          227.525,
          79.65,
          51.4792,
          26.3875,
          55.9,
          110.8833,
          40.125,
          79.65,
          79.2,
          78.2667,
          56.9292,
          42.4,
          26.55,
          30.5,
          153.4625,
          52.5542,
          32.3208,
          77.9583,
          30,
          30.5,
          0,
          69.3,
          76.7292,
          35.5,
          113.275,
          133.65,
          25.5875,
          52,
          52,
          512.3292,
          76.7292,
          211.3375,
          57,
          26.55,
          110.8833,
          227.525,
          26.2875,
          26.2875,
          151.55,
          49.5042,
          26.55,
          52,
          227.525,
          53.1,
          211.3375,
          512.3292,
          30,
          78.85,
          262.375,
          71,
          53.1,
          86.5,
          120,
          77.9583,
          39.6,
          211.3375,
          57,
          30,
          79.2,
          30.6958,
          25.9292,
          120,
          0,
          53.1,
          0,
          93.5,
          0,
          80,
          83.1583,
          29.7,
          31,
          89.1042,
          39.4,
          164.8667,
          26.55,
          25.9292,
          50.4958,
          52.5542,
          5,
          83.1583,
          30,
          30,
          26,
          82.2667,
          61.175,
          59.4,
          31.6833,
          61.3792,
          262.375,
          61.9792,
          30.5,
          57.75,
          26.55,
          52.5542,
          29.7,
          76.2917,
          60,
          263,
          262.375,
          262.375,
          42.4,
          28.5375,
          263,
          27.7208,
          211.5,
          211.5,
          25.7,
          221.7792,
          26,
          52,
          26,
          78.85,
          55.4417,
          31.6792,
          221.7792,
          75.2417,
          57.75,
          28.5,
          151.55,
          262.375,
          26.55,
          51.8625,
          26.55,
          83.1583,
          221.7792,
          26.55,
          50.4958,
          27.7208,
          55.4417,
          83.1583,
          83.1583,
          53.1,
          247.5208,
          26,
          134.5,
          227.525,
          25.7417,
          27.7208,
          42.5,
          164.8667,
          211.5,
          27.4458,
          26.55,
          71.2833,
          75.25,
          106.425,
          27.7208,
          134.5,
          51.8625,
          136.7792,
          0,
          75.2417,
          136.7792,
          82.2667,
          39.6,
          81.8583,
          45.5,
          26.55,
          151.55,
          93.5,
          135.6333,
          146.5208,
          26.55,
          211.3375,
          79.2,
          29.7,
          26,
          512.3292,
          63.3583,
          26,
          51.4792,
          55.4417,
          59.4,
          134.5,
          0,
          81.8583,
          262.375,
          50,
          93.5,
          39.4,
          60,
          79.2,
          164.8667,
          59.4,
          47.1,
          27.7208,
          211.5,
          90,
          108.9
         ]
        },
        {
         "hovertemplate": "Pclass=2<br>Age=%{x}<br>Relatives=%{y}<br>Fare=%{marker.size}<extra></extra>",
         "legendgroup": "2",
         "marker": {
          "color": "#00cc96",
          "size": [
           30.0708,
           16,
           13,
           26,
           13,
           10.5,
           21,
           41.5792,
           26,
           10.5,
           27.75,
           10.5,
           10.5,
           73.5,
           29,
           10.5,
           23,
           26,
           21,
           73.5,
           30.0708,
           13,
           26,
           13,
           15.0458,
           11.5,
           36.75,
           26,
           13,
           12.525,
           15.75,
           13,
           15.05,
           39,
           13,
           13,
           26,
           13,
           21,
           13,
           27,
           10.5,
           13,
           10.5,
           13,
           13.5,
           10.5,
           26,
           26.25,
           10.5,
           12.275,
           10.5,
           14.5,
           26,
           26,
           10.5,
           19.5,
           0,
           13,
           12.875,
           12.35,
           24,
           26,
           26.25,
           26,
           14,
           12.35,
           29,
           13,
           26,
           13,
           13,
           13,
           13,
           13,
           13,
           27.7208,
           73.5,
           13,
           12,
           26,
           10.5,
           12.65,
           21,
           18.75,
           0,
           32.5,
           13,
           13,
           26,
           26,
           26,
           18.75,
           10.5,
           26.25,
           13,
           19.5,
           27.75,
           10.5,
           13,
           0,
           27.75,
           13.7917,
           21,
           0,
           26,
           10.5,
           26,
           10.5,
           11.5,
           26,
           26.25,
           26,
           26,
           13.8625,
           36.75,
           26,
           13.5,
           10.5,
           13,
           30,
           26,
           15,
           26,
           33,
           27,
           41.5792,
           65,
           39,
           10.5,
           12.35,
           13,
           26.25,
           23,
           73.5,
           13,
           73.5,
           13,
           39,
           10.5,
           13,
           0,
           39,
           41.5792,
           13.5,
           26,
           13.5,
           13,
           10.5,
           33,
           13,
           13,
           21,
           26,
           0,
           13,
           13,
           13,
           23,
           65,
           14.5,
           11.5,
           10.5,
           23,
           26,
           13,
           13,
           26.25,
           13,
           10.5,
           37.0042,
           37.0042,
           18.75,
           10.5,
           33,
           26,
           11.5,
           13,
           13,
           13.8583,
           24,
           26,
           10.5,
           13,
           9.6875,
           29,
           26,
           27.7208,
           12.35,
           26,
           31.5,
           13,
           15.0333,
           23,
           15.5792,
           13.5,
           21,
           13,
           10.7083,
           23,
           26,
           13,
           15.0458,
           26,
           15.75,
           13,
           13,
           26,
           26,
           13.5,
           13,
           39,
           36.75,
           39,
           13,
           16,
           21,
           13,
           26,
           12.35,
           32.5,
           10.5,
           26,
           10.5,
           10.5,
           73.5,
           26,
           13.8583,
           10.5,
           13,
           65,
           13,
           30,
           21,
           32.5,
           26,
           27.75,
           13,
           23,
           12.7375,
           26,
           10.5,
           26,
           21,
           10.5,
           41.5792,
           15.0458,
           21,
           10.5,
           31.5,
           13,
           39,
           26,
           13,
           36.75,
           13,
           31.5,
           10.5,
           13,
           13.5,
           21,
           10.5,
           73.5,
           65,
           37.0042,
           21,
           13.8583,
           11.5,
           13,
           11.5,
           12.875,
           65,
           13,
           10.5,
           21,
           13.8625,
           10.5
          ],
          "sizemode": "area",
          "sizeref": 1.280823,
          "symbol": "circle"
         },
         "mode": "markers",
         "name": "2",
         "scene": "scene",
         "showlegend": true,
         "type": "scatter3d",
         "x": [
          14,
          55,
          null,
          35,
          34,
          66,
          27,
          3,
          29,
          21,
          5,
          29,
          32,
          21,
          0.83,
          17,
          34,
          34,
          29,
          21,
          32.5,
          32.5,
          29,
          25,
          23,
          18,
          19,
          36.5,
          42,
          51,
          40,
          30,
          null,
          1,
          32,
          19,
          3,
          24,
          35,
          30,
          42,
          30,
          27,
          19,
          18,
          59,
          24,
          44,
          8,
          19,
          33,
          29,
          24,
          54,
          50,
          36,
          41,
          null,
          42,
          36,
          null,
          30,
          26,
          43,
          24,
          54,
          30,
          22,
          36,
          2,
          28,
          25,
          36,
          24,
          40,
          38,
          29,
          18,
          36,
          17,
          46,
          23,
          28,
          34,
          3,
          null,
          34,
          18,
          30,
          28,
          19,
          42,
          24,
          31,
          45,
          28,
          13,
          36,
          50,
          48,
          null,
          33,
          23,
          34,
          null,
          33,
          34,
          36,
          50,
          23,
          2,
          7,
          32,
          19,
          null,
          8,
          27,
          28,
          62,
          34,
          25,
          54,
          47,
          37,
          null,
          24,
          22,
          24,
          4,
          26,
          57,
          28,
          31,
          18,
          24,
          23,
          32,
          25,
          40,
          70,
          31,
          null,
          60,
          25,
          52,
          39,
          45,
          52,
          27,
          6,
          34,
          50,
          30,
          25,
          null,
          23,
          23,
          30,
          4,
          48,
          0.67,
          18,
          57,
          54,
          16,
          39,
          34,
          31,
          39,
          35,
          31,
          1,
          0.83,
          16,
          28,
          44,
          21,
          24,
          42,
          27,
          28,
          25,
          28,
          27,
          62,
          26,
          63,
          24,
          35,
          50,
          24,
          30,
          27,
          20,
          null,
          32,
          null,
          30,
          null,
          2,
          27,
          18.5,
          41,
          29,
          12,
          42,
          26,
          28,
          30,
          26,
          41,
          15,
          20,
          36,
          30,
          40,
          21,
          40,
          34,
          61,
          8,
          23,
          8,
          25,
          24,
          17,
          60,
          30,
          22,
          36,
          14,
          18,
          45,
          22,
          42,
          29,
          0.92,
          19,
          29,
          30,
          20,
          28,
          40,
          30,
          22,
          1,
          null,
          43,
          19,
          22,
          26,
          12,
          29,
          21,
          48,
          32,
          25,
          18,
          26,
          24,
          31,
          25,
          18,
          49,
          24,
          31,
          29,
          21,
          44,
          21,
          null,
          24,
          57,
          47,
          38,
          20,
          23
         ],
         "y": [
          1,
          0,
          0,
          0,
          0,
          0,
          1,
          3,
          1,
          0,
          3,
          0,
          0,
          0,
          2,
          0,
          1,
          1,
          1,
          2,
          1,
          0,
          1,
          0,
          0,
          0,
          2,
          2,
          0,
          0,
          0,
          0,
          0,
          3,
          0,
          0,
          2,
          0,
          0,
          0,
          1,
          0,
          0,
          0,
          0,
          0,
          0,
          1,
          2,
          0,
          0,
          0,
          2,
          1,
          1,
          0,
          1,
          0,
          0,
          0,
          0,
          1,
          2,
          2,
          1,
          0,
          0,
          2,
          0,
          2,
          0,
          0,
          0,
          0,
          0,
          0,
          1,
          0,
          0,
          0,
          0,
          0,
          0,
          1,
          2,
          0,
          2,
          2,
          0,
          1,
          0,
          1,
          5,
          0,
          2,
          0,
          1,
          3,
          0,
          0,
          0,
          3,
          0,
          1,
          0,
          2,
          0,
          1,
          0,
          3,
          2,
          2,
          1,
          1,
          0,
          2,
          0,
          0,
          0,
          0,
          2,
          0,
          0,
          1,
          0,
          3,
          3,
          3,
          3,
          0,
          0,
          0,
          2,
          1,
          2,
          0,
          2,
          0,
          2,
          0,
          0,
          0,
          2,
          3,
          0,
          0,
          0,
          0,
          0,
          1,
          0,
          0,
          3,
          1,
          0,
          0,
          0,
          0,
          2,
          3,
          2,
          0,
          0,
          4,
          0,
          0,
          0,
          2,
          0,
          0,
          2,
          2,
          2,
          0,
          1,
          1,
          1,
          0,
          0,
          1,
          1,
          1,
          0,
          0,
          0,
          2,
          1,
          1,
          0,
          1,
          2,
          0,
          0,
          3,
          0,
          0,
          0,
          0,
          0,
          2,
          1,
          0,
          0,
          1,
          0,
          0,
          0,
          0,
          2,
          0,
          0,
          2,
          0,
          3,
          0,
          0,
          1,
          0,
          1,
          0,
          2,
          0,
          2,
          0,
          0,
          0,
          1,
          1,
          0,
          0,
          0,
          2,
          2,
          0,
          2,
          1,
          3,
          0,
          2,
          0,
          1,
          0,
          1,
          1,
          0,
          3,
          0,
          1,
          0,
          2,
          0,
          3,
          1,
          0,
          2,
          0,
          0,
          0,
          0,
          0,
          0,
          0,
          0,
          3,
          2,
          0,
          0,
          1,
          0,
          0,
          0,
          3,
          0,
          0,
          1,
          0,
          1
         ],
         "z": [
          30.0708,
          16,
          13,
          26,
          13,
          10.5,
          21,
          41.5792,
          26,
          10.5,
          27.75,
          10.5,
          10.5,
          73.5,
          29,
          10.5,
          23,
          26,
          21,
          73.5,
          30.0708,
          13,
          26,
          13,
          15.0458,
          11.5,
          36.75,
          26,
          13,
          12.525,
          15.75,
          13,
          15.05,
          39,
          13,
          13,
          26,
          13,
          21,
          13,
          27,
          10.5,
          13,
          10.5,
          13,
          13.5,
          10.5,
          26,
          26.25,
          10.5,
          12.275,
          10.5,
          14.5,
          26,
          26,
          10.5,
          19.5,
          0,
          13,
          12.875,
          12.35,
          24,
          26,
          26.25,
          26,
          14,
          12.35,
          29,
          13,
          26,
          13,
          13,
          13,
          13,
          13,
          13,
          27.7208,
          73.5,
          13,
          12,
          26,
          10.5,
          12.65,
          21,
          18.75,
          0,
          32.5,
          13,
          13,
          26,
          26,
          26,
          18.75,
          10.5,
          26.25,
          13,
          19.5,
          27.75,
          10.5,
          13,
          0,
          27.75,
          13.7917,
          21,
          0,
          26,
          10.5,
          26,
          10.5,
          11.5,
          26,
          26.25,
          26,
          26,
          13.8625,
          36.75,
          26,
          13.5,
          10.5,
          13,
          30,
          26,
          15,
          26,
          33,
          27,
          41.5792,
          65,
          39,
          10.5,
          12.35,
          13,
          26.25,
          23,
          73.5,
          13,
          73.5,
          13,
          39,
          10.5,
          13,
          0,
          39,
          41.5792,
          13.5,
          26,
          13.5,
          13,
          10.5,
          33,
          13,
          13,
          21,
          26,
          0,
          13,
          13,
          13,
          23,
          65,
          14.5,
          11.5,
          10.5,
          23,
          26,
          13,
          13,
          26.25,
          13,
          10.5,
          37.0042,
          37.0042,
          18.75,
          10.5,
          33,
          26,
          11.5,
          13,
          13,
          13.8583,
          24,
          26,
          10.5,
          13,
          9.6875,
          29,
          26,
          27.7208,
          12.35,
          26,
          31.5,
          13,
          15.0333,
          23,
          15.5792,
          13.5,
          21,
          13,
          10.7083,
          23,
          26,
          13,
          15.0458,
          26,
          15.75,
          13,
          13,
          26,
          26,
          13.5,
          13,
          39,
          36.75,
          39,
          13,
          16,
          21,
          13,
          26,
          12.35,
          32.5,
          10.5,
          26,
          10.5,
          10.5,
          73.5,
          26,
          13.8583,
          10.5,
          13,
          65,
          13,
          30,
          21,
          32.5,
          26,
          27.75,
          13,
          23,
          12.7375,
          26,
          10.5,
          26,
          21,
          10.5,
          41.5792,
          15.0458,
          21,
          10.5,
          31.5,
          13,
          39,
          26,
          13,
          36.75,
          13,
          31.5,
          10.5,
          13,
          13.5,
          21,
          10.5,
          73.5,
          65,
          37.0042,
          21,
          13.8583,
          11.5,
          13,
          11.5,
          12.875,
          65,
          13,
          10.5,
          21,
          13.8625,
          10.5
         ]
        }
       ],
       "layout": {
        "legend": {
         "itemsizing": "constant",
         "title": {
          "text": "Pclass"
         },
         "tracegroupgap": 0
        },
        "scene": {
         "domain": {
          "x": [
           0,
           1
          ],
          "y": [
           0,
           1
          ]
         },
         "xaxis": {
          "title": {
           "text": "Age"
          }
         },
         "yaxis": {
          "title": {
           "text": "Relatives"
          }
         },
         "zaxis": {
          "title": {
           "text": "Fare"
          }
         }
        },
        "template": {
         "data": {
          "bar": [
           {
            "error_x": {
             "color": "#2a3f5f"
            },
            "error_y": {
             "color": "#2a3f5f"
            },
            "marker": {
             "line": {
              "color": "#E5ECF6",
              "width": 0.5
             },
             "pattern": {
              "fillmode": "overlay",
              "size": 10,
              "solidity": 0.2
             }
            },
            "type": "bar"
           }
          ],
          "barpolar": [
           {
            "marker": {
             "line": {
              "color": "#E5ECF6",
              "width": 0.5
             },
             "pattern": {
              "fillmode": "overlay",
              "size": 10,
              "solidity": 0.2
             }
            },
            "type": "barpolar"
           }
          ],
          "carpet": [
           {
            "aaxis": {
             "endlinecolor": "#2a3f5f",
             "gridcolor": "white",
             "linecolor": "white",
             "minorgridcolor": "white",
             "startlinecolor": "#2a3f5f"
            },
            "baxis": {
             "endlinecolor": "#2a3f5f",
             "gridcolor": "white",
             "linecolor": "white",
             "minorgridcolor": "white",
             "startlinecolor": "#2a3f5f"
            },
            "type": "carpet"
           }
          ],
          "choropleth": [
           {
            "colorbar": {
             "outlinewidth": 0,
             "ticks": ""
            },
            "type": "choropleth"
           }
          ],
          "contour": [
           {
            "colorbar": {
             "outlinewidth": 0,
             "ticks": ""
            },
            "colorscale": [
             [
              0,
              "#0d0887"
             ],
             [
              0.1111111111111111,
              "#46039f"
             ],
             [
              0.2222222222222222,
              "#7201a8"
             ],
             [
              0.3333333333333333,
              "#9c179e"
             ],
             [
              0.4444444444444444,
              "#bd3786"
             ],
             [
              0.5555555555555556,
              "#d8576b"
             ],
             [
              0.6666666666666666,
              "#ed7953"
             ],
             [
              0.7777777777777778,
              "#fb9f3a"
             ],
             [
              0.8888888888888888,
              "#fdca26"
             ],
             [
              1,
              "#f0f921"
             ]
            ],
            "type": "contour"
           }
          ],
          "contourcarpet": [
           {
            "colorbar": {
             "outlinewidth": 0,
             "ticks": ""
            },
            "type": "contourcarpet"
           }
          ],
          "heatmap": [
           {
            "colorbar": {
             "outlinewidth": 0,
             "ticks": ""
            },
            "colorscale": [
             [
              0,
              "#0d0887"
             ],
             [
              0.1111111111111111,
              "#46039f"
             ],
             [
              0.2222222222222222,
              "#7201a8"
             ],
             [
              0.3333333333333333,
              "#9c179e"
             ],
             [
              0.4444444444444444,
              "#bd3786"
             ],
             [
              0.5555555555555556,
              "#d8576b"
             ],
             [
              0.6666666666666666,
              "#ed7953"
             ],
             [
              0.7777777777777778,
              "#fb9f3a"
             ],
             [
              0.8888888888888888,
              "#fdca26"
             ],
             [
              1,
              "#f0f921"
             ]
            ],
            "type": "heatmap"
           }
          ],
          "heatmapgl": [
           {
            "colorbar": {
             "outlinewidth": 0,
             "ticks": ""
            },
            "colorscale": [
             [
              0,
              "#0d0887"
             ],
             [
              0.1111111111111111,
              "#46039f"
             ],
             [
              0.2222222222222222,
              "#7201a8"
             ],
             [
              0.3333333333333333,
              "#9c179e"
             ],
             [
              0.4444444444444444,
              "#bd3786"
             ],
             [
              0.5555555555555556,
              "#d8576b"
             ],
             [
              0.6666666666666666,
              "#ed7953"
             ],
             [
              0.7777777777777778,
              "#fb9f3a"
             ],
             [
              0.8888888888888888,
              "#fdca26"
             ],
             [
              1,
              "#f0f921"
             ]
            ],
            "type": "heatmapgl"
           }
          ],
          "histogram": [
           {
            "marker": {
             "pattern": {
              "fillmode": "overlay",
              "size": 10,
              "solidity": 0.2
             }
            },
            "type": "histogram"
           }
          ],
          "histogram2d": [
           {
            "colorbar": {
             "outlinewidth": 0,
             "ticks": ""
            },
            "colorscale": [
             [
              0,
              "#0d0887"
             ],
             [
              0.1111111111111111,
              "#46039f"
             ],
             [
              0.2222222222222222,
              "#7201a8"
             ],
             [
              0.3333333333333333,
              "#9c179e"
             ],
             [
              0.4444444444444444,
              "#bd3786"
             ],
             [
              0.5555555555555556,
              "#d8576b"
             ],
             [
              0.6666666666666666,
              "#ed7953"
             ],
             [
              0.7777777777777778,
              "#fb9f3a"
             ],
             [
              0.8888888888888888,
              "#fdca26"
             ],
             [
              1,
              "#f0f921"
             ]
            ],
            "type": "histogram2d"
           }
          ],
          "histogram2dcontour": [
           {
            "colorbar": {
             "outlinewidth": 0,
             "ticks": ""
            },
            "colorscale": [
             [
              0,
              "#0d0887"
             ],
             [
              0.1111111111111111,
              "#46039f"
             ],
             [
              0.2222222222222222,
              "#7201a8"
             ],
             [
              0.3333333333333333,
              "#9c179e"
             ],
             [
              0.4444444444444444,
              "#bd3786"
             ],
             [
              0.5555555555555556,
              "#d8576b"
             ],
             [
              0.6666666666666666,
              "#ed7953"
             ],
             [
              0.7777777777777778,
              "#fb9f3a"
             ],
             [
              0.8888888888888888,
              "#fdca26"
             ],
             [
              1,
              "#f0f921"
             ]
            ],
            "type": "histogram2dcontour"
           }
          ],
          "mesh3d": [
           {
            "colorbar": {
             "outlinewidth": 0,
             "ticks": ""
            },
            "type": "mesh3d"
           }
          ],
          "parcoords": [
           {
            "line": {
             "colorbar": {
              "outlinewidth": 0,
              "ticks": ""
             }
            },
            "type": "parcoords"
           }
          ],
          "pie": [
           {
            "automargin": true,
            "type": "pie"
           }
          ],
          "scatter": [
           {
            "fillpattern": {
             "fillmode": "overlay",
             "size": 10,
             "solidity": 0.2
            },
            "type": "scatter"
           }
          ],
          "scatter3d": [
           {
            "line": {
             "colorbar": {
              "outlinewidth": 0,
              "ticks": ""
             }
            },
            "marker": {
             "colorbar": {
              "outlinewidth": 0,
              "ticks": ""
             }
            },
            "type": "scatter3d"
           }
          ],
          "scattercarpet": [
           {
            "marker": {
             "colorbar": {
              "outlinewidth": 0,
              "ticks": ""
             }
            },
            "type": "scattercarpet"
           }
          ],
          "scattergeo": [
           {
            "marker": {
             "colorbar": {
              "outlinewidth": 0,
              "ticks": ""
             }
            },
            "type": "scattergeo"
           }
          ],
          "scattergl": [
           {
            "marker": {
             "colorbar": {
              "outlinewidth": 0,
              "ticks": ""
             }
            },
            "type": "scattergl"
           }
          ],
          "scattermapbox": [
           {
            "marker": {
             "colorbar": {
              "outlinewidth": 0,
              "ticks": ""
             }
            },
            "type": "scattermapbox"
           }
          ],
          "scatterpolar": [
           {
            "marker": {
             "colorbar": {
              "outlinewidth": 0,
              "ticks": ""
             }
            },
            "type": "scatterpolar"
           }
          ],
          "scatterpolargl": [
           {
            "marker": {
             "colorbar": {
              "outlinewidth": 0,
              "ticks": ""
             }
            },
            "type": "scatterpolargl"
           }
          ],
          "scatterternary": [
           {
            "marker": {
             "colorbar": {
              "outlinewidth": 0,
              "ticks": ""
             }
            },
            "type": "scatterternary"
           }
          ],
          "surface": [
           {
            "colorbar": {
             "outlinewidth": 0,
             "ticks": ""
            },
            "colorscale": [
             [
              0,
              "#0d0887"
             ],
             [
              0.1111111111111111,
              "#46039f"
             ],
             [
              0.2222222222222222,
              "#7201a8"
             ],
             [
              0.3333333333333333,
              "#9c179e"
             ],
             [
              0.4444444444444444,
              "#bd3786"
             ],
             [
              0.5555555555555556,
              "#d8576b"
             ],
             [
              0.6666666666666666,
              "#ed7953"
             ],
             [
              0.7777777777777778,
              "#fb9f3a"
             ],
             [
              0.8888888888888888,
              "#fdca26"
             ],
             [
              1,
              "#f0f921"
             ]
            ],
            "type": "surface"
           }
          ],
          "table": [
           {
            "cells": {
             "fill": {
              "color": "#EBF0F8"
             },
             "line": {
              "color": "white"
             }
            },
            "header": {
             "fill": {
              "color": "#C8D4E3"
             },
             "line": {
              "color": "white"
             }
            },
            "type": "table"
           }
          ]
         },
         "layout": {
          "annotationdefaults": {
           "arrowcolor": "#2a3f5f",
           "arrowhead": 0,
           "arrowwidth": 1
          },
          "autotypenumbers": "strict",
          "coloraxis": {
           "colorbar": {
            "outlinewidth": 0,
            "ticks": ""
           }
          },
          "colorscale": {
           "diverging": [
            [
             0,
             "#8e0152"
            ],
            [
             0.1,
             "#c51b7d"
            ],
            [
             0.2,
             "#de77ae"
            ],
            [
             0.3,
             "#f1b6da"
            ],
            [
             0.4,
             "#fde0ef"
            ],
            [
             0.5,
             "#f7f7f7"
            ],
            [
             0.6,
             "#e6f5d0"
            ],
            [
             0.7,
             "#b8e186"
            ],
            [
             0.8,
             "#7fbc41"
            ],
            [
             0.9,
             "#4d9221"
            ],
            [
             1,
             "#276419"
            ]
           ],
           "sequential": [
            [
             0,
             "#0d0887"
            ],
            [
             0.1111111111111111,
             "#46039f"
            ],
            [
             0.2222222222222222,
             "#7201a8"
            ],
            [
             0.3333333333333333,
             "#9c179e"
            ],
            [
             0.4444444444444444,
             "#bd3786"
            ],
            [
             0.5555555555555556,
             "#d8576b"
            ],
            [
             0.6666666666666666,
             "#ed7953"
            ],
            [
             0.7777777777777778,
             "#fb9f3a"
            ],
            [
             0.8888888888888888,
             "#fdca26"
            ],
            [
             1,
             "#f0f921"
            ]
           ],
           "sequentialminus": [
            [
             0,
             "#0d0887"
            ],
            [
             0.1111111111111111,
             "#46039f"
            ],
            [
             0.2222222222222222,
             "#7201a8"
            ],
            [
             0.3333333333333333,
             "#9c179e"
            ],
            [
             0.4444444444444444,
             "#bd3786"
            ],
            [
             0.5555555555555556,
             "#d8576b"
            ],
            [
             0.6666666666666666,
             "#ed7953"
            ],
            [
             0.7777777777777778,
             "#fb9f3a"
            ],
            [
             0.8888888888888888,
             "#fdca26"
            ],
            [
             1,
             "#f0f921"
            ]
           ]
          },
          "colorway": [
           "#636efa",
           "#EF553B",
           "#00cc96",
           "#ab63fa",
           "#FFA15A",
           "#19d3f3",
           "#FF6692",
           "#B6E880",
           "#FF97FF",
           "#FECB52"
          ],
          "font": {
           "color": "#2a3f5f"
          },
          "geo": {
           "bgcolor": "white",
           "lakecolor": "white",
           "landcolor": "#E5ECF6",
           "showlakes": true,
           "showland": true,
           "subunitcolor": "white"
          },
          "hoverlabel": {
           "align": "left"
          },
          "hovermode": "closest",
          "mapbox": {
           "style": "light"
          },
          "paper_bgcolor": "white",
          "plot_bgcolor": "#E5ECF6",
          "polar": {
           "angularaxis": {
            "gridcolor": "white",
            "linecolor": "white",
            "ticks": ""
           },
           "bgcolor": "#E5ECF6",
           "radialaxis": {
            "gridcolor": "white",
            "linecolor": "white",
            "ticks": ""
           }
          },
          "scene": {
           "xaxis": {
            "backgroundcolor": "#E5ECF6",
            "gridcolor": "white",
            "gridwidth": 2,
            "linecolor": "white",
            "showbackground": true,
            "ticks": "",
            "zerolinecolor": "white"
           },
           "yaxis": {
            "backgroundcolor": "#E5ECF6",
            "gridcolor": "white",
            "gridwidth": 2,
            "linecolor": "white",
            "showbackground": true,
            "ticks": "",
            "zerolinecolor": "white"
           },
           "zaxis": {
            "backgroundcolor": "#E5ECF6",
            "gridcolor": "white",
            "gridwidth": 2,
            "linecolor": "white",
            "showbackground": true,
            "ticks": "",
            "zerolinecolor": "white"
           }
          },
          "shapedefaults": {
           "line": {
            "color": "#2a3f5f"
           }
          },
          "ternary": {
           "aaxis": {
            "gridcolor": "white",
            "linecolor": "white",
            "ticks": ""
           },
           "baxis": {
            "gridcolor": "white",
            "linecolor": "white",
            "ticks": ""
           },
           "bgcolor": "#E5ECF6",
           "caxis": {
            "gridcolor": "white",
            "linecolor": "white",
            "ticks": ""
           }
          },
          "title": {
           "x": 0.05
          },
          "xaxis": {
           "automargin": true,
           "gridcolor": "white",
           "linecolor": "white",
           "ticks": "",
           "title": {
            "standoff": 15
           },
           "zerolinecolor": "white",
           "zerolinewidth": 2
          },
          "yaxis": {
           "automargin": true,
           "gridcolor": "white",
           "linecolor": "white",
           "ticks": "",
           "title": {
            "standoff": 15
           },
           "zerolinecolor": "white",
           "zerolinewidth": 2
          }
         }
        },
        "title": {
         "text": "3D Scatter Plot of Age, Relatives, and Fare"
        }
       }
      }
     },
     "metadata": {},
     "output_type": "display_data"
    }
   ],
   "source": [
    "data[\"Fare\"] = data[\"Fare\"].fillna(0)  # Fill NaN values in Fare for plotting\n",
    "fig = px.scatter_3d(data,\n",
    "                     x=\"Age\",\n",
    "                     y=\"Relatives\",\n",
    "                     z=\"Fare\",\n",
    "                     color=\"Pclass\",\n",
    "                     size=\"Fare\",\n",
    "                     title=\"3D Scatter Plot of Age, Relatives, and Fare\")\n",
    "fig.show()"
   ]
  },
  {
   "cell_type": "markdown",
   "id": "2dbe5c08-8c16-41e8-af58-b8b53fe8b066",
   "metadata": {},
   "source": [
    "Step 19: Visualize Fare vs Age with Survival Status"
   ]
  },
  {
   "cell_type": "markdown",
   "id": "ae967dfd-49e9-4893-88cc-6697e604654b",
   "metadata": {},
   "source": [
    "Finally, we will create a scatter plot to visualize the relationship between Age and Fare while indicating survival status and gender. This visualization helps us see how fare varies with age for survivors and non-survivors.\n",
    "python"
   ]
  },
  {
   "cell_type": "code",
   "execution_count": 40,
   "id": "185a6999-849c-4c60-9e99-80d0b8a2dc80",
   "metadata": {},
   "outputs": [
    {
     "data": {
      "application/vnd.plotly.v1+json": {
       "config": {
        "plotlyServerURL": "https://plot.ly"
       },
       "data": [
        {
         "hovertemplate": "Survived=0.0<br>Sex=male<br>Age=%{x}<br>Fare=%{marker.size}<extra></extra>",
         "legendgroup": "0.0, male",
         "marker": {
          "color": "#636efa",
          "size": [
           7.25,
           8.05,
           8.4583,
           51.8625,
           21.075,
           8.05,
           31.275,
           29.125,
           26,
           7.225,
           263,
           7.8958,
           27.7208,
           10.5,
           82.1708,
           52,
           8.05,
           7.8958,
           8.05,
           15.5,
           21.6792,
           39.6875,
           7.8,
           61.9792,
           7.2292,
           46.9,
           7.2292,
           83.475,
           27.9,
           27.7208,
           8.1583,
           8.6625,
           10.5,
           73.5,
           14.4542,
           7.65,
           7.8958,
           8.05,
           9,
           47.1,
           34.375,
           8.05,
           8.05,
           8.05,
           7.8542,
           61.175,
           20.575,
           7.25,
           8.05,
           34.6542,
           26,
           7.8958,
           77.2875,
           8.6542,
           7.925,
           7.8958,
           7.8958,
           52,
           8.05,
           7.925,
           7.75,
           21,
           247.5208,
           73.5,
           8.05,
           30.0708,
           77.2875,
           7.75,
           6.975,
           7.8958,
           7.05,
           13,
           15.0458,
           53.1,
           9.2167,
           79.2,
           6.75,
           11.5,
           36.75,
           26,
           13,
           12.525,
           8.05,
           14.5,
           7.3125,
           61.3792,
           8.05,
           8.6625,
           69.55,
           16.1,
           7.775,
           8.6625,
           39.6875,
           25.925,
           56.4958,
           33.5,
           29.125,
           7.925,
           30.6958,
           7.8542,
           25.4667,
           13,
           0,
           15.05,
           31.3875,
           50,
           15.5,
           7.8958,
           13,
           7.75,
           8.4042,
           9.5,
           69.55,
           6.4958,
           7.225,
           15.85,
           7.05,
           7.25,
           13,
           7.75,
           27,
           10.5,
           13,
           8.05,
           7.8958,
           9.35,
           7.25,
           13,
           7.775,
           13.5,
           10.5,
           26,
           10.5,
           12.275,
           10.5,
           7.125,
           7.225,
           90,
           26,
           7.25,
           26.55,
           16.1,
           7.75,
           79.65,
           0,
           10.5,
           39.6875,
           31,
           29.7,
           0,
           29.125,
           7.75,
           7.8542,
           9.5,
           26,
           8.6625,
           7.8958,
           12.875,
           7.8958,
           27.7208,
           7.2292,
           0,
           8.05,
           24,
           7.8958,
           26.25,
           14,
           7.25,
           7.8958,
           69.55,
           6.2375,
           28.5,
           153.4625,
           18,
           7.8958,
           66.6,
           35.5,
           13,
           13,
           13,
           8.6625,
           9.225,
           35,
           7.2292,
           17.8,
           7.225,
           9.5,
           27.9,
           27.7208,
           7.05,
           15.5,
           7.25,
           6.4958,
           8.05,
           135.6333,
           211.5,
           4.0125,
           7.775,
           7.925,
           7.8958,
           73.5,
           46.9,
           7.7292,
           7.925,
           7.7958,
           26,
           10.5,
           8.05,
           15.85,
           21,
           7.75,
           7.775,
           7.8958,
           6.8583,
           0,
           13,
           7.8958,
           7.7333,
           7.875,
           20.2125,
           7.25,
           7.75,
           7.125,
           55.9,
           263,
           10.5,
           9.5,
           7.775,
           27.75,
           19.9667,
           27.75,
           8.05,
           26.55,
           7.75,
           8.05,
           38.5,
           13,
           8.05,
           7.05,
           0,
           26.55,
           7.725,
           7.25,
           8.6625,
           52,
           21,
           7.0458,
           7.5208,
           46.9,
           0,
           8.05,
           29.7,
           8.05,
           19.9667,
           7.25,
           30.5,
           49.5042,
           8.05,
           14.4583,
           15.1,
           7.7958,
           8.6625,
           108.9,
           22.525,
           8.05,
           7.4958,
           34.0208,
           24.15,
           7.8958,
           7.8958,
           7.225,
           7.2292,
           7.75,
           221.7792,
           7.925,
           11.5,
           7.2292,
           7.2292,
           26.55,
           14.5,
           106.425,
           26,
           20.525,
           26,
           7.8292,
           26.55,
           227.525,
           7.75,
           7.8958,
           13.5,
           8.05,
           24.15,
           7.8958,
           7.2292,
           8.05,
           14.5,
           26,
           40.125,
           8.7125,
           15,
           8.05,
           8.05,
           7.125,
           7.25,
           26,
           24.15,
           0,
           7.225,
           7.8958,
           42.4,
           8.05,
           15.55,
           7.8958,
           7.05,
           7.75,
           8.05,
           14.4,
           10.5,
           14.4542,
           7.8542,
           16.1,
           32.3208,
           12.35,
           7.8958,
           7.7333,
           7.0542,
           0,
           7.925,
           26.25,
           16.1,
           7.8542,
           7.8958,
           7.55,
           7.8958,
           8.4333,
           73.5,
           7.8958,
           13,
           113.275,
           7.225,
           25.5875,
           7.4958,
           73.5,
           13,
           7.775,
           8.05,
           52,
           10.5,
           0,
           7.775,
           8.05,
           9.225,
           46.9,
           39,
           41.5792,
           39.6875,
           10.1708,
           7.7958,
           7.225,
           26.55,
           13.5,
           8.05,
           110.8833,
           7.65,
           7.7417,
           7.8542,
           26,
           26.55,
           9.4833,
           13,
           7.65,
           15.5,
           7.775,
           7.0542,
           13,
           13,
           8.6625,
           26,
           18.7875,
           0,
           13,
           13,
           16.1,
           7.8958,
           7.8958,
           78.85,
           16.1,
           71,
           20.25,
           53.1,
           7.75,
           9.5,
           7.8958,
           7.7958,
           11.5,
           8.05,
           14.5,
           7.125,
           7.775,
           39.6,
           24.15,
           8.3625,
           9.5,
           7.8542,
           7.225,
           7.75,
           7.75,
           7.7375,
           30,
           23.45,
           7.05,
           7.25,
           29.125,
           79.2,
           7.75,
           26,
           30.6958,
           7.8958,
           13,
           7.2292,
           13,
           7.775,
           0,
           13,
           7.8875,
           24.15,
           10.5,
           8.05,
           0,
           37.0042,
           6.45,
           27.9,
           0,
           39.6875,
           6.95,
           56.4958,
           7.2292,
           7.8542,
           8.3,
           8.6625,
           8.05,
           7.925,
           10.5,
           6.4375,
           8.6625,
           7.55,
           69.55,
           7.8958,
           33,
           31.275,
           7.775,
           7.2292,
           14.1083,
           11.5,
           13,
           50.4958,
           9.5,
           7.8958,
           5,
           9,
           9.8458,
           7.8958,
           7.8958,
           7.8958,
           10.5,
           7.05,
           13,
           7.75
          ],
          "sizemode": "area",
          "sizeref": 1.280823,
          "symbol": "circle"
         },
         "mode": "markers",
         "name": "0.0, male",
         "showlegend": true,
         "type": "scattergl",
         "x": [
          22,
          35,
          null,
          54,
          2,
          20,
          39,
          2,
          35,
          null,
          19,
          null,
          40,
          66,
          28,
          42,
          21,
          null,
          null,
          null,
          null,
          7,
          21,
          65,
          28.5,
          11,
          22,
          45,
          4,
          null,
          19,
          26,
          32,
          21,
          26,
          25,
          null,
          null,
          22,
          28,
          16,
          null,
          24,
          29,
          20,
          46,
          26,
          59,
          null,
          71,
          34,
          null,
          21,
          33,
          37,
          28,
          38,
          47,
          22,
          21,
          70.5,
          29,
          24,
          21,
          null,
          32.5,
          54,
          null,
          45,
          33,
          20,
          25,
          23,
          37,
          16,
          24,
          19,
          18,
          19,
          36.5,
          42,
          51,
          55.5,
          40.5,
          null,
          51,
          30,
          null,
          null,
          44,
          26,
          17,
          1,
          null,
          28,
          61,
          4,
          21,
          56,
          18,
          null,
          30,
          36,
          null,
          9,
          null,
          40,
          36,
          19,
          null,
          42,
          28,
          null,
          34,
          45.5,
          32,
          24,
          22,
          30,
          null,
          42,
          30,
          27,
          51,
          null,
          22,
          20.5,
          18,
          29,
          59,
          24,
          44,
          19,
          33,
          29,
          22,
          30,
          44,
          54,
          null,
          62,
          30,
          null,
          52,
          40,
          36,
          16,
          null,
          37,
          null,
          7,
          65,
          28,
          16,
          null,
          33,
          22,
          36,
          24,
          null,
          23.5,
          19,
          null,
          30,
          28,
          43,
          54,
          22,
          27,
          null,
          61,
          45.5,
          38,
          16,
          null,
          29,
          45,
          28,
          25,
          36,
          42,
          23,
          null,
          15,
          25,
          null,
          28,
          40,
          29,
          35,
          null,
          30,
          18,
          19,
          22,
          27,
          20,
          19,
          32,
          null,
          18,
          1,
          null,
          28,
          22,
          46,
          23,
          26,
          28,
          34,
          51,
          21,
          null,
          null,
          null,
          30,
          null,
          21,
          29,
          18,
          null,
          null,
          17,
          50,
          64,
          31,
          20,
          25,
          36,
          null,
          30,
          null,
          65,
          null,
          34,
          47,
          48,
          null,
          38,
          null,
          56,
          null,
          null,
          38,
          null,
          34,
          29,
          22,
          9,
          null,
          50,
          58,
          30,
          null,
          21,
          55,
          71,
          21,
          null,
          null,
          24,
          17,
          18,
          28,
          null,
          24,
          47,
          null,
          32,
          22,
          null,
          null,
          40.5,
          null,
          39,
          23,
          null,
          17,
          45,
          null,
          50,
          64,
          33,
          27,
          null,
          62,
          null,
          null,
          40,
          28,
          null,
          24,
          19,
          null,
          16,
          19,
          54,
          36,
          null,
          47,
          22,
          null,
          35,
          47,
          37,
          36,
          49,
          null,
          null,
          null,
          44,
          36,
          30,
          null,
          null,
          35,
          34,
          26,
          27,
          21,
          21,
          61,
          57,
          26,
          null,
          51,
          null,
          32,
          31,
          null,
          20,
          19,
          null,
          null,
          21,
          24,
          null,
          23,
          58,
          40,
          47,
          36,
          32,
          25,
          null,
          43,
          31,
          70,
          null,
          18,
          24.5,
          20,
          14,
          60,
          25,
          14,
          19,
          18,
          25,
          60,
          52,
          44,
          49,
          42,
          25,
          26,
          39,
          null,
          29,
          52,
          19,
          null,
          33,
          17,
          34,
          50,
          20,
          25,
          11,
          null,
          23,
          23,
          28.5,
          null,
          null,
          36,
          24,
          70,
          16,
          19,
          31,
          33,
          23,
          28,
          18,
          34,
          null,
          41,
          16,
          null,
          null,
          32,
          24,
          48,
          null,
          18,
          null,
          null,
          29,
          null,
          25,
          25,
          8,
          46,
          null,
          16,
          null,
          25,
          39,
          30,
          34,
          31,
          39,
          39,
          26,
          39,
          35,
          30.5,
          null,
          31,
          43,
          10,
          38,
          2,
          null,
          null,
          null,
          23,
          18,
          21,
          null,
          20,
          16,
          34.5,
          17,
          42,
          null,
          35,
          28,
          4,
          74,
          null,
          41,
          21,
          24,
          31,
          null,
          26,
          33,
          47,
          20,
          19,
          null,
          33,
          28,
          25,
          27,
          32
         ],
         "xaxis": "x",
         "y": [
          7.25,
          8.05,
          8.4583,
          51.8625,
          21.075,
          8.05,
          31.275,
          29.125,
          26,
          7.225,
          263,
          7.8958,
          27.7208,
          10.5,
          82.1708,
          52,
          8.05,
          7.8958,
          8.05,
          15.5,
          21.6792,
          39.6875,
          7.8,
          61.9792,
          7.2292,
          46.9,
          7.2292,
          83.475,
          27.9,
          27.7208,
          8.1583,
          8.6625,
          10.5,
          73.5,
          14.4542,
          7.65,
          7.8958,
          8.05,
          9,
          47.1,
          34.375,
          8.05,
          8.05,
          8.05,
          7.8542,
          61.175,
          20.575,
          7.25,
          8.05,
          34.6542,
          26,
          7.8958,
          77.2875,
          8.6542,
          7.925,
          7.8958,
          7.8958,
          52,
          8.05,
          7.925,
          7.75,
          21,
          247.5208,
          73.5,
          8.05,
          30.0708,
          77.2875,
          7.75,
          6.975,
          7.8958,
          7.05,
          13,
          15.0458,
          53.1,
          9.2167,
          79.2,
          6.75,
          11.5,
          36.75,
          26,
          13,
          12.525,
          8.05,
          14.5,
          7.3125,
          61.3792,
          8.05,
          8.6625,
          69.55,
          16.1,
          7.775,
          8.6625,
          39.6875,
          25.925,
          56.4958,
          33.5,
          29.125,
          7.925,
          30.6958,
          7.8542,
          25.4667,
          13,
          0,
          15.05,
          31.3875,
          50,
          15.5,
          7.8958,
          13,
          7.75,
          8.4042,
          9.5,
          69.55,
          6.4958,
          7.225,
          15.85,
          7.05,
          7.25,
          13,
          7.75,
          27,
          10.5,
          13,
          8.05,
          7.8958,
          9.35,
          7.25,
          13,
          7.775,
          13.5,
          10.5,
          26,
          10.5,
          12.275,
          10.5,
          7.125,
          7.225,
          90,
          26,
          7.25,
          26.55,
          16.1,
          7.75,
          79.65,
          0,
          10.5,
          39.6875,
          31,
          29.7,
          0,
          29.125,
          7.75,
          7.8542,
          9.5,
          26,
          8.6625,
          7.8958,
          12.875,
          7.8958,
          27.7208,
          7.2292,
          0,
          8.05,
          24,
          7.8958,
          26.25,
          14,
          7.25,
          7.8958,
          69.55,
          6.2375,
          28.5,
          153.4625,
          18,
          7.8958,
          66.6,
          35.5,
          13,
          13,
          13,
          8.6625,
          9.225,
          35,
          7.2292,
          17.8,
          7.225,
          9.5,
          27.9,
          27.7208,
          7.05,
          15.5,
          7.25,
          6.4958,
          8.05,
          135.6333,
          211.5,
          4.0125,
          7.775,
          7.925,
          7.8958,
          73.5,
          46.9,
          7.7292,
          7.925,
          7.7958,
          26,
          10.5,
          8.05,
          15.85,
          21,
          7.75,
          7.775,
          7.8958,
          6.8583,
          0,
          13,
          7.8958,
          7.7333,
          7.875,
          20.2125,
          7.25,
          7.75,
          7.125,
          55.9,
          263,
          10.5,
          9.5,
          7.775,
          27.75,
          19.9667,
          27.75,
          8.05,
          26.55,
          7.75,
          8.05,
          38.5,
          13,
          8.05,
          7.05,
          0,
          26.55,
          7.725,
          7.25,
          8.6625,
          52,
          21,
          7.0458,
          7.5208,
          46.9,
          0,
          8.05,
          29.7,
          8.05,
          19.9667,
          7.25,
          30.5,
          49.5042,
          8.05,
          14.4583,
          15.1,
          7.7958,
          8.6625,
          108.9,
          22.525,
          8.05,
          7.4958,
          34.0208,
          24.15,
          7.8958,
          7.8958,
          7.225,
          7.2292,
          7.75,
          221.7792,
          7.925,
          11.5,
          7.2292,
          7.2292,
          26.55,
          14.5,
          106.425,
          26,
          20.525,
          26,
          7.8292,
          26.55,
          227.525,
          7.75,
          7.8958,
          13.5,
          8.05,
          24.15,
          7.8958,
          7.2292,
          8.05,
          14.5,
          26,
          40.125,
          8.7125,
          15,
          8.05,
          8.05,
          7.125,
          7.25,
          26,
          24.15,
          0,
          7.225,
          7.8958,
          42.4,
          8.05,
          15.55,
          7.8958,
          7.05,
          7.75,
          8.05,
          14.4,
          10.5,
          14.4542,
          7.8542,
          16.1,
          32.3208,
          12.35,
          7.8958,
          7.7333,
          7.0542,
          0,
          7.925,
          26.25,
          16.1,
          7.8542,
          7.8958,
          7.55,
          7.8958,
          8.4333,
          73.5,
          7.8958,
          13,
          113.275,
          7.225,
          25.5875,
          7.4958,
          73.5,
          13,
          7.775,
          8.05,
          52,
          10.5,
          0,
          7.775,
          8.05,
          9.225,
          46.9,
          39,
          41.5792,
          39.6875,
          10.1708,
          7.7958,
          7.225,
          26.55,
          13.5,
          8.05,
          110.8833,
          7.65,
          7.7417,
          7.8542,
          26,
          26.55,
          9.4833,
          13,
          7.65,
          15.5,
          7.775,
          7.0542,
          13,
          13,
          8.6625,
          26,
          18.7875,
          0,
          13,
          13,
          16.1,
          7.8958,
          7.8958,
          78.85,
          16.1,
          71,
          20.25,
          53.1,
          7.75,
          9.5,
          7.8958,
          7.7958,
          11.5,
          8.05,
          14.5,
          7.125,
          7.775,
          39.6,
          24.15,
          8.3625,
          9.5,
          7.8542,
          7.225,
          7.75,
          7.75,
          7.7375,
          30,
          23.45,
          7.05,
          7.25,
          29.125,
          79.2,
          7.75,
          26,
          30.6958,
          7.8958,
          13,
          7.2292,
          13,
          7.775,
          0,
          13,
          7.8875,
          24.15,
          10.5,
          8.05,
          0,
          37.0042,
          6.45,
          27.9,
          0,
          39.6875,
          6.95,
          56.4958,
          7.2292,
          7.8542,
          8.3,
          8.6625,
          8.05,
          7.925,
          10.5,
          6.4375,
          8.6625,
          7.55,
          69.55,
          7.8958,
          33,
          31.275,
          7.775,
          7.2292,
          14.1083,
          11.5,
          13,
          50.4958,
          9.5,
          7.8958,
          5,
          9,
          9.8458,
          7.8958,
          7.8958,
          7.8958,
          10.5,
          7.05,
          13,
          7.75
         ],
         "yaxis": "y"
        },
        {
         "hovertemplate": "Survived=0.0<br>Sex=female<br>Age=%{x}<br>Fare=%{marker.size}<extra></extra>",
         "legendgroup": "0.0, female",
         "marker": {
          "color": "#636efa",
          "size": [
           7.8542,
           18,
           21.075,
           18,
           9.475,
           21,
           17.8,
           46.9,
           7.8958,
           14.4542,
           9.825,
           14.4583,
           31.275,
           14.5,
           15.2458,
           34.375,
           27.9,
           28.7125,
           69.55,
           13,
           10.4625,
           25.4667,
           7.55,
           14.4542,
           7.775,
           10.4625,
           20.2125,
           7.75,
           7.75,
           8.85,
           151.55,
           26,
           13,
           14.4542,
           21.075,
           7.8542,
           9.825,
           8.6625,
           25.4667,
           8.05,
           24.15,
           14.4,
           34.375,
           9.8375,
           25.4667,
           151.55,
           7.75,
           7.6292,
           9.5875,
           8.6625,
           31.275,
           31.275,
           8.05,
           21.075,
           14.4583,
           7.75,
           31.275,
           16.1,
           27.9,
           39.6875,
           27.9,
           6.75,
           15.5,
           46.9,
           8.1375,
           14.4542,
           7.925,
           34.375,
           7.75,
           10.5,
           69.55,
           24.15,
           7.775,
           31.275,
           7.925,
           15.2458,
           26,
           69.55,
           10.5167,
           29.125,
           23.45
          ],
          "sizemode": "area",
          "sizeref": 1.280823,
          "symbol": "diamond"
         },
         "mode": "markers",
         "name": "0.0, female",
         "showlegend": true,
         "type": "scattergl",
         "x": [
          14,
          31,
          8,
          18,
          40,
          27,
          18,
          16,
          28,
          14.5,
          20,
          17,
          2,
          47,
          null,
          9,
          45,
          50,
          null,
          24,
          2,
          null,
          null,
          null,
          25,
          29,
          41,
          null,
          45,
          24,
          2,
          26,
          38,
          45,
          3,
          31,
          21,
          20,
          null,
          null,
          10,
          28,
          21,
          22,
          null,
          25,
          21,
          null,
          37,
          30,
          9,
          11,
          null,
          29,
          null,
          null,
          39,
          26,
          9,
          41,
          2,
          18,
          32,
          43,
          null,
          18,
          25,
          48,
          30.5,
          57,
          null,
          30,
          18,
          6,
          23,
          9,
          44,
          null,
          22,
          39,
          null
         ],
         "xaxis": "x",
         "y": [
          7.8542,
          18,
          21.075,
          18,
          9.475,
          21,
          17.8,
          46.9,
          7.8958,
          14.4542,
          9.825,
          14.4583,
          31.275,
          14.5,
          15.2458,
          34.375,
          27.9,
          28.7125,
          69.55,
          13,
          10.4625,
          25.4667,
          7.55,
          14.4542,
          7.775,
          10.4625,
          20.2125,
          7.75,
          7.75,
          8.85,
          151.55,
          26,
          13,
          14.4542,
          21.075,
          7.8542,
          9.825,
          8.6625,
          25.4667,
          8.05,
          24.15,
          14.4,
          34.375,
          9.8375,
          25.4667,
          151.55,
          7.75,
          7.6292,
          9.5875,
          8.6625,
          31.275,
          31.275,
          8.05,
          21.075,
          14.4583,
          7.75,
          31.275,
          16.1,
          27.9,
          39.6875,
          27.9,
          6.75,
          15.5,
          46.9,
          8.1375,
          14.4542,
          7.925,
          34.375,
          7.75,
          10.5,
          69.55,
          24.15,
          7.775,
          31.275,
          7.925,
          15.2458,
          26,
          69.55,
          10.5167,
          29.125,
          23.45
         ],
         "yaxis": "y"
        },
        {
         "hovertemplate": "Survived=1.0<br>Sex=male<br>Age=%{x}<br>Fare=%{marker.size}<extra></extra>",
         "legendgroup": "1.0, male",
         "marker": {
          "color": "#EF553B",
          "size": [
           13,
           13,
           35.5,
           7.2292,
           35.5,
           15.2458,
           56.4958,
           29,
           9.5,
           63.3583,
           7.775,
           11.2417,
           7.1417,
           7.7958,
           20.525,
           39,
           26.55,
           26,
           8.05,
           18.7875,
           31,
           8.05,
           90,
           10.5,
           52.5542,
           31.3875,
           7.775,
           0,
           8.05,
           9.5,
           13,
           30.5,
           23.25,
           151.55,
           8.05,
           26,
           15.9,
           55.4417,
           120,
           7.7958,
           7.925,
           18.75,
           7.925,
           8.05,
           26.55,
           8.1125,
           81.8583,
           26.55,
           30.5,
           89.1042,
           7.8958,
           26.55,
           91.0792,
           15.9,
           26.55,
           56.4958,
           7.75,
           26.2875,
           26,
           13.8625,
           36.75,
           110.8833,
           7.225,
           7.8542,
           10.5,
           26.3875,
           7.925,
           79.2,
           56.9292,
           26.55,
           30.5,
           52.5542,
           15.7417,
           30,
           30.5,
           56.4958,
           76.7292,
           35.5,
           133.65,
           7.925,
           13,
           512.3292,
           76.7292,
           57,
           56.4958,
           26.2875,
           26.2875,
           15.2458,
           52,
           53.1,
           512.3292,
           30,
           7.925,
           12.475,
           14.5,
           7.2292,
           20.575,
           120,
           8.5167,
           6.975,
           8.6625,
           37.0042,
           7.75,
           18.75,
           56.4958,
           29.7,
           26.55,
           11.1333,
           30
          ],
          "sizemode": "area",
          "sizeref": 1.280823,
          "symbol": "circle"
         },
         "mode": "markers",
         "name": "1.0, male",
         "showlegend": true,
         "type": "scattergl",
         "x": [
          null,
          34,
          28,
          null,
          null,
          null,
          32,
          0.83,
          29,
          23,
          null,
          12,
          24,
          27,
          9,
          1,
          45,
          3,
          18,
          26,
          40,
          16,
          38,
          19,
          37,
          3,
          25,
          25,
          19,
          30,
          42,
          null,
          null,
          0.92,
          45,
          2,
          3,
          25,
          36,
          21,
          39,
          3,
          44,
          32,
          28,
          null,
          4,
          34,
          52,
          49,
          29,
          48,
          25,
          9,
          null,
          26,
          29,
          36,
          32,
          null,
          8,
          17,
          22,
          32,
          62,
          36,
          32,
          60,
          49,
          35,
          27,
          42,
          20,
          80,
          32,
          null,
          48,
          56,
          50,
          20,
          31,
          36,
          27,
          31,
          null,
          35,
          42,
          null,
          48,
          27,
          35,
          null,
          31,
          6,
          0.67,
          20,
          1,
          11,
          0.42,
          27,
          27,
          1,
          null,
          0.83,
          32,
          null,
          51,
          4,
          26
         ],
         "xaxis": "x",
         "y": [
          13,
          13,
          35.5,
          7.2292,
          35.5,
          15.2458,
          56.4958,
          29,
          9.5,
          63.3583,
          7.775,
          11.2417,
          7.1417,
          7.7958,
          20.525,
          39,
          26.55,
          26,
          8.05,
          18.7875,
          31,
          8.05,
          90,
          10.5,
          52.5542,
          31.3875,
          7.775,
          0,
          8.05,
          9.5,
          13,
          30.5,
          23.25,
          151.55,
          8.05,
          26,
          15.9,
          55.4417,
          120,
          7.7958,
          7.925,
          18.75,
          7.925,
          8.05,
          26.55,
          8.1125,
          81.8583,
          26.55,
          30.5,
          89.1042,
          7.8958,
          26.55,
          91.0792,
          15.9,
          26.55,
          56.4958,
          7.75,
          26.2875,
          26,
          13.8625,
          36.75,
          110.8833,
          7.225,
          7.8542,
          10.5,
          26.3875,
          7.925,
          79.2,
          56.9292,
          26.55,
          30.5,
          52.5542,
          15.7417,
          30,
          30.5,
          56.4958,
          76.7292,
          35.5,
          133.65,
          7.925,
          13,
          512.3292,
          76.7292,
          57,
          56.4958,
          26.2875,
          26.2875,
          15.2458,
          52,
          53.1,
          512.3292,
          30,
          7.925,
          12.475,
          14.5,
          7.2292,
          20.575,
          120,
          8.5167,
          6.975,
          8.6625,
          37.0042,
          7.75,
          18.75,
          56.4958,
          29.7,
          26.55,
          11.1333,
          30
         ],
         "yaxis": "y"
        },
        {
         "hovertemplate": "Survived=1.0<br>Sex=female<br>Age=%{x}<br>Fare=%{marker.size}<extra></extra>",
         "legendgroup": "1.0, female",
         "marker": {
          "color": "#EF553B",
          "size": [
           71.2833,
           7.925,
           53.1,
           11.1333,
           30.0708,
           16.7,
           26.55,
           16,
           7.225,
           8.0292,
           31.3875,
           7.8792,
           146.5208,
           7.75,
           11.2417,
           41.5792,
           7.8792,
           7.75,
           76.7292,
           26,
           10.5,
           27.75,
           80,
           10.5,
           7.925,
           12.475,
           7.7875,
           10.5,
           15.85,
           263,
           23,
           7.65,
           24.15,
           13,
           22.3583,
           26,
           26.2833,
           7.75,
           15.85,
           66.6,
           7.7333,
           15.75,
           55,
           11.1333,
           22.025,
           15.5,
           13,
           7.8542,
           27.7208,
           146.5208,
           7.75,
           7.75,
           21,
           113.275,
           7.925,
           76.2917,
           83.475,
           31.3875,
           26.25,
           15.5,
           14.5,
           15.2458,
           79.2,
           86.5,
           512.3292,
           26,
           153.4625,
           135.6333,
           19.5,
           7.75,
           77.9583,
           20.25,
           7.75,
           78.85,
           91.0792,
           247.5208,
           7.75,
           12.35,
           110.8833,
           108.9,
           56.9292,
           83.1583,
           262.375,
           7.8542,
           26,
           164.8667,
           134.5,
           12.35,
           29,
           135.6333,
           13,
           20.525,
           57.9792,
           23.25,
           133.65,
           134.5,
           263,
           13,
           13,
           16.1,
           55,
           7.8792,
           7.8792,
           75.25,
           7.2292,
           7.75,
           69.3,
           82.1708,
           7.25,
           227.525,
           15.7417,
           52,
           13,
           12,
           113.275,
           16.7,
           12.65,
           90,
           32.5,
           13,
           26,
           26,
           16.1,
           26,
           120,
           18.75,
           26.25,
           13,
           19.5,
           19.2583,
           51.8625,
           10.5,
           19.2583,
           27.75,
           13.7917,
           12.2875,
           9.5875,
           90,
           78.2667,
           86.5,
           26,
           59.4,
           10.5,
           26,
           93.5,
           57.9792,
           10.5,
           26,
           22.3583,
           26.25,
           106.425,
           49.5,
           71,
           26,
           7.775,
           39.6,
           79.65,
           17.4,
           51.4792,
           7.75,
           13,
           55.9,
           30,
           110.8833,
           79.65,
           78.2667,
           33,
           27,
           41.5792,
           153.4625,
           15.5,
           65,
           39,
           77.9583,
           13,
           69.3,
           19.2583,
           7.55,
           23,
           7.8292,
           52,
           39,
           9.8417,
           211.3375,
           13.4167,
           7.7333,
           227.525,
           13.5,
           151.55,
           49.5042,
           227.525,
           10.5,
           33,
           21,
           7.7375,
           211.3375,
           262.375,
           13,
           23,
           65,
           86.5,
           120,
           77.9583,
           23,
           12.475,
           211.3375,
           7.2292,
           57,
           7.4958,
           25.9292,
           8.6833,
           26.25,
           53.1,
           93.5,
           12.475,
           80,
           14.4542,
           83.1583,
           31,
           89.1042,
           39.4,
           9.35,
           164.8667,
           19.2583,
           25.9292,
           13,
           13.8583,
           52.5542,
           24,
           7.225,
           83.1583,
           26,
           30
          ],
          "sizemode": "area",
          "sizeref": 1.280823,
          "symbol": "diamond"
         },
         "mode": "markers",
         "name": "1.0, female",
         "showlegend": true,
         "type": "scattergl",
         "x": [
          38,
          26,
          35,
          27,
          14,
          4,
          58,
          55,
          null,
          15,
          38,
          null,
          null,
          null,
          14,
          3,
          19,
          null,
          49,
          29,
          21,
          5,
          38,
          29,
          17,
          30,
          null,
          17,
          33,
          23,
          34,
          21,
          null,
          32.5,
          null,
          29,
          19,
          22,
          24,
          22,
          16,
          40,
          null,
          1,
          4,
          null,
          32,
          19,
          44,
          58,
          null,
          16,
          35,
          31,
          27,
          32,
          35,
          5,
          8,
          null,
          24,
          29,
          null,
          30,
          35,
          50,
          58,
          35,
          41,
          null,
          63,
          35,
          22,
          26,
          19,
          50,
          null,
          null,
          null,
          17,
          30,
          24,
          18,
          26,
          24,
          31,
          40,
          30,
          22,
          36,
          36,
          31,
          16,
          null,
          null,
          41,
          24,
          24,
          40,
          null,
          22,
          null,
          null,
          60,
          null,
          null,
          24,
          null,
          22,
          42,
          1,
          35,
          36,
          17,
          23,
          24,
          28,
          33,
          34,
          18,
          28,
          19,
          null,
          42,
          14,
          24,
          45,
          28,
          13,
          5,
          null,
          50,
          0.75,
          33,
          23,
          2,
          63,
          35,
          54,
          16,
          33,
          54,
          34,
          36,
          30,
          44,
          50,
          2,
          null,
          7,
          30,
          22,
          36,
          19,
          22,
          48,
          39,
          36,
          53,
          null,
          34,
          39,
          25,
          39,
          18,
          52,
          null,
          24,
          22,
          40,
          null,
          24,
          4,
          21,
          28,
          24,
          0.75,
          23,
          18,
          null,
          null,
          40,
          18,
          15,
          4,
          null,
          18,
          45,
          22,
          24,
          38,
          27,
          6,
          30,
          null,
          29,
          21,
          30,
          4,
          48,
          33,
          36,
          51,
          54,
          5,
          43,
          13,
          17,
          18,
          49,
          31,
          31,
          33,
          52,
          27,
          62,
          15,
          39,
          30,
          null,
          16,
          18,
          45,
          24,
          48,
          42,
          27,
          47,
          28,
          15,
          56,
          25,
          19
         ],
         "xaxis": "x",
         "y": [
          71.2833,
          7.925,
          53.1,
          11.1333,
          30.0708,
          16.7,
          26.55,
          16,
          7.225,
          8.0292,
          31.3875,
          7.8792,
          146.5208,
          7.75,
          11.2417,
          41.5792,
          7.8792,
          7.75,
          76.7292,
          26,
          10.5,
          27.75,
          80,
          10.5,
          7.925,
          12.475,
          7.7875,
          10.5,
          15.85,
          263,
          23,
          7.65,
          24.15,
          13,
          22.3583,
          26,
          26.2833,
          7.75,
          15.85,
          66.6,
          7.7333,
          15.75,
          55,
          11.1333,
          22.025,
          15.5,
          13,
          7.8542,
          27.7208,
          146.5208,
          7.75,
          7.75,
          21,
          113.275,
          7.925,
          76.2917,
          83.475,
          31.3875,
          26.25,
          15.5,
          14.5,
          15.2458,
          79.2,
          86.5,
          512.3292,
          26,
          153.4625,
          135.6333,
          19.5,
          7.75,
          77.9583,
          20.25,
          7.75,
          78.85,
          91.0792,
          247.5208,
          7.75,
          12.35,
          110.8833,
          108.9,
          56.9292,
          83.1583,
          262.375,
          7.8542,
          26,
          164.8667,
          134.5,
          12.35,
          29,
          135.6333,
          13,
          20.525,
          57.9792,
          23.25,
          133.65,
          134.5,
          263,
          13,
          13,
          16.1,
          55,
          7.8792,
          7.8792,
          75.25,
          7.2292,
          7.75,
          69.3,
          82.1708,
          7.25,
          227.525,
          15.7417,
          52,
          13,
          12,
          113.275,
          16.7,
          12.65,
          90,
          32.5,
          13,
          26,
          26,
          16.1,
          26,
          120,
          18.75,
          26.25,
          13,
          19.5,
          19.2583,
          51.8625,
          10.5,
          19.2583,
          27.75,
          13.7917,
          12.2875,
          9.5875,
          90,
          78.2667,
          86.5,
          26,
          59.4,
          10.5,
          26,
          93.5,
          57.9792,
          10.5,
          26,
          22.3583,
          26.25,
          106.425,
          49.5,
          71,
          26,
          7.775,
          39.6,
          79.65,
          17.4,
          51.4792,
          7.75,
          13,
          55.9,
          30,
          110.8833,
          79.65,
          78.2667,
          33,
          27,
          41.5792,
          153.4625,
          15.5,
          65,
          39,
          77.9583,
          13,
          69.3,
          19.2583,
          7.55,
          23,
          7.8292,
          52,
          39,
          9.8417,
          211.3375,
          13.4167,
          7.7333,
          227.525,
          13.5,
          151.55,
          49.5042,
          227.525,
          10.5,
          33,
          21,
          7.7375,
          211.3375,
          262.375,
          13,
          23,
          65,
          86.5,
          120,
          77.9583,
          23,
          12.475,
          211.3375,
          7.2292,
          57,
          7.4958,
          25.9292,
          8.6833,
          26.25,
          53.1,
          93.5,
          12.475,
          80,
          14.4542,
          83.1583,
          31,
          89.1042,
          39.4,
          9.35,
          164.8667,
          19.2583,
          25.9292,
          13,
          13.8583,
          52.5542,
          24,
          7.225,
          83.1583,
          26,
          30
         ],
         "yaxis": "y"
        }
       ],
       "layout": {
        "legend": {
         "itemsizing": "constant",
         "title": {
          "text": "Survived, Sex"
         },
         "tracegroupgap": 0
        },
        "template": {
         "data": {
          "bar": [
           {
            "error_x": {
             "color": "#2a3f5f"
            },
            "error_y": {
             "color": "#2a3f5f"
            },
            "marker": {
             "line": {
              "color": "#E5ECF6",
              "width": 0.5
             },
             "pattern": {
              "fillmode": "overlay",
              "size": 10,
              "solidity": 0.2
             }
            },
            "type": "bar"
           }
          ],
          "barpolar": [
           {
            "marker": {
             "line": {
              "color": "#E5ECF6",
              "width": 0.5
             },
             "pattern": {
              "fillmode": "overlay",
              "size": 10,
              "solidity": 0.2
             }
            },
            "type": "barpolar"
           }
          ],
          "carpet": [
           {
            "aaxis": {
             "endlinecolor": "#2a3f5f",
             "gridcolor": "white",
             "linecolor": "white",
             "minorgridcolor": "white",
             "startlinecolor": "#2a3f5f"
            },
            "baxis": {
             "endlinecolor": "#2a3f5f",
             "gridcolor": "white",
             "linecolor": "white",
             "minorgridcolor": "white",
             "startlinecolor": "#2a3f5f"
            },
            "type": "carpet"
           }
          ],
          "choropleth": [
           {
            "colorbar": {
             "outlinewidth": 0,
             "ticks": ""
            },
            "type": "choropleth"
           }
          ],
          "contour": [
           {
            "colorbar": {
             "outlinewidth": 0,
             "ticks": ""
            },
            "colorscale": [
             [
              0,
              "#0d0887"
             ],
             [
              0.1111111111111111,
              "#46039f"
             ],
             [
              0.2222222222222222,
              "#7201a8"
             ],
             [
              0.3333333333333333,
              "#9c179e"
             ],
             [
              0.4444444444444444,
              "#bd3786"
             ],
             [
              0.5555555555555556,
              "#d8576b"
             ],
             [
              0.6666666666666666,
              "#ed7953"
             ],
             [
              0.7777777777777778,
              "#fb9f3a"
             ],
             [
              0.8888888888888888,
              "#fdca26"
             ],
             [
              1,
              "#f0f921"
             ]
            ],
            "type": "contour"
           }
          ],
          "contourcarpet": [
           {
            "colorbar": {
             "outlinewidth": 0,
             "ticks": ""
            },
            "type": "contourcarpet"
           }
          ],
          "heatmap": [
           {
            "colorbar": {
             "outlinewidth": 0,
             "ticks": ""
            },
            "colorscale": [
             [
              0,
              "#0d0887"
             ],
             [
              0.1111111111111111,
              "#46039f"
             ],
             [
              0.2222222222222222,
              "#7201a8"
             ],
             [
              0.3333333333333333,
              "#9c179e"
             ],
             [
              0.4444444444444444,
              "#bd3786"
             ],
             [
              0.5555555555555556,
              "#d8576b"
             ],
             [
              0.6666666666666666,
              "#ed7953"
             ],
             [
              0.7777777777777778,
              "#fb9f3a"
             ],
             [
              0.8888888888888888,
              "#fdca26"
             ],
             [
              1,
              "#f0f921"
             ]
            ],
            "type": "heatmap"
           }
          ],
          "heatmapgl": [
           {
            "colorbar": {
             "outlinewidth": 0,
             "ticks": ""
            },
            "colorscale": [
             [
              0,
              "#0d0887"
             ],
             [
              0.1111111111111111,
              "#46039f"
             ],
             [
              0.2222222222222222,
              "#7201a8"
             ],
             [
              0.3333333333333333,
              "#9c179e"
             ],
             [
              0.4444444444444444,
              "#bd3786"
             ],
             [
              0.5555555555555556,
              "#d8576b"
             ],
             [
              0.6666666666666666,
              "#ed7953"
             ],
             [
              0.7777777777777778,
              "#fb9f3a"
             ],
             [
              0.8888888888888888,
              "#fdca26"
             ],
             [
              1,
              "#f0f921"
             ]
            ],
            "type": "heatmapgl"
           }
          ],
          "histogram": [
           {
            "marker": {
             "pattern": {
              "fillmode": "overlay",
              "size": 10,
              "solidity": 0.2
             }
            },
            "type": "histogram"
           }
          ],
          "histogram2d": [
           {
            "colorbar": {
             "outlinewidth": 0,
             "ticks": ""
            },
            "colorscale": [
             [
              0,
              "#0d0887"
             ],
             [
              0.1111111111111111,
              "#46039f"
             ],
             [
              0.2222222222222222,
              "#7201a8"
             ],
             [
              0.3333333333333333,
              "#9c179e"
             ],
             [
              0.4444444444444444,
              "#bd3786"
             ],
             [
              0.5555555555555556,
              "#d8576b"
             ],
             [
              0.6666666666666666,
              "#ed7953"
             ],
             [
              0.7777777777777778,
              "#fb9f3a"
             ],
             [
              0.8888888888888888,
              "#fdca26"
             ],
             [
              1,
              "#f0f921"
             ]
            ],
            "type": "histogram2d"
           }
          ],
          "histogram2dcontour": [
           {
            "colorbar": {
             "outlinewidth": 0,
             "ticks": ""
            },
            "colorscale": [
             [
              0,
              "#0d0887"
             ],
             [
              0.1111111111111111,
              "#46039f"
             ],
             [
              0.2222222222222222,
              "#7201a8"
             ],
             [
              0.3333333333333333,
              "#9c179e"
             ],
             [
              0.4444444444444444,
              "#bd3786"
             ],
             [
              0.5555555555555556,
              "#d8576b"
             ],
             [
              0.6666666666666666,
              "#ed7953"
             ],
             [
              0.7777777777777778,
              "#fb9f3a"
             ],
             [
              0.8888888888888888,
              "#fdca26"
             ],
             [
              1,
              "#f0f921"
             ]
            ],
            "type": "histogram2dcontour"
           }
          ],
          "mesh3d": [
           {
            "colorbar": {
             "outlinewidth": 0,
             "ticks": ""
            },
            "type": "mesh3d"
           }
          ],
          "parcoords": [
           {
            "line": {
             "colorbar": {
              "outlinewidth": 0,
              "ticks": ""
             }
            },
            "type": "parcoords"
           }
          ],
          "pie": [
           {
            "automargin": true,
            "type": "pie"
           }
          ],
          "scatter": [
           {
            "fillpattern": {
             "fillmode": "overlay",
             "size": 10,
             "solidity": 0.2
            },
            "type": "scatter"
           }
          ],
          "scatter3d": [
           {
            "line": {
             "colorbar": {
              "outlinewidth": 0,
              "ticks": ""
             }
            },
            "marker": {
             "colorbar": {
              "outlinewidth": 0,
              "ticks": ""
             }
            },
            "type": "scatter3d"
           }
          ],
          "scattercarpet": [
           {
            "marker": {
             "colorbar": {
              "outlinewidth": 0,
              "ticks": ""
             }
            },
            "type": "scattercarpet"
           }
          ],
          "scattergeo": [
           {
            "marker": {
             "colorbar": {
              "outlinewidth": 0,
              "ticks": ""
             }
            },
            "type": "scattergeo"
           }
          ],
          "scattergl": [
           {
            "marker": {
             "colorbar": {
              "outlinewidth": 0,
              "ticks": ""
             }
            },
            "type": "scattergl"
           }
          ],
          "scattermapbox": [
           {
            "marker": {
             "colorbar": {
              "outlinewidth": 0,
              "ticks": ""
             }
            },
            "type": "scattermapbox"
           }
          ],
          "scatterpolar": [
           {
            "marker": {
             "colorbar": {
              "outlinewidth": 0,
              "ticks": ""
             }
            },
            "type": "scatterpolar"
           }
          ],
          "scatterpolargl": [
           {
            "marker": {
             "colorbar": {
              "outlinewidth": 0,
              "ticks": ""
             }
            },
            "type": "scatterpolargl"
           }
          ],
          "scatterternary": [
           {
            "marker": {
             "colorbar": {
              "outlinewidth": 0,
              "ticks": ""
             }
            },
            "type": "scatterternary"
           }
          ],
          "surface": [
           {
            "colorbar": {
             "outlinewidth": 0,
             "ticks": ""
            },
            "colorscale": [
             [
              0,
              "#0d0887"
             ],
             [
              0.1111111111111111,
              "#46039f"
             ],
             [
              0.2222222222222222,
              "#7201a8"
             ],
             [
              0.3333333333333333,
              "#9c179e"
             ],
             [
              0.4444444444444444,
              "#bd3786"
             ],
             [
              0.5555555555555556,
              "#d8576b"
             ],
             [
              0.6666666666666666,
              "#ed7953"
             ],
             [
              0.7777777777777778,
              "#fb9f3a"
             ],
             [
              0.8888888888888888,
              "#fdca26"
             ],
             [
              1,
              "#f0f921"
             ]
            ],
            "type": "surface"
           }
          ],
          "table": [
           {
            "cells": {
             "fill": {
              "color": "#EBF0F8"
             },
             "line": {
              "color": "white"
             }
            },
            "header": {
             "fill": {
              "color": "#C8D4E3"
             },
             "line": {
              "color": "white"
             }
            },
            "type": "table"
           }
          ]
         },
         "layout": {
          "annotationdefaults": {
           "arrowcolor": "#2a3f5f",
           "arrowhead": 0,
           "arrowwidth": 1
          },
          "autotypenumbers": "strict",
          "coloraxis": {
           "colorbar": {
            "outlinewidth": 0,
            "ticks": ""
           }
          },
          "colorscale": {
           "diverging": [
            [
             0,
             "#8e0152"
            ],
            [
             0.1,
             "#c51b7d"
            ],
            [
             0.2,
             "#de77ae"
            ],
            [
             0.3,
             "#f1b6da"
            ],
            [
             0.4,
             "#fde0ef"
            ],
            [
             0.5,
             "#f7f7f7"
            ],
            [
             0.6,
             "#e6f5d0"
            ],
            [
             0.7,
             "#b8e186"
            ],
            [
             0.8,
             "#7fbc41"
            ],
            [
             0.9,
             "#4d9221"
            ],
            [
             1,
             "#276419"
            ]
           ],
           "sequential": [
            [
             0,
             "#0d0887"
            ],
            [
             0.1111111111111111,
             "#46039f"
            ],
            [
             0.2222222222222222,
             "#7201a8"
            ],
            [
             0.3333333333333333,
             "#9c179e"
            ],
            [
             0.4444444444444444,
             "#bd3786"
            ],
            [
             0.5555555555555556,
             "#d8576b"
            ],
            [
             0.6666666666666666,
             "#ed7953"
            ],
            [
             0.7777777777777778,
             "#fb9f3a"
            ],
            [
             0.8888888888888888,
             "#fdca26"
            ],
            [
             1,
             "#f0f921"
            ]
           ],
           "sequentialminus": [
            [
             0,
             "#0d0887"
            ],
            [
             0.1111111111111111,
             "#46039f"
            ],
            [
             0.2222222222222222,
             "#7201a8"
            ],
            [
             0.3333333333333333,
             "#9c179e"
            ],
            [
             0.4444444444444444,
             "#bd3786"
            ],
            [
             0.5555555555555556,
             "#d8576b"
            ],
            [
             0.6666666666666666,
             "#ed7953"
            ],
            [
             0.7777777777777778,
             "#fb9f3a"
            ],
            [
             0.8888888888888888,
             "#fdca26"
            ],
            [
             1,
             "#f0f921"
            ]
           ]
          },
          "colorway": [
           "#636efa",
           "#EF553B",
           "#00cc96",
           "#ab63fa",
           "#FFA15A",
           "#19d3f3",
           "#FF6692",
           "#B6E880",
           "#FF97FF",
           "#FECB52"
          ],
          "font": {
           "color": "#2a3f5f"
          },
          "geo": {
           "bgcolor": "white",
           "lakecolor": "white",
           "landcolor": "#E5ECF6",
           "showlakes": true,
           "showland": true,
           "subunitcolor": "white"
          },
          "hoverlabel": {
           "align": "left"
          },
          "hovermode": "closest",
          "mapbox": {
           "style": "light"
          },
          "paper_bgcolor": "white",
          "plot_bgcolor": "#E5ECF6",
          "polar": {
           "angularaxis": {
            "gridcolor": "white",
            "linecolor": "white",
            "ticks": ""
           },
           "bgcolor": "#E5ECF6",
           "radialaxis": {
            "gridcolor": "white",
            "linecolor": "white",
            "ticks": ""
           }
          },
          "scene": {
           "xaxis": {
            "backgroundcolor": "#E5ECF6",
            "gridcolor": "white",
            "gridwidth": 2,
            "linecolor": "white",
            "showbackground": true,
            "ticks": "",
            "zerolinecolor": "white"
           },
           "yaxis": {
            "backgroundcolor": "#E5ECF6",
            "gridcolor": "white",
            "gridwidth": 2,
            "linecolor": "white",
            "showbackground": true,
            "ticks": "",
            "zerolinecolor": "white"
           },
           "zaxis": {
            "backgroundcolor": "#E5ECF6",
            "gridcolor": "white",
            "gridwidth": 2,
            "linecolor": "white",
            "showbackground": true,
            "ticks": "",
            "zerolinecolor": "white"
           }
          },
          "shapedefaults": {
           "line": {
            "color": "#2a3f5f"
           }
          },
          "ternary": {
           "aaxis": {
            "gridcolor": "white",
            "linecolor": "white",
            "ticks": ""
           },
           "baxis": {
            "gridcolor": "white",
            "linecolor": "white",
            "ticks": ""
           },
           "bgcolor": "#E5ECF6",
           "caxis": {
            "gridcolor": "white",
            "linecolor": "white",
            "ticks": ""
           }
          },
          "title": {
           "x": 0.05
          },
          "xaxis": {
           "automargin": true,
           "gridcolor": "white",
           "linecolor": "white",
           "ticks": "",
           "title": {
            "standoff": 15
           },
           "zerolinecolor": "white",
           "zerolinewidth": 2
          },
          "yaxis": {
           "automargin": true,
           "gridcolor": "white",
           "linecolor": "white",
           "ticks": "",
           "title": {
            "standoff": 15
           },
           "zerolinecolor": "white",
           "zerolinewidth": 2
          }
         }
        },
        "title": {
         "text": "Fare vs. Age with Survival Status"
        },
        "xaxis": {
         "anchor": "y",
         "domain": [
          0,
          1
         ],
         "title": {
          "text": "Age"
         }
        },
        "yaxis": {
         "anchor": "x",
         "domain": [
          0,
          1
         ],
         "title": {
          "text": "Fare"
         }
        }
       }
      }
     },
     "metadata": {},
     "output_type": "display_data"
    }
   ],
   "source": [
    "fig = px.scatter(data,\n",
    "                 x=\"Age\",\n",
    "                 y=\"Fare\",\n",
    "                 color=\"Survived\",\n",
    "                 symbol=\"Sex\",\n",
    "                 size=\"Fare\",\n",
    "                 title=\"Fare vs. Age with Survival Status\")\n",
    "fig.show()"
   ]
  }
 ],
 "metadata": {
  "kernelspec": {
   "display_name": "Python 3",
   "language": "python",
   "name": "python3"
  },
  "language_info": {
   "codemirror_mode": {
    "name": "ipython",
    "version": 3
   },
   "file_extension": ".py",
   "mimetype": "text/x-python",
   "name": "python",
   "nbconvert_exporter": "python",
   "pygments_lexer": "ipython3",
   "version": "3.12.7"
  }
 },
 "nbformat": 4,
 "nbformat_minor": 5
}
