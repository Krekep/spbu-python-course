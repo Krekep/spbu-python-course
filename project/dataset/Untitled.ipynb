{
 "cells": [
  {
   "cell_type": "markdown",
   "id": "d485f9b3-ef52-432b-9862-47c9f93d0bcb",
   "metadata": {},
   "source": [
    "Importing necessary libraries for data analysis and visualization"
   ]
  },
  {
   "cell_type": "code",
   "execution_count": null,
   "id": "59b654a9-e7a8-403e-af28-172bbcc4daab",
   "metadata": {},
   "outputs": [],
   "source": [
    "import pandas as pd\n",
    "import seaborn as sns\n",
    "import matplotlib.pyplot as plt\n",
    "import plotly.express as px\n",
    "import plotly.graph_objects as go\n",
    "import warnings"
   ]
  },
  {
   "cell_type": "markdown",
   "id": "93074bdc-cdb3-4d4f-a872-41f8d9d74e5d",
   "metadata": {},
   "source": [
    "Step 1: Load the datasets"
   ]
  },
  {
   "cell_type": "markdown",
   "id": "36a85c80-84b8-4959-9a4a-501a36a756d4",
   "metadata": {},
   "source": [
    "In this step, we load the train.csv and test.csv datasets and combine them into one data DataFrame. This is important as it allows us to analyze the full set of passenger data."
   ]
  },
  {
   "cell_type": "code",
   "execution_count": null,
   "id": "1de0923b-b1c0-4831-8cd9-ff1b6bf3a70b",
   "metadata": {},
   "outputs": [
    {
     "data": {
      "text/plain": [
       "Traceback (most recent call last):\n",
       "  File \"c:\\Users\\denis\\.vscode\\extensions\\ms-python.python-2024.18.1-win32-x64\\python_files\\python_server.py\", line 130, in exec_user_input\n",
       "    retval = callable_(user_input, user_globals)\n",
       "             ^^^^^^^^^^^^^^^^^^^^^^^^^^^^^^^^^^^\n",
       "  File \"<string>\", line 1, in <module>\n",
       "  File \"C:\\Users\\denis\\AppData\\Local\\Programs\\Python\\Python312\\Lib\\site-packages\\pandas\\io\\parsers\\readers.py\", line 1026, in read_csv\n",
       "    return _read(filepath_or_buffer, kwds)\n",
       "           ^^^^^^^^^^^^^^^^^^^^^^^^^^^^^^^\n",
       "  File \"C:\\Users\\denis\\AppData\\Local\\Programs\\Python\\Python312\\Lib\\site-packages\\pandas\\io\\parsers\\readers.py\", line 620, in _read\n",
       "    parser = TextFileReader(filepath_or_buffer, **kwds)\n",
       "             ^^^^^^^^^^^^^^^^^^^^^^^^^^^^^^^^^^^^^^^^^^\n",
       "  File \"C:\\Users\\denis\\AppData\\Local\\Programs\\Python\\Python312\\Lib\\site-packages\\pandas\\io\\parsers\\readers.py\", line 1620, in __init__\n",
       "    self._engine = self._make_engine(f, self.engine)\n",
       "                   ^^^^^^^^^^^^^^^^^^^^^^^^^^^^^^^^^\n",
       "  File \"C:\\Users\\denis\\AppData\\Local\\Programs\\Python\\Python312\\Lib\\site-packages\\pandas\\io\\parsers\\readers.py\", line 1880, in _make_engine\n",
       "    self.handles = get_handle(\n",
       "                   ^^^^^^^^^^^\n",
       "  File \"C:\\Users\\denis\\AppData\\Local\\Programs\\Python\\Python312\\Lib\\site-packages\\pandas\\io\\common.py\", line 873, in get_handle\n",
       "    handle = open(\n",
       "             ^^^^^\n",
       "FileNotFoundError: [Errno 2] No such file or directory: 'C:/Users/denis/OneDrive/Р\\xa0Р°Р±РѕС‡РёР№ СЃС‚РѕР»/Python/spbu-python-course-1/project/dataset/train.csv'\n",
       "\n"
      ]
     },
     "metadata": {},
     "output_type": "display_data"
    }
   ],
   "source": [
    "train = pd.read_csv(\"C:/Users/denis/OneDrive/Рабочий стол/Python/spbu-python-course-1/project/dataset/train.csv\")\n",
    "test = pd.read_csv(\"C:/Users/denis/OneDrive/Рабочий стол/Python/spbu-python-course-1/project/dataset/test.csv\")\n",
    "\n",
    "data = pd.concat([train, test], ignore_index=True)"
   ]
  },
  {
   "cell_type": "markdown",
   "id": "b6d127d8-2d23-471f-a734-234d9421d496",
   "metadata": {},
   "source": [
    "Step 2: Convert columns to categorical data types"
   ]
  },
  {
   "cell_type": "markdown",
   "id": "a9626a64-eb57-412a-b751-26eb7a8f06f3",
   "metadata": {},
   "source": [
    "Here, we are converting certain columns to categorical data types to save memory and improve processing performance."
   ]
  },
  {
   "cell_type": "code",
   "execution_count": null,
   "id": "a9a30caf-2f9c-46ad-86d3-b3b7ce2c82ae",
   "metadata": {},
   "outputs": [
    {
     "data": {
      "text/plain": [
       "Traceback (most recent call last):\n",
       "  File \"c:\\Users\\denis\\.vscode\\extensions\\ms-python.python-2024.18.1-win32-x64\\python_files\\python_server.py\", line 130, in exec_user_input\n",
       "    retval = callable_(user_input, user_globals)\n",
       "             ^^^^^^^^^^^^^^^^^^^^^^^^^^^^^^^^^^^\n",
       "  File \"<string>\", line 1, in <module>\n",
       "NameError: name 'data' is not defined\n",
       "\n"
      ]
     },
     "metadata": {},
     "output_type": "display_data"
    }
   ],
   "source": [
    "data[\"Survived\"] = data[\"Survived\"].astype(\"category\")\n",
    "data[\"Pclass\"] = data[\"Pclass\"].astype(\"category\")\n",
    "data[\"Sex\"] = data[\"Sex\"].astype(\"category\")"
   ]
  },
  {
   "cell_type": "markdown",
   "id": "5d3c256b-a1f6-4c89-9d58-50ff25086cdb",
   "metadata": {},
   "source": [
    "Step 3: Basic Statistics and Insights"
   ]
  },
  {
   "cell_type": "markdown",
   "id": "195686a3-afe2-465b-866d-9d96fd6cee6e",
   "metadata": {},
   "source": [
    "We can check the general statistics of the dataset and get an overview of the data. We also perform some grouping operations to gain more insights."
   ]
  },
  {
   "cell_type": "code",
   "execution_count": null,
   "id": "e42c6264-9f37-4ece-ae69-b3586d833e23",
   "metadata": {},
   "outputs": [
    {
     "data": {
      "text/plain": [
       "Traceback (most recent call last):\n",
       "  File \"c:\\Users\\denis\\.vscode\\extensions\\ms-python.python-2024.18.1-win32-x64\\python_files\\python_server.py\", line 130, in exec_user_input\n",
       "    retval = callable_(user_input, user_globals)\n",
       "             ^^^^^^^^^^^^^^^^^^^^^^^^^^^^^^^^^^^\n",
       "  File \"<string>\", line 2, in <module>\n",
       "NameError: name 'data' is not defined\n",
       "\n"
      ]
     },
     "metadata": {},
     "output_type": "display_data"
    }
   ],
   "source": [
    "# Show basic statistics for numerical columns\n",
    "print(data.describe())\n",
    "\n",
    "# Show the count of passengers in each class\n",
    "print(data[\"Pclass\"].value_counts())\n",
    "\n",
    "# Group by Pclass and Sex to see the average age of passengers\n",
    "age_stats = data.groupby([\"Pclass\", \"Sex\"], observed=False)[\"Age\"].mean()\n",
    "print(age_stats)"
   ]
  },
  {
   "cell_type": "markdown",
   "id": "8fe63179-d99f-4eee-8e45-80e3a5e3cc37",
   "metadata": {},
   "source": [
    "Step 4: Find the youngest and oldest passengers by class and gender"
   ]
  },
  {
   "cell_type": "markdown",
   "id": "2fddf920-9049-4cb2-b139-897e5397d156",
   "metadata": {},
   "source": [
    "Here, we identify the youngest and oldest passengers based on their age."
   ]
  },
  {
   "cell_type": "code",
   "execution_count": null,
   "id": "1279d88b-8edc-4e69-aadc-96b7b68e1fa5",
   "metadata": {},
   "outputs": [
    {
     "data": {
      "text/plain": [
       "Traceback (most recent call last):\n",
       "  File \"c:\\Users\\denis\\.vscode\\extensions\\ms-python.python-2024.18.1-win32-x64\\python_files\\python_server.py\", line 130, in exec_user_input\n",
       "    retval = callable_(user_input, user_globals)\n",
       "             ^^^^^^^^^^^^^^^^^^^^^^^^^^^^^^^^^^^\n",
       "  File \"<string>\", line 2, in <module>\n",
       "NameError: name 'age_stats' is not defined\n",
       "\n"
      ]
     },
     "metadata": {},
     "output_type": "display_data"
    }
   ],
   "source": [
    "# Find the youngest and oldest passengers by class and gender\n",
    "youngest = age_stats.idxmin(), age_stats.min()\n",
    "oldest = age_stats.idxmax(), age_stats.max()\n",
    "\n",
    "print(\"The Youngest:\", youngest)\n",
    "print(\"The oldest:\", oldest)"
   ]
  },
  {
   "cell_type": "markdown",
   "id": "8a356634-82c2-4ba7-aa2c-d238e53769bc",
   "metadata": {},
   "source": [
    "Step 5: Analyze survivors whose names start with 'K'"
   ]
  },
  {
   "cell_type": "markdown",
   "id": "f0f15cae-3274-4fa7-a1ca-0829ef8a8a13",
   "metadata": {},
   "source": [
    "In this step, we focus on passengers whose names start with the letter 'K' and find out who paid the most and the least."
   ]
  },
  {
   "cell_type": "code",
   "execution_count": null,
   "id": "6a78fe31-1bd8-434c-9af8-a9885ea1ffed",
   "metadata": {},
   "outputs": [
    {
     "data": {
      "text/plain": [
       "Traceback (most recent call last):\n",
       "  File \"c:\\Users\\denis\\.vscode\\extensions\\ms-python.python-2024.18.1-win32-x64\\python_files\\python_server.py\", line 130, in exec_user_input\n",
       "    retval = callable_(user_input, user_globals)\n",
       "             ^^^^^^^^^^^^^^^^^^^^^^^^^^^^^^^^^^^\n",
       "  File \"<string>\", line 2, in <module>\n",
       "NameError: name 'data' is not defined\n",
       "\n"
      ]
     },
     "metadata": {},
     "output_type": "display_data"
    }
   ],
   "source": [
    "# Filter survivors whose names start with 'K' and sort by Fare\n",
    "survivors_with_k = data[(data[\"Survived\"] == 1) & (data[\"Name\"].str.startswith(\"K\"))]\n",
    "survivors_with_k_sorted = survivors_with_k.sort_values(by=\"Fare\", ascending=False)\n",
    "\n",
    "# Display the passenger who paid the most and the least\n",
    "print(\"Passenger paid more than all:\", survivors_with_k_sorted.iloc[0][\"Name\"])\n",
    "print(\"Passenger paid less than all:\", survivors_with_k_sorted.iloc[-1][\"Name\"])"
   ]
  },
  {
   "cell_type": "markdown",
   "id": "183e676a-9cc8-4607-a65c-6e521d6f7711",
   "metadata": {},
   "source": [
    "Step 6: Analyze the number of relatives of survivors"
   ]
  },
  {
   "cell_type": "markdown",
   "id": "094f2ba0-d279-457d-abe2-9c19bb8842e4",
   "metadata": {},
   "source": [
    "This section calculates the number of relatives (siblings/spouses + parents/children) and finds the maximum value for survivors."
   ]
  },
  {
   "cell_type": "code",
   "execution_count": null,
   "id": "8e950c7e-38f6-48c2-8740-7322fb7b8fb5",
   "metadata": {},
   "outputs": [
    {
     "data": {
      "text/plain": [
       "Traceback (most recent call last):\n",
       "  File \"c:\\Users\\denis\\.vscode\\extensions\\ms-python.python-2024.18.1-win32-x64\\python_files\\python_server.py\", line 130, in exec_user_input\n",
       "    retval = callable_(user_input, user_globals)\n",
       "             ^^^^^^^^^^^^^^^^^^^^^^^^^^^^^^^^^^^\n",
       "  File \"<string>\", line 2, in <module>\n",
       "NameError: name 'data' is not defined\n",
       "\n"
      ]
     },
     "metadata": {},
     "output_type": "display_data"
    }
   ],
   "source": [
    "# Create a new column 'Relatives' representing the number of relatives\n",
    "data[\"Relatives\"] = data[\"SibSp\"] + data[\"Parch\"]\n",
    "\n",
    "# Find the maximum number of relatives among survivors\n",
    "max_relatives = data[data[\"Survived\"] == 1][\"Relatives\"].max()\n",
    "print(\"Max relatives:\", max_relatives)"
   ]
  },
  {
   "cell_type": "markdown",
   "id": "35c4dc88-3a20-4352-9648-1311075cc568",
   "metadata": {},
   "source": [
    "Step 7: Analyze Fare based on the presence of Cabin"
   ]
  },
  {
   "cell_type": "markdown",
   "id": "237ea0c7-f523-401e-a553-9c9b2a126458",
   "metadata": {},
   "source": [
    "We analyze how the presence or absence of a cabin affects the fare."
   ]
  },
  {
   "cell_type": "code",
   "execution_count": null,
   "id": "a5021b13-9248-4e38-a232-cfc2f8e4294b",
   "metadata": {},
   "outputs": [
    {
     "data": {
      "text/plain": [
       "Traceback (most recent call last):\n",
       "  File \"c:\\Users\\denis\\.vscode\\extensions\\ms-python.python-2024.18.1-win32-x64\\python_files\\python_server.py\", line 130, in exec_user_input\n",
       "    retval = callable_(user_input, user_globals)\n",
       "             ^^^^^^^^^^^^^^^^^^^^^^^^^^^^^^^^^^^\n",
       "  File \"<string>\", line 2, in <module>\n",
       "NameError: name 'data' is not defined\n",
       "\n"
      ]
     },
     "metadata": {},
     "output_type": "display_data"
    }
   ],
   "source": [
    "# Calculate average Fare for passengers with and without a cabin\n",
    "with_cabin = data[data[\"Cabin\"].notna()][\"Fare\"].mean()\n",
    "without_cabin = data[data[\"Cabin\"].isna()][\"Fare\"].mean()\n",
    "\n",
    "# Calculate ratio of fares\n",
    "fare_ratio = with_cabin / without_cabin if without_cabin != 0 else float(\"inf\")\n",
    "\n",
    "print(\"The average ticket price for passengers with a cabin:\", with_cabin)\n",
    "print(\"The average ticket price for passengers without a cabin:\", without_cabin)\n",
    "print(\"How many times do the prices differ:\", fare_ratio)"
   ]
  },
  {
   "cell_type": "markdown",
   "id": "3635da76-df8e-43b9-813c-c9fbf326420a",
   "metadata": {},
   "source": [
    "Step 8: Visualize Passenger Distribution by Class"
   ]
  },
  {
   "cell_type": "markdown",
   "id": "49a6c079-3069-41ca-94d8-d589d63eae11",
   "metadata": {},
   "source": [
    "Now, we will visualize the distribution of passengers by class using a bar plot."
   ]
  },
  {
   "cell_type": "code",
   "execution_count": null,
   "id": "06c2b8d8-d73f-4e37-abec-ac2a2fc7b7c9",
   "metadata": {},
   "outputs": [
    {
     "data": {
      "text/plain": [
       "Traceback (most recent call last):\n",
       "  File \"c:\\Users\\denis\\.vscode\\extensions\\ms-python.python-2024.18.1-win32-x64\\python_files\\python_server.py\", line 130, in exec_user_input\n",
       "    retval = callable_(user_input, user_globals)\n",
       "             ^^^^^^^^^^^^^^^^^^^^^^^^^^^^^^^^^^^\n",
       "  File \"<string>\", line 2, in <module>\n",
       "NameError: name 'data' is not defined\n",
       "\n"
      ]
     },
     "metadata": {},
     "output_type": "display_data"
    }
   ],
   "source": [
    "# Visualizing the distribution of passengers by class\n",
    "sns.countplot(x=\"Pclass\", data=data)\n",
    "plt.title(\"The distribution of passengers by class\")\n",
    "plt.show()"
   ]
  },
  {
   "cell_type": "markdown",
   "id": "335866fa-6b0f-4ff3-bf66-54347e6ddad4",
   "metadata": {},
   "source": [
    "Step 9: Create a Sankey Diagram to show the flow of passengers by Class, Sex, and Survival"
   ]
  },
  {
   "cell_type": "markdown",
   "id": "8f72d6ec-0c17-483c-b769-87c3d3695544",
   "metadata": {},
   "source": [
    "We will create a Sankey diagram to visualize how passengers flowed through the different categories of Pclass, Sex, and Survived."
   ]
  },
  {
   "cell_type": "code",
   "execution_count": null,
   "id": "bead1ceb-cf5e-4b5b-bde2-ab3f4ca18568",
   "metadata": {},
   "outputs": [
    {
     "data": {
      "text/plain": [
       "Traceback (most recent call last):\n",
       "  File \"c:\\Users\\denis\\.vscode\\extensions\\ms-python.python-2024.18.1-win32-x64\\python_files\\python_server.py\", line 130, in exec_user_input\n",
       "    retval = callable_(user_input, user_globals)\n",
       "             ^^^^^^^^^^^^^^^^^^^^^^^^^^^^^^^^^^^\n",
       "  File \"<string>\", line 2, in <module>\n",
       "NameError: name 'data' is not defined\n",
       "\n"
      ]
     },
     "metadata": {},
     "output_type": "display_data"
    }
   ],
   "source": [
    "# Prepare data for the Sankey diagram\n",
    "sankey_data = data.groupby([\"Pclass\", \"Sex\", \"Survived\"], observed=False).size().reset_index(name=\"Count\")\n",
    "\n",
    "classes = sorted(data[\"Pclass\"].unique())\n",
    "sexes = sorted(data[\"Sex\"].unique())\n",
    "survival_status = [\"Did not Survive\", \"Survived\"]\n",
    "\n",
    "# Create nodes for the Sankey diagram\n",
    "nodes = {\n",
    "    **{f\"Class {cls}\": i for i, cls in enumerate(classes)},\n",
    "    **{sex: i + len(classes) for i, sex in enumerate(sexes)},\n",
    "    **{\n",
    "        status: i + len(classes) + len(sexes)\n",
    "        for i, status in enumerate(survival_status)\n",
    "    },\n",
    "}\n",
    "\n",
    "# Prepare sources, targets, and values for the Sankey diagram\n",
    "sources, targets, values = [], [], []\n",
    "\n",
    "for cls in classes:\n",
    "    for sex in sexes:\n",
    "        count = sankey_data[(sankey_data[\"Pclass\"] == cls) & (sankey_data[\"Sex\"] == sex)][\"Count\"].sum()\n",
    "        if count > 0:\n",
    "            sources.append(nodes[f\"Class {cls}\"])\n",
    "            targets.append(nodes[sex])\n",
    "            values.append(count)\n",
    "\n",
    "for sex in sexes:\n",
    "    for i, status in enumerate([0, 1]):\n",
    "        count = sankey_data[(sankey_data[\"Sex\"] == sex) & (sankey_data[\"Survived\"] == status)][\"Count\"].sum()\n",
    "        if count > 0:\n",
    "            sources.append(nodes[sex])\n",
    "            targets.append(nodes[survival_status[status]])\n",
    "            values.append(count)\n",
    "\n",
    "# Create and display the Sankey diagram\n",
    "fig = go.Figure(\n",
    "    go.Sankey(\n",
    "        node=dict(\n",
    "            pad=15,\n",
    "            thickness=20,\n",
    "            line=dict(color=\"black\", width=0.5),\n",
    "            label=list(nodes.keys()),\n",
    "        ),\n",
    "        link=dict(source=sources, target=targets, value=values),\n",
    "    )\n",
    ")\n",
    "fig.update_layout(title_text=\"Passenger Flow by Class, Sex, and Survival\", font_size=12)\n",
    "fig.show()"
   ]
  },
  {
   "cell_type": "markdown",
   "id": "6a701419-ef0a-457f-a54b-efc10d991278",
   "metadata": {},
   "source": [
    "Step 10: Visualize Fare vs Age by Class"
   ]
  },
  {
   "cell_type": "markdown",
   "id": "5f0700b2-5527-45f8-8fc3-d975db27aeee",
   "metadata": {},
   "source": [
    "We will now create a scatter plot to visualize the relationship between Age and Fare, with the size of the points representing the number of relatives."
   ]
  },
  {
   "cell_type": "code",
   "execution_count": null,
   "id": "6f8ac815-b291-4f67-9a8b-517d40717e32",
   "metadata": {
    "scrolled": true
   },
   "outputs": [
    {
     "data": {
      "text/plain": [
       "Traceback (most recent call last):\n",
       "  File \"c:\\Users\\denis\\.vscode\\extensions\\ms-python.python-2024.18.1-win32-x64\\python_files\\python_server.py\", line 130, in exec_user_input\n",
       "    retval = callable_(user_input, user_globals)\n",
       "             ^^^^^^^^^^^^^^^^^^^^^^^^^^^^^^^^^^^\n",
       "  File \"<string>\", line 3, in <module>\n",
       "NameError: name 'data' is not defined\n",
       "\n"
      ]
     },
     "metadata": {},
     "output_type": "display_data"
    }
   ],
   "source": [
    "# Visualizing Fare vs Age by Class with the size of the points representing number of relatives\n",
    "plt.figure(figsize=(10, 6))\n",
    "sns.scatterplot(data=data, x=\"Age\", y=\"Fare\", hue=\"Pclass\", size=\"Relatives\", sizes=(20, 200))\n",
    "plt.title(\"Fare vs. Age by Class\")\n",
    "plt.xlabel(\"Age\")\n",
    "plt.ylabel(\"Fare\")\n",
    "plt.show()"
   ]
  },
  {
   "cell_type": "markdown",
   "id": "6d5cbf4e-228a-4508-b5c9-f02f0cf13b1d",
   "metadata": {},
   "source": [
    "Step 11: Analyze Survival by Age"
   ]
  },
  {
   "cell_type": "markdown",
   "id": "374e9902-de47-40a6-afc4-7515ac2671f8",
   "metadata": {},
   "source": [
    "We will analyze the number of survivors and non-survivors by age. This analysis helps us understand how survival rates vary across different age groups."
   ]
  },
  {
   "cell_type": "code",
   "execution_count": null,
   "id": "2a1efaf9-c17c-4506-8fbd-a00e98b9203d",
   "metadata": {},
   "outputs": [
    {
     "data": {
      "text/plain": [
       "Traceback (most recent call last):\n",
       "  File \"c:\\Users\\denis\\.vscode\\extensions\\ms-python.python-2024.18.1-win32-x64\\python_files\\python_server.py\", line 130, in exec_user_input\n",
       "    retval = callable_(user_input, user_globals)\n",
       "             ^^^^^^^^^^^^^^^^^^^^^^^^^^^^^^^^^^^\n",
       "  File \"<string>\", line 1, in <module>\n",
       "NameError: name 'data' is not defined\n",
       "\n"
      ]
     },
     "metadata": {},
     "output_type": "display_data"
    }
   ],
   "source": [
    "age_survival = data.groupby([\"Age\", \"Survived\"], observed=False).size().unstack().fillna(0)\n",
    "age_survival.plot(figsize=(10, 6), title=\"Survived and Deceased by Age\")\n",
    "plt.xlabel(\"Age\")\n",
    "plt.ylabel(\"Number of Passengers\")\n",
    "plt.legend([\"Deceased\", \"Survived\"])\n",
    "plt.show()"
   ]
  },
  {
   "cell_type": "markdown",
   "id": "fe1da0a1-07e5-4be4-8186-e10d379e7c94",
   "metadata": {},
   "source": [
    "Step 12: Visualize Age Distribution of Passengers"
   ]
  },
  {
   "cell_type": "markdown",
   "id": "8124f744-377e-4d01-aec7-89617db1f91f",
   "metadata": {},
   "source": [
    "Next, we will create a histogram to visualize the age distribution of passengers. This visualization provides insights into the demographics of the passengers on board."
   ]
  },
  {
   "cell_type": "code",
   "execution_count": null,
   "id": "08de5282-061b-42b1-be6a-1cf327aa0536",
   "metadata": {},
   "outputs": [
    {
     "data": {
      "text/plain": [
       "Traceback (most recent call last):\n",
       "  File \"c:\\Users\\denis\\.vscode\\extensions\\ms-python.python-2024.18.1-win32-x64\\python_files\\python_server.py\", line 130, in exec_user_input\n",
       "    retval = callable_(user_input, user_globals)\n",
       "             ^^^^^^^^^^^^^^^^^^^^^^^^^^^^^^^^^^^\n",
       "  File \"<string>\", line 2, in <module>\n",
       "NameError: name 'data' is not defined\n",
       "\n"
      ]
     },
     "metadata": {},
     "output_type": "display_data"
    }
   ],
   "source": [
    "plt.figure(figsize=(10, 6))\n",
    "sns.histplot(data=data, x=\"Age\", bins=30, kde=True)\n",
    "plt.title(\"Age Distribution of Passengers\")\n",
    "plt.xlabel(\"Age\")\n",
    "plt.ylabel(\"Frequency\")\n",
    "plt.show()"
   ]
  },
  {
   "cell_type": "markdown",
   "id": "7d9c4323-b239-45fc-86ef-c84c8322772f",
   "metadata": {},
   "source": [
    "Step 13: Visualize Passenger Count by Class"
   ]
  },
  {
   "cell_type": "markdown",
   "id": "1ef225b2-1df1-498d-b131-b861b50a99ed",
   "metadata": {},
   "source": [
    "We will create another count plot to visualize the total number of passengers in each class. This helps us understand class distribution among the passengers."
   ]
  },
  {
   "cell_type": "code",
   "execution_count": null,
   "id": "1be6d820-7d6e-4dae-87fe-d230745410d8",
   "metadata": {},
   "outputs": [
    {
     "data": {
      "text/plain": [
       "Traceback (most recent call last):\n",
       "  File \"c:\\Users\\denis\\.vscode\\extensions\\ms-python.python-2024.18.1-win32-x64\\python_files\\python_server.py\", line 130, in exec_user_input\n",
       "    retval = callable_(user_input, user_globals)\n",
       "             ^^^^^^^^^^^^^^^^^^^^^^^^^^^^^^^^^^^\n",
       "  File \"<string>\", line 2, in <module>\n",
       "NameError: name 'data' is not defined\n",
       "\n"
      ]
     },
     "metadata": {},
     "output_type": "display_data"
    }
   ],
   "source": [
    "plt.figure(figsize=(10, 6))\n",
    "sns.countplot(data=data, x=\"Pclass\")\n",
    "plt.title(\"Passenger Count by Class\")\n",
    "plt.xlabel(\"Class\")\n",
    "plt.ylabel(\"Number of Passengers\")\n",
    "plt.show()"
   ]
  },
  {
   "cell_type": "markdown",
   "id": "e76f7bb4-5f2e-441a-b869-e0a3f643ded4",
   "metadata": {},
   "source": [
    "Step 14: Visualize Passenger Distribution by Gender"
   ]
  },
  {
   "cell_type": "markdown",
   "id": "e2221946-b732-42e3-a91b-f2dd51e57454",
   "metadata": {},
   "source": [
    "Next, we will visualize the distribution of passengers by gender using a count plot. This will help us see how many male and female passengers were on board.\n",
    "python"
   ]
  },
  {
   "cell_type": "code",
   "execution_count": null,
   "id": "d1f3ff69-656d-4fec-9dcf-a4c4bbf65ae7",
   "metadata": {},
   "outputs": [
    {
     "data": {
      "text/plain": [
       "Traceback (most recent call last):\n",
       "  File \"c:\\Users\\denis\\.vscode\\extensions\\ms-python.python-2024.18.1-win32-x64\\python_files\\python_server.py\", line 130, in exec_user_input\n",
       "    retval = callable_(user_input, user_globals)\n",
       "             ^^^^^^^^^^^^^^^^^^^^^^^^^^^^^^^^^^^\n",
       "  File \"<string>\", line 2, in <module>\n",
       "NameError: name 'data' is not defined\n",
       "\n"
      ]
     },
     "metadata": {},
     "output_type": "display_data"
    }
   ],
   "source": [
    "plt.figure(figsize=(8, 6))\n",
    "sns.countplot(data=data, y=\"Sex\", hue=\"Sex\", palette=\"pastel\", legend=False)\n",
    "plt.title(\"Passenger Distribution by Gender\")\n",
    "plt.xlabel(\"Number of Passengers\")\n",
    "plt.ylabel(\"Gender\")\n",
    "plt.show()"
   ]
  },
  {
   "cell_type": "markdown",
   "id": "870a5792-f936-47bf-82bf-f4f421caae02",
   "metadata": {},
   "source": [
    "Step 15: Visualize Survival Rate of Passengers"
   ]
  },
  {
   "cell_type": "markdown",
   "id": "d79b7420-fb41-49a7-b01d-e4ab99ec0c33",
   "metadata": {},
   "source": [
    "We will create a pie chart to visualize the survival rate of passengers. This provides a clear representation of the proportion of survivors versus non-survivors."
   ]
  },
  {
   "cell_type": "code",
   "execution_count": null,
   "id": "4c4a7298-8010-4f42-9606-9fdc81666ff0",
   "metadata": {},
   "outputs": [
    {
     "data": {
      "text/plain": [
       "Traceback (most recent call last):\n",
       "  File \"c:\\Users\\denis\\.vscode\\extensions\\ms-python.python-2024.18.1-win32-x64\\python_files\\python_server.py\", line 130, in exec_user_input\n",
       "    retval = callable_(user_input, user_globals)\n",
       "             ^^^^^^^^^^^^^^^^^^^^^^^^^^^^^^^^^^^\n",
       "  File \"<string>\", line 3, in <module>\n",
       "NameError: name 'data' is not defined\n",
       "\n"
      ]
     },
     "metadata": {},
     "output_type": "display_data"
    }
   ],
   "source": [
    "import plotly.express as px\n",
    "\n",
    "survival_counts = data[\"Survived\"].value_counts()\n",
    "fig = px.pie(names=survival_counts.index, values=survival_counts.values,\n",
    "              title=\"Survival Rate of Passengers\")\n",
    "fig.show()"
   ]
  },
  {
   "cell_type": "markdown",
   "id": "b30ba52a-6d57-451e-816d-fa17442ec5ce",
   "metadata": {},
   "source": [
    "Step 16: Visualize Fare Distribution by Class"
   ]
  },
  {
   "cell_type": "markdown",
   "id": "94e7ba4b-c10f-4c26-b5bb-bf9b761d4a82",
   "metadata": {},
   "source": [
    "We will create a box plot to visualize the fare distribution across different classes. This helps us understand how fares vary among different passenger classes."
   ]
  },
  {
   "cell_type": "code",
   "execution_count": null,
   "id": "f4e0a7ec-527d-45a8-b989-bb9848e43212",
   "metadata": {},
   "outputs": [
    {
     "data": {
      "text/plain": [
       "Traceback (most recent call last):\n",
       "  File \"c:\\Users\\denis\\.vscode\\extensions\\ms-python.python-2024.18.1-win32-x64\\python_files\\python_server.py\", line 130, in exec_user_input\n",
       "    retval = callable_(user_input, user_globals)\n",
       "             ^^^^^^^^^^^^^^^^^^^^^^^^^^^^^^^^^^^\n",
       "  File \"<string>\", line 2, in <module>\n",
       "NameError: name 'data' is not defined\n",
       "\n"
      ]
     },
     "metadata": {},
     "output_type": "display_data"
    }
   ],
   "source": [
    "plt.figure(figsize=(10, 6))\n",
    "sns.boxplot(data=data, x=\"Pclass\", y=\"Fare\")\n",
    "plt.title(\"Fare by Class\")\n",
    "plt.xlabel(\"Class\")\n",
    "plt.ylabel(\"Fare\")\n",
    "plt.show()"
   ]
  },
  {
   "cell_type": "markdown",
   "id": "490102eb-b9a6-46e7-89e2-ce81a601d0f3",
   "metadata": {},
   "source": [
    "Step 17: Visualize Passenger Distribution by Class and Gender"
   ]
  },
  {
   "cell_type": "markdown",
   "id": "b0437066-bffe-4462-a9a2-c6e056f1f8d6",
   "metadata": {},
   "source": [
    "Next, we will use a sunburst chart to visualize the distribution of passengers based on class and gender. This hierarchical visualization provides insights into how different groups are represented.\n",
    "python"
   ]
  },
  {
   "cell_type": "code",
   "execution_count": null,
   "id": "69f62aae-aa65-4329-b934-396f2e378878",
   "metadata": {},
   "outputs": [
    {
     "data": {
      "text/plain": [
       "Traceback (most recent call last):\n",
       "  File \"c:\\Users\\denis\\.vscode\\extensions\\ms-python.python-2024.18.1-win32-x64\\python_files\\python_server.py\", line 130, in exec_user_input\n",
       "    retval = callable_(user_input, user_globals)\n",
       "             ^^^^^^^^^^^^^^^^^^^^^^^^^^^^^^^^^^^\n",
       "  File \"<string>\", line 6, in <module>\n",
       "NameError: name 'data' is not defined\n",
       "\n"
      ]
     },
     "metadata": {},
     "output_type": "display_data"
    }
   ],
   "source": [
    "import warnings\n",
    "\n",
    "# Suppress FutureWarnings\n",
    "warnings.simplefilter(action='ignore', category=FutureWarning)\n",
    "\n",
    "fig = px.sunburst(data,\n",
    "                  path=[\"Pclass\", \"Sex\"],\n",
    "                  values=\"Fare\",\n",
    "                  title=\"Passenger Distribution by Class and Gender\")\n",
    "fig.show()"
   ]
  },
  {
   "cell_type": "markdown",
   "id": "b23af2f0-68be-476d-abf6-d91360cadbfe",
   "metadata": {},
   "source": [
    "Step 18: Create a 3D Scatter Plot of Age, Relatives, and Fare"
   ]
  },
  {
   "cell_type": "markdown",
   "id": "51c25da7-e4a0-4b09-bf63-6f9dae5116b7",
   "metadata": {},
   "source": [
    "We will create a 3D scatter plot to visualize the relationship between Age, Number of Relatives, and Fare. This visualization allows us to explore how these three variables interact with each other.\n",
    "python"
   ]
  },
  {
   "cell_type": "code",
   "execution_count": null,
   "id": "229b8430-60b3-488d-8e8b-164aae47b83e",
   "metadata": {},
   "outputs": [
    {
     "data": {
      "text/plain": [
       "Traceback (most recent call last):\n",
       "  File \"c:\\Users\\denis\\.vscode\\extensions\\ms-python.python-2024.18.1-win32-x64\\python_files\\python_server.py\", line 130, in exec_user_input\n",
       "    retval = callable_(user_input, user_globals)\n",
       "             ^^^^^^^^^^^^^^^^^^^^^^^^^^^^^^^^^^^\n",
       "  File \"<string>\", line 1, in <module>\n",
       "NameError: name 'data' is not defined\n",
       "\n"
      ]
     },
     "metadata": {},
     "output_type": "display_data"
    }
   ],
   "source": [
    "data[\"Fare\"] = data[\"Fare\"].fillna(0)  # Fill NaN values in Fare for plotting\n",
    "fig = px.scatter_3d(data,\n",
    "                     x=\"Age\",\n",
    "                     y=\"Relatives\",\n",
    "                     z=\"Fare\",\n",
    "                     color=\"Pclass\",\n",
    "                     size=\"Fare\",\n",
    "                     title=\"3D Scatter Plot of Age, Relatives, and Fare\")\n",
    "fig.show()"
   ]
  },
  {
   "cell_type": "markdown",
   "id": "2dbe5c08-8c16-41e8-af58-b8b53fe8b066",
   "metadata": {},
   "source": [
    "Step 19: Visualize Fare vs Age with Survival Status"
   ]
  },
  {
   "cell_type": "markdown",
   "id": "ae967dfd-49e9-4893-88cc-6697e604654b",
   "metadata": {},
   "source": [
    "Finally, we will create a scatter plot to visualize the relationship between Age and Fare while indicating survival status and gender. This visualization helps us see how fare varies with age for survivors and non-survivors.\n",
    "python"
   ]
  },
  {
   "cell_type": "code",
   "execution_count": null,
   "id": "185a6999-849c-4c60-9e99-80d0b8a2dc80",
   "metadata": {},
   "outputs": [
    {
     "data": {
      "text/plain": [
       "Traceback (most recent call last):\n",
       "  File \"c:\\Users\\denis\\.vscode\\extensions\\ms-python.python-2024.18.1-win32-x64\\python_files\\python_server.py\", line 130, in exec_user_input\n",
       "    retval = callable_(user_input, user_globals)\n",
       "             ^^^^^^^^^^^^^^^^^^^^^^^^^^^^^^^^^^^\n",
       "  File \"<string>\", line 1, in <module>\n",
       "NameError: name 'data' is not defined\n",
       "\n"
      ]
     },
     "metadata": {},
     "output_type": "display_data"
    }
   ],
   "source": [
    "fig = px.scatter(data,\n",
    "                 x=\"Age\",\n",
    "                 y=\"Fare\",\n",
    "                 color=\"Survived\",\n",
    "                 symbol=\"Sex\",\n",
    "                 size=\"Fare\",\n",
    "                 title=\"Fare vs. Age with Survival Status\")\n",
    "fig.show()"
   ]
  },
  {
   "cell_type": "code",
   "execution_count": null,
   "id": "81552815-0c34-4d45-9a5f-d788fa7a94c3",
   "metadata": {},
   "outputs": [],
   "source": []
  }
 ],
 "metadata": {
  "kernelspec": {
   "display_name": "Python 3 (ipykernel)",
   "language": "python",
   "name": "python3"
  },
  "language_info": {
   "codemirror_mode": {
    "name": "ipython",
    "version": 3
   },
   "file_extension": ".py",
   "mimetype": "text/x-python",
   "name": "python",
   "nbconvert_exporter": "python",
   "pygments_lexer": "ipython3",
   "version": "3.12.7"
  }
 },
 "nbformat": 4,
 "nbformat_minor": 5
}
