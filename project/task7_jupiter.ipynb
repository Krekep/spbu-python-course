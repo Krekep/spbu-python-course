{
  "metadata": {
    "kernelspec": {
      "name": "python",
      "display_name": "Python (Pyodide)",
      "language": "python"
    },
    "language_info": {
      "codemirror_mode": {
        "name": "python",
        "version": 3
      },
      "file_extension": ".py",
      "mimetype": "text/x-python",
      "name": "python",
      "nbconvert_exporter": "python",
      "pygments_lexer": "ipython3",
      "version": "3.8"
    },
    "colab": {
      "provenance": []
    }
  },
  "nbformat_minor": 5,
  "nbformat": 4,
  "cells": [
    {
      "id": "e4548d83-a34d-42ee-aaa5-b0faa860642f",
      "cell_type": "markdown",
      "source": "# Задание 7 Jupiter",
      "metadata": {
        "id": "e4548d83-a34d-42ee-aaa5-b0faa860642f"
      }
    },
    {
      "id": "34d381f4-57af-4dd7-8ca8-4af9ad6da5e3",
      "cell_type": "markdown",
      "source": "## Подготовка данных",
      "metadata": {
        "id": "34d381f4-57af-4dd7-8ca8-4af9ad6da5e3"
      }
    },
    {
      "id": "a922d699-e739-4896-b9aa-176690b1f465",
      "cell_type": "markdown",
      "source": "### 1. Загружаем датасет Титаник с файлами train.csv и test.csv как pandas.DataFrame",
      "metadata": {
        "id": "a922d699-e739-4896-b9aa-176690b1f465"
      }
    },
    {
      "id": "5afaf51c-a17f-444a-8024-bc76d2c2ea94",
      "cell_type": "code",
      "source": "import pandas as pd\ntest_df = pd.read_csv('test.csv')\ntrain_df = pd.read_csv('train.csv')\n\ndisplay(test_df.head())\ndisplay(train_df.head())",
      "metadata": {
        "trusted": true,
        "colab": {
          "base_uri": "https://localhost:8080/",
          "height": 412
        },
        "id": "5afaf51c-a17f-444a-8024-bc76d2c2ea94",
        "executionInfo": {
          "status": "ok",
          "timestamp": 1731631491107,
          "user_tz": -180,
          "elapsed": 2935,
          "user": {
            "displayName": "Светлана Дрягалова",
            "userId": "10120069416308116844"
          }
        },
        "outputId": "e7a8e8c9-cd42-424e-b6ef-fba7593b943f"
      },
      "outputs": [
        {
          "output_type": "display_data",
          "data": {
            "text/plain": "   PassengerId  Pclass                                          Name     Sex  \\\n0          892       3                              Kelly, Mr. James    male   \n1          893       3              Wilkes, Mrs. James (Ellen Needs)  female   \n2          894       2                     Myles, Mr. Thomas Francis    male   \n3          895       3                              Wirz, Mr. Albert    male   \n4          896       3  Hirvonen, Mrs. Alexander (Helga E Lindqvist)  female   \n\n    Age  SibSp  Parch   Ticket     Fare Cabin Embarked  \n0  34.5      0      0   330911   7.8292   NaN        Q  \n1  47.0      1      0   363272   7.0000   NaN        S  \n2  62.0      0      0   240276   9.6875   NaN        Q  \n3  27.0      0      0   315154   8.6625   NaN        S  \n4  22.0      1      1  3101298  12.2875   NaN        S  ",
            "text/html": "<div>\n<style scoped>\n    .dataframe tbody tr th:only-of-type {\n        vertical-align: middle;\n    }\n\n    .dataframe tbody tr th {\n        vertical-align: top;\n    }\n\n    .dataframe thead th {\n        text-align: right;\n    }\n</style>\n<table border=\"1\" class=\"dataframe\">\n  <thead>\n    <tr style=\"text-align: right;\">\n      <th></th>\n      <th>PassengerId</th>\n      <th>Pclass</th>\n      <th>Name</th>\n      <th>Sex</th>\n      <th>Age</th>\n      <th>SibSp</th>\n      <th>Parch</th>\n      <th>Ticket</th>\n      <th>Fare</th>\n      <th>Cabin</th>\n      <th>Embarked</th>\n    </tr>\n  </thead>\n  <tbody>\n    <tr>\n      <th>0</th>\n      <td>892</td>\n      <td>3</td>\n      <td>Kelly, Mr. James</td>\n      <td>male</td>\n      <td>34.5</td>\n      <td>0</td>\n      <td>0</td>\n      <td>330911</td>\n      <td>7.8292</td>\n      <td>NaN</td>\n      <td>Q</td>\n    </tr>\n    <tr>\n      <th>1</th>\n      <td>893</td>\n      <td>3</td>\n      <td>Wilkes, Mrs. James (Ellen Needs)</td>\n      <td>female</td>\n      <td>47.0</td>\n      <td>1</td>\n      <td>0</td>\n      <td>363272</td>\n      <td>7.0000</td>\n      <td>NaN</td>\n      <td>S</td>\n    </tr>\n    <tr>\n      <th>2</th>\n      <td>894</td>\n      <td>2</td>\n      <td>Myles, Mr. Thomas Francis</td>\n      <td>male</td>\n      <td>62.0</td>\n      <td>0</td>\n      <td>0</td>\n      <td>240276</td>\n      <td>9.6875</td>\n      <td>NaN</td>\n      <td>Q</td>\n    </tr>\n    <tr>\n      <th>3</th>\n      <td>895</td>\n      <td>3</td>\n      <td>Wirz, Mr. Albert</td>\n      <td>male</td>\n      <td>27.0</td>\n      <td>0</td>\n      <td>0</td>\n      <td>315154</td>\n      <td>8.6625</td>\n      <td>NaN</td>\n      <td>S</td>\n    </tr>\n    <tr>\n      <th>4</th>\n      <td>896</td>\n      <td>3</td>\n      <td>Hirvonen, Mrs. Alexander (Helga E Lindqvist)</td>\n      <td>female</td>\n      <td>22.0</td>\n      <td>1</td>\n      <td>1</td>\n      <td>3101298</td>\n      <td>12.2875</td>\n      <td>NaN</td>\n      <td>S</td>\n    </tr>\n  </tbody>\n</table>\n</div>"
          },
          "metadata": {}
        },
        {
          "output_type": "display_data",
          "data": {
            "text/plain": "   PassengerId  Survived  Pclass  \\\n0            1         0       3   \n1            2         1       1   \n2            3         1       3   \n3            4         1       1   \n4            5         0       3   \n\n                                                Name     Sex   Age  SibSp  \\\n0                            Braund, Mr. Owen Harris    male  22.0      1   \n1  Cumings, Mrs. John Bradley (Florence Briggs Th...  female  38.0      1   \n2                             Heikkinen, Miss. Laina  female  26.0      0   \n3       Futrelle, Mrs. Jacques Heath (Lily May Peel)  female  35.0      1   \n4                           Allen, Mr. William Henry    male  35.0      0   \n\n   Parch            Ticket     Fare Cabin Embarked  \n0      0         A/5 21171   7.2500   NaN        S  \n1      0          PC 17599  71.2833   C85        C  \n2      0  STON/O2. 3101282   7.9250   NaN        S  \n3      0            113803  53.1000  C123        S  \n4      0            373450   8.0500   NaN        S  ",
            "text/html": "<div>\n<style scoped>\n    .dataframe tbody tr th:only-of-type {\n        vertical-align: middle;\n    }\n\n    .dataframe tbody tr th {\n        vertical-align: top;\n    }\n\n    .dataframe thead th {\n        text-align: right;\n    }\n</style>\n<table border=\"1\" class=\"dataframe\">\n  <thead>\n    <tr style=\"text-align: right;\">\n      <th></th>\n      <th>PassengerId</th>\n      <th>Survived</th>\n      <th>Pclass</th>\n      <th>Name</th>\n      <th>Sex</th>\n      <th>Age</th>\n      <th>SibSp</th>\n      <th>Parch</th>\n      <th>Ticket</th>\n      <th>Fare</th>\n      <th>Cabin</th>\n      <th>Embarked</th>\n    </tr>\n  </thead>\n  <tbody>\n    <tr>\n      <th>0</th>\n      <td>1</td>\n      <td>0</td>\n      <td>3</td>\n      <td>Braund, Mr. Owen Harris</td>\n      <td>male</td>\n      <td>22.0</td>\n      <td>1</td>\n      <td>0</td>\n      <td>A/5 21171</td>\n      <td>7.2500</td>\n      <td>NaN</td>\n      <td>S</td>\n    </tr>\n    <tr>\n      <th>1</th>\n      <td>2</td>\n      <td>1</td>\n      <td>1</td>\n      <td>Cumings, Mrs. John Bradley (Florence Briggs Th...</td>\n      <td>female</td>\n      <td>38.0</td>\n      <td>1</td>\n      <td>0</td>\n      <td>PC 17599</td>\n      <td>71.2833</td>\n      <td>C85</td>\n      <td>C</td>\n    </tr>\n    <tr>\n      <th>2</th>\n      <td>3</td>\n      <td>1</td>\n      <td>3</td>\n      <td>Heikkinen, Miss. Laina</td>\n      <td>female</td>\n      <td>26.0</td>\n      <td>0</td>\n      <td>0</td>\n      <td>STON/O2. 3101282</td>\n      <td>7.9250</td>\n      <td>NaN</td>\n      <td>S</td>\n    </tr>\n    <tr>\n      <th>3</th>\n      <td>4</td>\n      <td>1</td>\n      <td>1</td>\n      <td>Futrelle, Mrs. Jacques Heath (Lily May Peel)</td>\n      <td>female</td>\n      <td>35.0</td>\n      <td>1</td>\n      <td>0</td>\n      <td>113803</td>\n      <td>53.1000</td>\n      <td>C123</td>\n      <td>S</td>\n    </tr>\n    <tr>\n      <th>4</th>\n      <td>5</td>\n      <td>0</td>\n      <td>3</td>\n      <td>Allen, Mr. William Henry</td>\n      <td>male</td>\n      <td>35.0</td>\n      <td>0</td>\n      <td>0</td>\n      <td>373450</td>\n      <td>8.0500</td>\n      <td>NaN</td>\n      <td>S</td>\n    </tr>\n  </tbody>\n</table>\n</div>"
          },
          "metadata": {}
        }
      ],
      "execution_count": 4
    },
    {
      "id": "56de4b50-af80-4dfc-8824-209067214a52",
      "cell_type": "markdown",
      "source": "### 2. Конкатенируем данные в один DataFrame по ключу PassengerID",
      "metadata": {
        "id": "56de4b50-af80-4dfc-8824-209067214a52"
      }
    },
    {
      "id": "4b9ff379-99dc-4095-b36b-22ec664320d4",
      "cell_type": "code",
      "source": "df = pd.concat([train_df, test_df], ignore_index=True)\nfor col in ['Survived', 'Pclass', 'Sex']:\n    df[col] = df[col].astype('category')\n\ndisplay(df)\ndisplay(df.info())",
      "metadata": {
        "trusted": true,
        "colab": {
          "base_uri": "https://localhost:8080/",
          "height": 770
        },
        "id": "4b9ff379-99dc-4095-b36b-22ec664320d4",
        "executionInfo": {
          "status": "ok",
          "timestamp": 1731635226223,
          "user_tz": -180,
          "elapsed": 329,
          "user": {
            "displayName": "Светлана Дрягалова",
            "userId": "10120069416308116844"
          }
        },
        "outputId": "90e272a7-357c-442d-b0f8-1d4cd4fccdfe"
      },
      "outputs": [
        {
          "output_type": "display_data",
          "data": {
            "text/plain": "      PassengerId Survived Pclass  \\\n0               1      0.0      3   \n1               2      1.0      1   \n2               3      1.0      3   \n3               4      1.0      1   \n4               5      0.0      3   \n...           ...      ...    ...   \n1304         1305      NaN      3   \n1305         1306      NaN      1   \n1306         1307      NaN      3   \n1307         1308      NaN      3   \n1308         1309      NaN      3   \n\n                                                   Name     Sex   Age  SibSp  \\\n0                               Braund, Mr. Owen Harris    male  22.0      1   \n1     Cumings, Mrs. John Bradley (Florence Briggs Th...  female  38.0      1   \n2                                Heikkinen, Miss. Laina  female  26.0      0   \n3          Futrelle, Mrs. Jacques Heath (Lily May Peel)  female  35.0      1   \n4                              Allen, Mr. William Henry    male  35.0      0   \n...                                                 ...     ...   ...    ...   \n1304                                 Spector, Mr. Woolf    male   NaN      0   \n1305                       Oliva y Ocana, Dona. Fermina  female  39.0      0   \n1306                       Saether, Mr. Simon Sivertsen    male  38.5      0   \n1307                                Ware, Mr. Frederick    male   NaN      0   \n1308                           Peter, Master. Michael J    male   NaN      1   \n\n      Parch              Ticket      Fare Cabin Embarked  \n0         0           A/5 21171    7.2500   NaN        S  \n1         0            PC 17599   71.2833   C85        C  \n2         0    STON/O2. 3101282    7.9250   NaN        S  \n3         0              113803   53.1000  C123        S  \n4         0              373450    8.0500   NaN        S  \n...     ...                 ...       ...   ...      ...  \n1304      0           A.5. 3236    8.0500   NaN        S  \n1305      0            PC 17758  108.9000  C105        C  \n1306      0  SOTON/O.Q. 3101262    7.2500   NaN        S  \n1307      0              359309    8.0500   NaN        S  \n1308      1                2668   22.3583   NaN        C  \n\n[1309 rows x 12 columns]",
            "text/html": "<div>\n<style scoped>\n    .dataframe tbody tr th:only-of-type {\n        vertical-align: middle;\n    }\n\n    .dataframe tbody tr th {\n        vertical-align: top;\n    }\n\n    .dataframe thead th {\n        text-align: right;\n    }\n</style>\n<table border=\"1\" class=\"dataframe\">\n  <thead>\n    <tr style=\"text-align: right;\">\n      <th></th>\n      <th>PassengerId</th>\n      <th>Survived</th>\n      <th>Pclass</th>\n      <th>Name</th>\n      <th>Sex</th>\n      <th>Age</th>\n      <th>SibSp</th>\n      <th>Parch</th>\n      <th>Ticket</th>\n      <th>Fare</th>\n      <th>Cabin</th>\n      <th>Embarked</th>\n    </tr>\n  </thead>\n  <tbody>\n    <tr>\n      <th>0</th>\n      <td>1</td>\n      <td>0.0</td>\n      <td>3</td>\n      <td>Braund, Mr. Owen Harris</td>\n      <td>male</td>\n      <td>22.0</td>\n      <td>1</td>\n      <td>0</td>\n      <td>A/5 21171</td>\n      <td>7.2500</td>\n      <td>NaN</td>\n      <td>S</td>\n    </tr>\n    <tr>\n      <th>1</th>\n      <td>2</td>\n      <td>1.0</td>\n      <td>1</td>\n      <td>Cumings, Mrs. John Bradley (Florence Briggs Th...</td>\n      <td>female</td>\n      <td>38.0</td>\n      <td>1</td>\n      <td>0</td>\n      <td>PC 17599</td>\n      <td>71.2833</td>\n      <td>C85</td>\n      <td>C</td>\n    </tr>\n    <tr>\n      <th>2</th>\n      <td>3</td>\n      <td>1.0</td>\n      <td>3</td>\n      <td>Heikkinen, Miss. Laina</td>\n      <td>female</td>\n      <td>26.0</td>\n      <td>0</td>\n      <td>0</td>\n      <td>STON/O2. 3101282</td>\n      <td>7.9250</td>\n      <td>NaN</td>\n      <td>S</td>\n    </tr>\n    <tr>\n      <th>3</th>\n      <td>4</td>\n      <td>1.0</td>\n      <td>1</td>\n      <td>Futrelle, Mrs. Jacques Heath (Lily May Peel)</td>\n      <td>female</td>\n      <td>35.0</td>\n      <td>1</td>\n      <td>0</td>\n      <td>113803</td>\n      <td>53.1000</td>\n      <td>C123</td>\n      <td>S</td>\n    </tr>\n    <tr>\n      <th>4</th>\n      <td>5</td>\n      <td>0.0</td>\n      <td>3</td>\n      <td>Allen, Mr. William Henry</td>\n      <td>male</td>\n      <td>35.0</td>\n      <td>0</td>\n      <td>0</td>\n      <td>373450</td>\n      <td>8.0500</td>\n      <td>NaN</td>\n      <td>S</td>\n    </tr>\n    <tr>\n      <th>...</th>\n      <td>...</td>\n      <td>...</td>\n      <td>...</td>\n      <td>...</td>\n      <td>...</td>\n      <td>...</td>\n      <td>...</td>\n      <td>...</td>\n      <td>...</td>\n      <td>...</td>\n      <td>...</td>\n      <td>...</td>\n    </tr>\n    <tr>\n      <th>1304</th>\n      <td>1305</td>\n      <td>NaN</td>\n      <td>3</td>\n      <td>Spector, Mr. Woolf</td>\n      <td>male</td>\n      <td>NaN</td>\n      <td>0</td>\n      <td>0</td>\n      <td>A.5. 3236</td>\n      <td>8.0500</td>\n      <td>NaN</td>\n      <td>S</td>\n    </tr>\n    <tr>\n      <th>1305</th>\n      <td>1306</td>\n      <td>NaN</td>\n      <td>1</td>\n      <td>Oliva y Ocana, Dona. Fermina</td>\n      <td>female</td>\n      <td>39.0</td>\n      <td>0</td>\n      <td>0</td>\n      <td>PC 17758</td>\n      <td>108.9000</td>\n      <td>C105</td>\n      <td>C</td>\n    </tr>\n    <tr>\n      <th>1306</th>\n      <td>1307</td>\n      <td>NaN</td>\n      <td>3</td>\n      <td>Saether, Mr. Simon Sivertsen</td>\n      <td>male</td>\n      <td>38.5</td>\n      <td>0</td>\n      <td>0</td>\n      <td>SOTON/O.Q. 3101262</td>\n      <td>7.2500</td>\n      <td>NaN</td>\n      <td>S</td>\n    </tr>\n    <tr>\n      <th>1307</th>\n      <td>1308</td>\n      <td>NaN</td>\n      <td>3</td>\n      <td>Ware, Mr. Frederick</td>\n      <td>male</td>\n      <td>NaN</td>\n      <td>0</td>\n      <td>0</td>\n      <td>359309</td>\n      <td>8.0500</td>\n      <td>NaN</td>\n      <td>S</td>\n    </tr>\n    <tr>\n      <th>1308</th>\n      <td>1309</td>\n      <td>NaN</td>\n      <td>3</td>\n      <td>Peter, Master. Michael J</td>\n      <td>male</td>\n      <td>NaN</td>\n      <td>1</td>\n      <td>1</td>\n      <td>2668</td>\n      <td>22.3583</td>\n      <td>NaN</td>\n      <td>C</td>\n    </tr>\n  </tbody>\n</table>\n<p>1309 rows × 12 columns</p>\n</div>"
          },
          "metadata": {}
        },
        {
          "name": "stdout",
          "text": "<class 'pandas.core.frame.DataFrame'>\nRangeIndex: 1309 entries, 0 to 1308\nData columns (total 12 columns):\n #   Column       Non-Null Count  Dtype   \n---  ------       --------------  -----   \n 0   PassengerId  1309 non-null   int64   \n 1   Survived     891 non-null    category\n 2   Pclass       1309 non-null   category\n 3   Name         1309 non-null   object  \n 4   Sex          1309 non-null   category\n 5   Age          1046 non-null   float64 \n 6   SibSp        1309 non-null   int64   \n 7   Parch        1309 non-null   int64   \n 8   Ticket       1309 non-null   object  \n 9   Fare         1308 non-null   float64 \n 10  Cabin        295 non-null    object  \n 11  Embarked     1307 non-null   object  \ndtypes: category(3), float64(2), int64(3), object(4)\nmemory usage: 75.8+ KB\n",
          "output_type": "stream"
        },
        {
          "output_type": "display_data",
          "data": {
            "text/plain": "None"
          },
          "metadata": {}
        }
      ],
      "execution_count": 5
    },
    {
      "id": "78632d98-81c1-4eb5-8624-d619d6b3134f",
      "cell_type": "markdown",
      "source": "- Отсутствующие данные Nan\n- Все столбцы корректных типов\n- Выживание, класс и пол категориальные",
      "metadata": {
        "id": "78632d98-81c1-4eb5-8624-d619d6b3134f"
      }
    },
    {
      "id": "869604cf-70f5-4be1-a39f-d7244c065bfd",
      "cell_type": "markdown",
      "source": "## Анализ таблицы",
      "metadata": {
        "id": "869604cf-70f5-4be1-a39f-d7244c065bfd"
      }
    },
    {
      "id": "7ace3dfc-af0c-4041-be99-cd3b0db671ac",
      "cell_type": "markdown",
      "source": "### 1. Визуализируем базовую статистику таблицы",
      "metadata": {
        "id": "7ace3dfc-af0c-4041-be99-cd3b0db671ac"
      }
    },
    {
      "id": "7daee754-321a-4619-9727-52a57051397d",
      "cell_type": "code",
      "source": "print(df.describe(include='all'))\n\nmax_pass = df['Pclass'].value_counts().idxmax()\nprint(f'\\nВ классе {max_pass} наибольшее количество пассажиров')",
      "metadata": {
        "trusted": true,
        "colab": {
          "base_uri": "https://localhost:8080/"
        },
        "id": "7daee754-321a-4619-9727-52a57051397d",
        "executionInfo": {
          "status": "ok",
          "timestamp": 1731631519233,
          "user_tz": -180,
          "elapsed": 429,
          "user": {
            "displayName": "Светлана Дрягалова",
            "userId": "10120069416308116844"
          }
        },
        "outputId": "ab091ed2-47ef-4025-a89b-38a85c75e940"
      },
      "outputs": [
        {
          "name": "stdout",
          "text": "        PassengerId  Survived  Pclass                  Name   Sex  \\\ncount   1309.000000     891.0  1309.0                  1309  1309   \nunique          NaN       2.0     3.0                  1307     2   \ntop             NaN       0.0     3.0  Connolly, Miss. Kate  male   \nfreq            NaN     549.0   709.0                     2   843   \nmean     655.000000       NaN     NaN                   NaN   NaN   \nstd      378.020061       NaN     NaN                   NaN   NaN   \nmin        1.000000       NaN     NaN                   NaN   NaN   \n25%      328.000000       NaN     NaN                   NaN   NaN   \n50%      655.000000       NaN     NaN                   NaN   NaN   \n75%      982.000000       NaN     NaN                   NaN   NaN   \nmax     1309.000000       NaN     NaN                   NaN   NaN   \n\n                Age        SibSp        Parch    Ticket         Fare  \\\ncount   1046.000000  1309.000000  1309.000000      1309  1308.000000   \nunique          NaN          NaN          NaN       929          NaN   \ntop             NaN          NaN          NaN  CA. 2343          NaN   \nfreq            NaN          NaN          NaN        11          NaN   \nmean      29.881138     0.498854     0.385027       NaN    33.295479   \nstd       14.413493     1.041658     0.865560       NaN    51.758668   \nmin        0.170000     0.000000     0.000000       NaN     0.000000   \n25%       21.000000     0.000000     0.000000       NaN     7.895800   \n50%       28.000000     0.000000     0.000000       NaN    14.454200   \n75%       39.000000     1.000000     0.000000       NaN    31.275000   \nmax       80.000000     8.000000     9.000000       NaN   512.329200   \n\n              Cabin Embarked  \ncount           295     1307  \nunique          186        3  \ntop     C23 C25 C27        S  \nfreq              6      914  \nmean            NaN      NaN  \nstd             NaN      NaN  \nmin             NaN      NaN  \n25%             NaN      NaN  \n50%             NaN      NaN  \n75%             NaN      NaN  \nmax             NaN      NaN  \n\nВ классе 3 наибольшее количество пассажиров\n",
          "output_type": "stream"
        }
      ],
      "execution_count": 6
    },
    {
      "id": "7b3511b0-7a29-496a-9dc7-924fb2f77bd2",
      "cell_type": "markdown",
      "source": "### В каком классе было больше всего пассажиров?\nОтвет: 3",
      "metadata": {
        "id": "7b3511b0-7a29-496a-9dc7-924fb2f77bd2"
      }
    },
    {
      "id": "0f0d08ad-f3ee-495d-b600-2fa250ca0d5b",
      "cell_type": "markdown",
      "source": "### 2. Группируем таблицу в два уровня: класс и пол, по среднему значению возраста",
      "metadata": {
        "id": "0f0d08ad-f3ee-495d-b600-2fa250ca0d5b"
      }
    },
    {
      "id": "beab64c4-8ee7-487b-b5dd-00a5c15bfa34",
      "cell_type": "code",
      "source": "# group by class and sex\n# count mean age\ngrouped = df.groupby(['Pclass', 'Sex'], observed=False)['Age'].mean()\n\ndisplay(grouped)\n\n# find age gap\nyoungest = grouped.idxmin()\noldest = grouped.idxmax()\nage_gap = grouped.max() - grouped.min()\n\nprint(f'Самая юный - класс {youngest[0]}, {youngest[1]} со средним возрастом {grouped.min():.2f}')\nprint(f'Самая взрослый - класс {oldest[0]}, {oldest[1]} со средним возрастом {grouped.max():.2f}')\nprint(f'Разница в возрасте - {age_gap:.2f}')",
      "metadata": {
        "trusted": true,
        "colab": {
          "base_uri": "https://localhost:8080/",
          "height": 355
        },
        "id": "beab64c4-8ee7-487b-b5dd-00a5c15bfa34",
        "executionInfo": {
          "status": "ok",
          "timestamp": 1731631542519,
          "user_tz": -180,
          "elapsed": 454,
          "user": {
            "displayName": "Светлана Дрягалова",
            "userId": "10120069416308116844"
          }
        },
        "outputId": "b322a885-bbf4-4fc5-8354-50d153bce193"
      },
      "outputs": [
        {
          "output_type": "display_data",
          "data": {
            "text/plain": "Pclass  Sex   \n1       female    37.037594\n        male      41.029272\n2       female    27.499223\n        male      30.815380\n3       female    22.185329\n        male      25.962264\nName: Age, dtype: float64"
          },
          "metadata": {}
        },
        {
          "name": "stdout",
          "text": "Самая юный - класс 3, female со средним возрастом 22.19\nСамая взрослый - класс 1, male со средним возрастом 41.03\nРазница в возрасте - 18.84\n",
          "output_type": "stream"
        }
      ],
      "execution_count": 7
    },
    {
      "id": "41990b17-4fc7-4fe2-90aa-b35772c3f717",
      "cell_type": "markdown",
      "source": "### Кто из возможных комбинаций самый юный, кто самый взрослый?\nОтвет: Самый юный - класс 3, female со средним возрастом 22.19,\n        \n        самый взрослый - класс 1, male со средним возрастом 41.03\n### Насколько отличаются эти значения?\nОтвет: Разница в возрасте - 18.84",
      "metadata": {
        "id": "41990b17-4fc7-4fe2-90aa-b35772c3f717"
      }
    },
    {
      "id": "044dfb0c-ea15-4f51-b095-caa3481aea0f",
      "cell_type": "markdown",
      "source": "### 3. Отбираем только выживших пассажиров с фамилией, начинающейся на “K”. Отсортировываем их по убыванию стоимости билета",
      "metadata": {
        "id": "044dfb0c-ea15-4f51-b095-caa3481aea0f"
      }
    },
    {
      "id": "6c4ce34a-0055-4b2d-85b3-427247f504b8",
      "cell_type": "code",
      "source": "#  select the survivors with the last name on \"K\"\nsurvivors_K = df[(df['Survived'] == 1) & (df['Name'].str.startswith('K'))]\n\n# sort by descending ticket price\nsorted_survivors = survivors_K.sort_values(by='Fare', ascending=False)\n\ndisplay(sorted_survivors.head())\n\n# find the most expensive and cheapest ticket\nmost_expensive = sorted_survivors.iloc[0]\ncheapest = sorted_survivors.iloc[-1]\n\nprint(f'Самый дорогой билет - {most_expensive[\"Fare\"]}    у пассажира - {most_expensive[\"Name\"]}')\nprint(f'Самый дешевый билет - {cheapest[\"Fare\"]}    у пассажира {cheapest[\"Name\"]}')",
      "metadata": {
        "trusted": true,
        "colab": {
          "base_uri": "https://localhost:8080/",
          "height": 241
        },
        "id": "6c4ce34a-0055-4b2d-85b3-427247f504b8",
        "executionInfo": {
          "status": "ok",
          "timestamp": 1731631577604,
          "user_tz": -180,
          "elapsed": 552,
          "user": {
            "displayName": "Светлана Дрягалова",
            "userId": "10120069416308116844"
          }
        },
        "outputId": "24a26a03-cfda-40a5-d80b-da2f7e9c3371"
      },
      "outputs": [
        {
          "output_type": "display_data",
          "data": {
            "text/plain": "     PassengerId Survived Pclass                                 Name     Sex  \\\n621          622      1.0      1         Kimball, Mr. Edwin Nelson Jr    male   \n457          458      1.0      1    Kenyon, Mrs. Frederick R (Marion)  female   \n316          317      1.0      2  Kantor, Mrs. Sinai (Miriam Sternin)  female   \n184          185      1.0      3  Kink-Heilmann, Miss. Luise Gretchen  female   \n706          707      1.0      2        Kelly, Mrs. Florence \"Fannie\"  female   \n\n      Age  SibSp  Parch  Ticket     Fare Cabin Embarked  \n621  42.0      1      0   11753  52.5542   D19        S  \n457   NaN      1      0   17464  51.8625   D21        S  \n316  24.0      1      0  244367  26.0000   NaN        S  \n184   4.0      0      2  315153  22.0250   NaN        S  \n706  45.0      0      0  223596  13.5000   NaN        S  ",
            "text/html": "<div>\n<style scoped>\n    .dataframe tbody tr th:only-of-type {\n        vertical-align: middle;\n    }\n\n    .dataframe tbody tr th {\n        vertical-align: top;\n    }\n\n    .dataframe thead th {\n        text-align: right;\n    }\n</style>\n<table border=\"1\" class=\"dataframe\">\n  <thead>\n    <tr style=\"text-align: right;\">\n      <th></th>\n      <th>PassengerId</th>\n      <th>Survived</th>\n      <th>Pclass</th>\n      <th>Name</th>\n      <th>Sex</th>\n      <th>Age</th>\n      <th>SibSp</th>\n      <th>Parch</th>\n      <th>Ticket</th>\n      <th>Fare</th>\n      <th>Cabin</th>\n      <th>Embarked</th>\n    </tr>\n  </thead>\n  <tbody>\n    <tr>\n      <th>621</th>\n      <td>622</td>\n      <td>1.0</td>\n      <td>1</td>\n      <td>Kimball, Mr. Edwin Nelson Jr</td>\n      <td>male</td>\n      <td>42.0</td>\n      <td>1</td>\n      <td>0</td>\n      <td>11753</td>\n      <td>52.5542</td>\n      <td>D19</td>\n      <td>S</td>\n    </tr>\n    <tr>\n      <th>457</th>\n      <td>458</td>\n      <td>1.0</td>\n      <td>1</td>\n      <td>Kenyon, Mrs. Frederick R (Marion)</td>\n      <td>female</td>\n      <td>NaN</td>\n      <td>1</td>\n      <td>0</td>\n      <td>17464</td>\n      <td>51.8625</td>\n      <td>D21</td>\n      <td>S</td>\n    </tr>\n    <tr>\n      <th>316</th>\n      <td>317</td>\n      <td>1.0</td>\n      <td>2</td>\n      <td>Kantor, Mrs. Sinai (Miriam Sternin)</td>\n      <td>female</td>\n      <td>24.0</td>\n      <td>1</td>\n      <td>0</td>\n      <td>244367</td>\n      <td>26.0000</td>\n      <td>NaN</td>\n      <td>S</td>\n    </tr>\n    <tr>\n      <th>184</th>\n      <td>185</td>\n      <td>1.0</td>\n      <td>3</td>\n      <td>Kink-Heilmann, Miss. Luise Gretchen</td>\n      <td>female</td>\n      <td>4.0</td>\n      <td>0</td>\n      <td>2</td>\n      <td>315153</td>\n      <td>22.0250</td>\n      <td>NaN</td>\n      <td>S</td>\n    </tr>\n    <tr>\n      <th>706</th>\n      <td>707</td>\n      <td>1.0</td>\n      <td>2</td>\n      <td>Kelly, Mrs. Florence \"Fannie\"</td>\n      <td>female</td>\n      <td>45.0</td>\n      <td>0</td>\n      <td>0</td>\n      <td>223596</td>\n      <td>13.5000</td>\n      <td>NaN</td>\n      <td>S</td>\n    </tr>\n  </tbody>\n</table>\n</div>"
          },
          "metadata": {}
        },
        {
          "name": "stdout",
          "text": "Самый дорогой билет - 52.5542    у пассажира - Kimball, Mr. Edwin Nelson Jr\nСамый дешевый билет - 7.75    у пассажира Kelly, Miss. Mary\n",
          "output_type": "stream"
        }
      ],
      "execution_count": 8
    },
    {
      "id": "70a84972-3d81-4c84-ae9e-f27ef2b0a0f6",
      "cell_type": "markdown",
      "source": "### Кто заплатил больше всех? Кто меньше всех?\nОтвет: Kimball, Mr. Edwin Nelson Jr заплатил больше всех (52.5542),\n\n        Kelly, Miss. Mary заплатила меньше всех (7.75)",
      "metadata": {
        "id": "70a84972-3d81-4c84-ae9e-f27ef2b0a0f6"
      }
    },
    {
      "id": "0ccf3d69-a1c7-40f7-825e-ee2571a56d3a",
      "cell_type": "code",
      "source": "# the max number of relatives\ndf['Relatives'] = df['SibSp'] + df['Parch']\nidx_max_relatives = df[df['Survived'] == 1]['Relatives'].idxmax()\n\nprint(f\"\\nУ выжившего пассажира {df.iloc[idx_max_relatives]['Name']} \"\n      f\"было максимальное количество родных - {df.iloc[idx_max_relatives]['Relatives']}\")",
      "metadata": {
        "trusted": true,
        "colab": {
          "base_uri": "https://localhost:8080/"
        },
        "id": "0ccf3d69-a1c7-40f7-825e-ee2571a56d3a",
        "executionInfo": {
          "status": "ok",
          "timestamp": 1731631580662,
          "user_tz": -180,
          "elapsed": 271,
          "user": {
            "displayName": "Светлана Дрягалова",
            "userId": "10120069416308116844"
          }
        },
        "outputId": "21556e5b-3c04-464d-9210-7dad3de89f5f"
      },
      "outputs": [
        {
          "name": "stdout",
          "text": "\nУ выжившего пассажира Asplund, Mrs. Carl Oscar (Selma Augusta Emilia Johansson) было максимальное количество родных - 6\n",
          "output_type": "stream"
        }
      ],
      "execution_count": 9
    },
    {
      "id": "17ded756-b9c4-4c14-9902-5e8b8c100118",
      "cell_type": "markdown",
      "source": "### 4. Какое максимальное количество родных было с выжившим пассажиром?\nОтвет: 6",
      "metadata": {
        "id": "17ded756-b9c4-4c14-9902-5e8b8c100118"
      }
    },
    {
      "id": "6ecbd232-45ae-4f89-ad31-cdf73e234ed9",
      "cell_type": "markdown",
      "source": "### 5. Считаем среднюю стоимость билета пассажиров, для которых указана каюта (Cabin) и для тех, у кого она не указана",
      "metadata": {
        "id": "6ecbd232-45ae-4f89-ad31-cdf73e234ed9"
      }
    },
    {
      "id": "957d2f61-bcc9-4e42-bb16-c5efcdd7fd10",
      "cell_type": "code",
      "source": "# count mean cost and difference\nmean_with_cabins = df[df['Cabin'].notna()]['Fare'].mean()\nmean_without_cabins = df[df['Cabin'].isna()]['Fare'].mean()\ndiff = mean_with_cabins/mean_without_cabins\nprint(f\"Средняя стоимость билета пассажиров с каютой: {mean_with_cabins:.2f}\")\nprint(f\"Средняя стоимость билета пассажиров без каюты: {mean_without_cabins:.2f}\")\nprint(f\"Стоимость отличается в {diff:.2f} раз\")",
      "metadata": {
        "trusted": true,
        "colab": {
          "base_uri": "https://localhost:8080/"
        },
        "id": "957d2f61-bcc9-4e42-bb16-c5efcdd7fd10",
        "executionInfo": {
          "status": "ok",
          "timestamp": 1731631583633,
          "user_tz": -180,
          "elapsed": 469,
          "user": {
            "displayName": "Светлана Дрягалова",
            "userId": "10120069416308116844"
          }
        },
        "outputId": "dab0bcff-7107-4ac5-8526-08d6c91a86b9"
      },
      "outputs": [
        {
          "name": "stdout",
          "text": "Средняя стоимость билета пассажиров с каютой: 81.93\nСредняя стоимость билета пассажиров без каюты: 19.13\nСтоимость отличается в 4.28 раз\n",
          "output_type": "stream"
        }
      ],
      "execution_count": 10
    },
    {
      "id": "780ac643-0d2c-49a2-9a41-05f7a1c84e90",
      "cell_type": "markdown",
      "source": "Средняя стоимость билета пассажиров с каютой: 81.93\n\nСредняя стоимость билета пассажиров без каюты: 19.13\n### Во сколько раз они отличаются?\nОтвет: В 4.28 раз",
      "metadata": {
        "id": "780ac643-0d2c-49a2-9a41-05f7a1c84e90"
      }
    },
    {
      "id": "8d547ef3-1d0d-4bf9-b7be-deffea2e4cbc",
      "cell_type": "markdown",
      "source": "## Визуализация",
      "metadata": {
        "id": "8d547ef3-1d0d-4bf9-b7be-deffea2e4cbc"
      }
    },
    {
      "id": "8ca812ea-498d-4af6-bcc9-8b42f9f87a88",
      "cell_type": "markdown",
      "source": "### Импортируем необходимые библиотеки",
      "metadata": {
        "id": "8ca812ea-498d-4af6-bcc9-8b42f9f87a88"
      }
    },
    {
      "id": "68623867-2665-4b96-b875-8e1e78240c34",
      "cell_type": "code",
      "source": "import matplotlib.pyplot as plt\nimport seaborn as sns\nimport plotly.express as px\nimport plotly.graph_objects as go\nfrom plotly.subplots import make_subplots",
      "metadata": {
        "trusted": true,
        "id": "68623867-2665-4b96-b875-8e1e78240c34",
        "executionInfo": {
          "status": "ok",
          "timestamp": 1731631590093,
          "user_tz": -180,
          "elapsed": 3793,
          "user": {
            "displayName": "Светлана Дрягалова",
            "userId": "10120069416308116844"
          }
        }
      },
      "outputs": [
        {
          "ename": "<class 'ModuleNotFoundError'>",
          "evalue": "No module named 'seaborn'",
          "traceback": [
            "\u001b[0;31m---------------------------------------------------------------------------\u001b[0m",
            "\u001b[0;31mModuleNotFoundError\u001b[0m                       Traceback (most recent call last)",
            "Cell \u001b[0;32mIn[11], line 2\u001b[0m\n\u001b[1;32m      1\u001b[0m \u001b[38;5;28;01mimport\u001b[39;00m \u001b[38;5;21;01mmatplotlib\u001b[39;00m\u001b[38;5;21;01m.\u001b[39;00m\u001b[38;5;21;01mpyplot\u001b[39;00m \u001b[38;5;28;01mas\u001b[39;00m \u001b[38;5;21;01mplt\u001b[39;00m\n\u001b[0;32m----> 2\u001b[0m \u001b[38;5;28;01mimport\u001b[39;00m \u001b[38;5;21;01mseaborn\u001b[39;00m \u001b[38;5;28;01mas\u001b[39;00m \u001b[38;5;21;01msns\u001b[39;00m\n\u001b[1;32m      3\u001b[0m \u001b[38;5;28;01mimport\u001b[39;00m \u001b[38;5;21;01mplotly\u001b[39;00m\u001b[38;5;21;01m.\u001b[39;00m\u001b[38;5;21;01mexpress\u001b[39;00m \u001b[38;5;28;01mas\u001b[39;00m \u001b[38;5;21;01mpx\u001b[39;00m\n\u001b[1;32m      4\u001b[0m \u001b[38;5;28;01mimport\u001b[39;00m \u001b[38;5;21;01mplotly\u001b[39;00m\u001b[38;5;21;01m.\u001b[39;00m\u001b[38;5;21;01mgraph_objects\u001b[39;00m \u001b[38;5;28;01mas\u001b[39;00m \u001b[38;5;21;01mgo\u001b[39;00m\n",
            "\u001b[0;31mModuleNotFoundError\u001b[0m: No module named 'seaborn'"
          ],
          "output_type": "error"
        }
      ],
      "execution_count": 11
    },
    {
      "id": "0eebaf6a-1026-4f66-8392-6c8ba346719f",
      "cell_type": "markdown",
      "source": "### Отображение графиков:\n1. Scatter plot\n2. Linear plot (with several lines)\n3. Histogram\n4. Bar chart\n5. Horizontal bar chart\n6. Pie chart\n7. Box chart\n8. Sunburst chart\n9. Sankey diagram",
      "metadata": {
        "id": "0eebaf6a-1026-4f66-8392-6c8ba346719f"
      }
    },
    {
      "id": "3bf1fccb-5ec1-40d3-b75a-317c6dda2c9b",
      "cell_type": "markdown",
      "source": "### 1. Scatter plot\n   **Интерактивная** диаграмма показывает рассеяния стоимости билета в зависимости от возраста пассажиров. Цвет точек указывает на то, выжили пассажиры или нет.",
      "metadata": {
        "id": "3bf1fccb-5ec1-40d3-b75a-317c6dda2c9b"
      }
    },
    {
      "id": "134f91e8-fa50-4417-b4c9-aec389fee30b",
      "cell_type": "code",
      "source": "fig = px.scatter(df, x=\"Age\", y=\"Fare\", color=\"Survived\",\n                 title=\"Age and ticket price depending on survival\")\nfig.show()",
      "metadata": {
        "trusted": true,
        "colab": {
          "base_uri": "https://localhost:8080/",
          "height": 542
        },
        "id": "134f91e8-fa50-4417-b4c9-aec389fee30b",
        "executionInfo": {
          "status": "ok",
          "timestamp": 1731635425048,
          "user_tz": -180,
          "elapsed": 339,
          "user": {
            "displayName": "Светлана Дрягалова",
            "userId": "10120069416308116844"
          }
        },
        "outputId": "3e92a40c-d269-401a-f51a-fc41bebd12f2"
      },
      "outputs": [
        {
          "ename": "<class 'NameError'>",
          "evalue": "name 'px' is not defined",
          "traceback": [
            "\u001b[0;31m---------------------------------------------------------------------------\u001b[0m",
            "\u001b[0;31mNameError\u001b[0m                                 Traceback (most recent call last)",
            "Cell \u001b[0;32mIn[12], line 1\u001b[0m\n\u001b[0;32m----> 1\u001b[0m fig \u001b[38;5;241m=\u001b[39m \u001b[43mpx\u001b[49m\u001b[38;5;241m.\u001b[39mscatter(df, x\u001b[38;5;241m=\u001b[39m\u001b[38;5;124m\"\u001b[39m\u001b[38;5;124mAge\u001b[39m\u001b[38;5;124m\"\u001b[39m, y\u001b[38;5;241m=\u001b[39m\u001b[38;5;124m\"\u001b[39m\u001b[38;5;124mFare\u001b[39m\u001b[38;5;124m\"\u001b[39m, color\u001b[38;5;241m=\u001b[39m\u001b[38;5;124m\"\u001b[39m\u001b[38;5;124mSurvived\u001b[39m\u001b[38;5;124m\"\u001b[39m,\n\u001b[1;32m      2\u001b[0m                  title\u001b[38;5;241m=\u001b[39m\u001b[38;5;124m\"\u001b[39m\u001b[38;5;124mAge and ticket price depending on survival\u001b[39m\u001b[38;5;124m\"\u001b[39m)\n\u001b[1;32m      3\u001b[0m fig\u001b[38;5;241m.\u001b[39mshow()\n",
            "\u001b[0;31mNameError\u001b[0m: name 'px' is not defined"
          ],
          "output_type": "error"
        }
      ],
      "execution_count": 12
    },
    {
      "id": "d07bcbc8-d218-4f3a-b32f-2b583a5dbe5c",
      "cell_type": "markdown",
      "source": "### 2. Linear Plot with Multiple Lines\n   **Интерактивный** линейный график показывает изменение средней стоимости билета в зависимости от возраста для каждого класса пассажиров.",
      "metadata": {
        "id": "d07bcbc8-d218-4f3a-b32f-2b583a5dbe5c"
      }
    },
    {
      "id": "a895211e-b981-499e-872d-c22e5ac3e944",
      "cell_type": "code",
      "source": "sns.lineplot(x=\"Age\", y=\"Fare\", hue=\"Pclass\", data=df)\nplt.title(\"Ticket price in different age groups and classes\")\nplt.show()",
      "metadata": {
        "trusted": true,
        "colab": {
          "base_uri": "https://localhost:8080/",
          "height": 472
        },
        "id": "a895211e-b981-499e-872d-c22e5ac3e944",
        "executionInfo": {
          "status": "ok",
          "timestamp": 1731631619954,
          "user_tz": -180,
          "elapsed": 6135,
          "user": {
            "displayName": "Светлана Дрягалова",
            "userId": "10120069416308116844"
          }
        },
        "outputId": "be443a7b-ec29-4b9b-d280-efc5a00bcdc7"
      },
      "outputs": [
        {
          "ename": "<class 'NameError'>",
          "evalue": "name 'sns' is not defined",
          "traceback": [
            "\u001b[0;31m---------------------------------------------------------------------------\u001b[0m",
            "\u001b[0;31mNameError\u001b[0m                                 Traceback (most recent call last)",
            "Cell \u001b[0;32mIn[13], line 1\u001b[0m\n\u001b[0;32m----> 1\u001b[0m \u001b[43msns\u001b[49m\u001b[38;5;241m.\u001b[39mlineplot(x\u001b[38;5;241m=\u001b[39m\u001b[38;5;124m\"\u001b[39m\u001b[38;5;124mAge\u001b[39m\u001b[38;5;124m\"\u001b[39m, y\u001b[38;5;241m=\u001b[39m\u001b[38;5;124m\"\u001b[39m\u001b[38;5;124mFare\u001b[39m\u001b[38;5;124m\"\u001b[39m, hue\u001b[38;5;241m=\u001b[39m\u001b[38;5;124m\"\u001b[39m\u001b[38;5;124mPclass\u001b[39m\u001b[38;5;124m\"\u001b[39m, data\u001b[38;5;241m=\u001b[39mdf)\n\u001b[1;32m      2\u001b[0m plt\u001b[38;5;241m.\u001b[39mtitle(\u001b[38;5;124m\"\u001b[39m\u001b[38;5;124mTicket price in different age groups and classes\u001b[39m\u001b[38;5;124m\"\u001b[39m)\n\u001b[1;32m      3\u001b[0m plt\u001b[38;5;241m.\u001b[39mshow()\n",
            "\u001b[0;31mNameError\u001b[0m: name 'sns' is not defined"
          ],
          "output_type": "error"
        }
      ],
      "execution_count": 13
    },
    {
      "id": "04442d81-60fe-49fa-bd22-d5d618e071ea",
      "cell_type": "markdown",
      "source": "### 3. Histogram\n    Гистограмма показывает распределение возрастов всех пассажиров",
      "metadata": {
        "id": "04442d81-60fe-49fa-bd22-d5d618e071ea"
      }
    },
    {
      "id": "4b7d3476-e252-4a15-b051-b87ee64bc098",
      "cell_type": "code",
      "source": "plt.hist(df[\"Age\"], bins=20)\nplt.xlabel(\"Age\")\nplt.ylabel(\"Number of passengers\")\nplt.title(\"Age distribution of passengers\")\nplt.grid(True)\nplt.show()",
      "metadata": {
        "trusted": true,
        "colab": {
          "base_uri": "https://localhost:8080/",
          "height": 472
        },
        "id": "4b7d3476-e252-4a15-b051-b87ee64bc098",
        "executionInfo": {
          "status": "ok",
          "timestamp": 1731631706042,
          "user_tz": -180,
          "elapsed": 487,
          "user": {
            "displayName": "Светлана Дрягалова",
            "userId": "10120069416308116844"
          }
        },
        "outputId": "16245d9f-7d5b-4e77-d2e5-57be145f996e"
      },
      "outputs": [
        {
          "output_type": "display_data",
          "data": {
            "text/plain": "<Figure size 640x480 with 1 Axes>",
            "image/png": "[encoded data removed]"
          },
          "metadata": {}
        }
      ],
      "execution_count": 14
    },
    {
      "id": "c1c0b86e-dee3-44ea-ab84-966050a146c3",
      "cell_type": "markdown",
      "source": "### 4. Bar Chart\n  **Интерактивная** столбчатая диаграмма показывает среднюю стоимость билета для каждого класса пассажиров.",
      "metadata": {
        "id": "c1c0b86e-dee3-44ea-ab84-966050a146c3"
      }
    },
    {
      "id": "c276ab45-43a9-47c3-90ec-462c93cc037d",
      "cell_type": "code",
      "source": "bar_chart_data = df.groupby([\"Pclass\"])[\"PassengerId\"].count().reset_index(name=\"Count\")\nfig = px.bar(bar_chart_data, x=\"Pclass\", y=\"Count\", title=\"Количество пассажиров по классам\")\nfig.show()",
      "metadata": {
        "trusted": true,
        "colab": {
          "base_uri": "https://localhost:8080/",
          "height": 631
        },
        "id": "c276ab45-43a9-47c3-90ec-462c93cc037d",
        "executionInfo": {
          "status": "ok",
          "timestamp": 1731631709705,
          "user_tz": -180,
          "elapsed": 428,
          "user": {
            "displayName": "Светлана Дрягалова",
            "userId": "10120069416308116844"
          }
        },
        "outputId": "6aeccdb5-9217-438c-dfc5-e561db225d40"
      },
      "outputs": [
        {
          "name": "stderr",
          "text": "<ipython-input-15-924584d24a2c>:1: FutureWarning: The default of observed=False is deprecated and will be changed to True in a future version of pandas. Pass observed=False to retain current behavior or observed=True to adopt the future default and silence this warning.\n  bar_chart_data = df.groupby([\"Pclass\"])[\"PassengerId\"].count().reset_index(name=\"Count\")\n",
          "output_type": "stream"
        },
        {
          "ename": "<class 'NameError'>",
          "evalue": "name 'px' is not defined",
          "traceback": [
            "\u001b[0;31m---------------------------------------------------------------------------\u001b[0m",
            "\u001b[0;31mNameError\u001b[0m                                 Traceback (most recent call last)",
            "Cell \u001b[0;32mIn[15], line 2\u001b[0m\n\u001b[1;32m      1\u001b[0m bar_chart_data \u001b[38;5;241m=\u001b[39m df\u001b[38;5;241m.\u001b[39mgroupby([\u001b[38;5;124m\"\u001b[39m\u001b[38;5;124mPclass\u001b[39m\u001b[38;5;124m\"\u001b[39m])[\u001b[38;5;124m\"\u001b[39m\u001b[38;5;124mPassengerId\u001b[39m\u001b[38;5;124m\"\u001b[39m]\u001b[38;5;241m.\u001b[39mcount()\u001b[38;5;241m.\u001b[39mreset_index(name\u001b[38;5;241m=\u001b[39m\u001b[38;5;124m\"\u001b[39m\u001b[38;5;124mCount\u001b[39m\u001b[38;5;124m\"\u001b[39m)\n\u001b[0;32m----> 2\u001b[0m fig \u001b[38;5;241m=\u001b[39m \u001b[43mpx\u001b[49m\u001b[38;5;241m.\u001b[39mbar(bar_chart_data, x\u001b[38;5;241m=\u001b[39m\u001b[38;5;124m\"\u001b[39m\u001b[38;5;124mPclass\u001b[39m\u001b[38;5;124m\"\u001b[39m, y\u001b[38;5;241m=\u001b[39m\u001b[38;5;124m\"\u001b[39m\u001b[38;5;124mCount\u001b[39m\u001b[38;5;124m\"\u001b[39m, title\u001b[38;5;241m=\u001b[39m\u001b[38;5;124m\"\u001b[39m\u001b[38;5;124mКоличество пассажиров по классам\u001b[39m\u001b[38;5;124m\"\u001b[39m)\n\u001b[1;32m      3\u001b[0m fig\u001b[38;5;241m.\u001b[39mshow()\n",
            "\u001b[0;31mNameError\u001b[0m: name 'px' is not defined"
          ],
          "output_type": "error"
        }
      ],
      "execution_count": 15
    },
    {
      "id": "d1b0acb5-d7d8-4f97-8a87-41967b23ef07",
      "cell_type": "markdown",
      "source": "### 5. Horizontal bar chart\n  Столбчатая перевернутая диаграмма показывает количество пассажиров, которые отправились с каждого порта посадки («Southampton», «Cherbourg» и «Queenstown»).",
      "metadata": {
        "id": "d1b0acb5-d7d8-4f97-8a87-41967b23ef07"
      }
    },
    {
      "id": "bd1a8390-71f8-40a2-854e-ee070941a871",
      "cell_type": "code",
      "source": "df1 = df.groupby(\"Embarked\").size().reset_index(name=\"counts\")\nsns.barplot(y=\"Embarked\", x=\"counts\", data=df1, orient=\"h\")\nplt.title(\"Number of passengers at the port of embarkation\")\nplt.show()",
      "metadata": {
        "trusted": true,
        "colab": {
          "base_uri": "https://localhost:8080/",
          "height": 472
        },
        "id": "bd1a8390-71f8-40a2-854e-ee070941a871",
        "executionInfo": {
          "status": "ok",
          "timestamp": 1731631791102,
          "user_tz": -180,
          "elapsed": 1370,
          "user": {
            "displayName": "Светлана Дрягалова",
            "userId": "10120069416308116844"
          }
        },
        "outputId": "0c4d338c-eb68-4633-d1cf-a4068c5c1cc9"
      },
      "outputs": [
        {
          "ename": "<class 'NameError'>",
          "evalue": "name 'sns' is not defined",
          "traceback": [
            "\u001b[0;31m---------------------------------------------------------------------------\u001b[0m",
            "\u001b[0;31mNameError\u001b[0m                                 Traceback (most recent call last)",
            "Cell \u001b[0;32mIn[16], line 2\u001b[0m\n\u001b[1;32m      1\u001b[0m df1 \u001b[38;5;241m=\u001b[39m df\u001b[38;5;241m.\u001b[39mgroupby(\u001b[38;5;124m\"\u001b[39m\u001b[38;5;124mEmbarked\u001b[39m\u001b[38;5;124m\"\u001b[39m)\u001b[38;5;241m.\u001b[39msize()\u001b[38;5;241m.\u001b[39mreset_index(name\u001b[38;5;241m=\u001b[39m\u001b[38;5;124m\"\u001b[39m\u001b[38;5;124mcounts\u001b[39m\u001b[38;5;124m\"\u001b[39m)\n\u001b[0;32m----> 2\u001b[0m \u001b[43msns\u001b[49m\u001b[38;5;241m.\u001b[39mbarplot(y\u001b[38;5;241m=\u001b[39m\u001b[38;5;124m\"\u001b[39m\u001b[38;5;124mEmbarked\u001b[39m\u001b[38;5;124m\"\u001b[39m, x\u001b[38;5;241m=\u001b[39m\u001b[38;5;124m\"\u001b[39m\u001b[38;5;124mcounts\u001b[39m\u001b[38;5;124m\"\u001b[39m, data\u001b[38;5;241m=\u001b[39mdf1, orient\u001b[38;5;241m=\u001b[39m\u001b[38;5;124m\"\u001b[39m\u001b[38;5;124mh\u001b[39m\u001b[38;5;124m\"\u001b[39m)\n\u001b[1;32m      3\u001b[0m plt\u001b[38;5;241m.\u001b[39mtitle(\u001b[38;5;124m\"\u001b[39m\u001b[38;5;124mNumber of passengers at the port of embarkation\u001b[39m\u001b[38;5;124m\"\u001b[39m)\n\u001b[1;32m      4\u001b[0m plt\u001b[38;5;241m.\u001b[39mshow()\n",
            "\u001b[0;31mNameError\u001b[0m: name 'sns' is not defined"
          ],
          "output_type": "error"
        }
      ],
      "execution_count": 16
    },
    {
      "id": "290e556d-efa6-41da-813f-9dfc0ad7671b",
      "cell_type": "markdown",
      "source": "### 6. Pie chart\n    Круговая диаграмма процентное соотношение выживших и погибших пассажиров.",
      "metadata": {
        "id": "290e556d-efa6-41da-813f-9dfc0ad7671b"
      }
    },
    {
      "id": "a5a8ac4a-a00a-4d14-a6e6-192095420fb7",
      "cell_type": "code",
      "source": "labels = [\"Survived\", \"Deceased\"]\nvalues = df[\"Survived\"].value_counts()\ncolors = [\"green\", \"red\"]\n\nfig, ax = plt.subplots(figsize=(7, 7))\nax.pie(values, labels=labels, autopct='%1.1f%%', startangle=140, colors=colors)\nax.axis(\"equal\")\nplt.title(\"Percentage of survivors and dead passengers\")\nplt.legend(labels, loc=\"upper right\")\nplt.tight_layout()\nplt.show()",
      "metadata": {
        "trusted": true,
        "colab": {
          "base_uri": "https://localhost:8080/",
          "height": 707
        },
        "id": "a5a8ac4a-a00a-4d14-a6e6-192095420fb7",
        "executionInfo": {
          "status": "ok",
          "timestamp": 1731631795796,
          "user_tz": -180,
          "elapsed": 590,
          "user": {
            "displayName": "Светлана Дрягалова",
            "userId": "10120069416308116844"
          }
        },
        "outputId": "83f415a4-32c4-4559-fd52-c726db622188"
      },
      "outputs": [
        {
          "output_type": "display_data",
          "data": {
            "text/plain": "<Figure size 700x700 with 1 Axes>",
            "image/png": "[encoded data removed]"
          },
          "metadata": {}
        }
      ],
      "execution_count": 17
    },
    {
      "id": "8078d199-101c-4b4b-bc63-e6e3cc86696a",
      "cell_type": "markdown",
      "source": "### 7. Box chart\n     Диаграмма демонстрирует разброс значений возраста для каждого пассажирского класса.",
      "metadata": {
        "id": "8078d199-101c-4b4b-bc63-e6e3cc86696a"
      }
    },
    {
      "id": "8164ca30-5853-4b91-bbe9-f3f91cb533bd",
      "cell_type": "code",
      "source": "box_data = sns.boxplot(x=\"Pclass\", y=\"Age\", data=df)\nbox_data.set_title(\"The range of ticket prices by class\")",
      "metadata": {
        "trusted": true,
        "colab": {
          "base_uri": "https://localhost:8080/",
          "height": 489
        },
        "id": "8164ca30-5853-4b91-bbe9-f3f91cb533bd",
        "executionInfo": {
          "status": "ok",
          "timestamp": 1731633367156,
          "user_tz": -180,
          "elapsed": 538,
          "user": {
            "displayName": "Светлана Дрягалова",
            "userId": "10120069416308116844"
          }
        },
        "outputId": "64f6e5ce-38c1-46c1-ff8f-94b91e961f31"
      },
      "outputs": [
        {
          "ename": "<class 'NameError'>",
          "evalue": "name 'sns' is not defined",
          "traceback": [
            "\u001b[0;31m---------------------------------------------------------------------------\u001b[0m",
            "\u001b[0;31mNameError\u001b[0m                                 Traceback (most recent call last)",
            "Cell \u001b[0;32mIn[18], line 1\u001b[0m\n\u001b[0;32m----> 1\u001b[0m box_data \u001b[38;5;241m=\u001b[39m \u001b[43msns\u001b[49m\u001b[38;5;241m.\u001b[39mboxplot(x\u001b[38;5;241m=\u001b[39m\u001b[38;5;124m\"\u001b[39m\u001b[38;5;124mPclass\u001b[39m\u001b[38;5;124m\"\u001b[39m, y\u001b[38;5;241m=\u001b[39m\u001b[38;5;124m\"\u001b[39m\u001b[38;5;124mAge\u001b[39m\u001b[38;5;124m\"\u001b[39m, data\u001b[38;5;241m=\u001b[39mdf)\n\u001b[1;32m      2\u001b[0m box_data\u001b[38;5;241m.\u001b[39mset_title(\u001b[38;5;124m\"\u001b[39m\u001b[38;5;124mThe range of ticket prices by class\u001b[39m\u001b[38;5;124m\"\u001b[39m)\n",
            "\u001b[0;31mNameError\u001b[0m: name 'sns' is not defined"
          ],
          "output_type": "error"
        }
      ],
      "execution_count": 18
    },
    {
      "id": "d1f2b4dc-74c0-47fb-a3dc-d1251e5d59f5",
      "cell_type": "markdown",
      "source": "### 8. Sunburst chart\n   **Интерактивный** график показывает распределение по возрасту, разделенному по классу и полу.",
      "metadata": {
        "id": "d1f2b4dc-74c0-47fb-a3dc-d1251e5d59f5"
      }
    },
    {
      "id": "5nrlq7sFl-Fn",
      "cell_type": "code",
      "source": "df[\"Age\"] = df[\"Age\"].fillna(df[\"Age\"].mean())\n\nage_bins = [-1, 17, 24, 34, 44, 200]\nage_labels = [\"<18\", \"18-24\", \"25-34\", \"35-44\", \"45+\"]\ndf[\"AgeGroup\"] = pd.cut(df[\"Age\"], age_bins, labels=age_labels)\n\nfig = px.sunburst(\n    data_frame=df,\n    path=[\"Sex\", \"Pclass\", \"AgeGroup\"],\n    values=\"Age\",\n    color=\"Pclass\"\n)\n\nfig.show()",
      "metadata": {
        "colab": {
          "base_uri": "https://localhost:8080/",
          "height": 770
        },
        "id": "5nrlq7sFl-Fn",
        "executionInfo": {
          "status": "ok",
          "timestamp": 1731636778623,
          "user_tz": -180,
          "elapsed": 321,
          "user": {
            "displayName": "Светлана Дрягалова",
            "userId": "10120069416308116844"
          }
        },
        "outputId": "ee6b9b37-3913-419a-adb5-c79bde67095d",
        "trusted": true
      },
      "outputs": [
        {
          "ename": "<class 'NameError'>",
          "evalue": "name 'px' is not defined",
          "traceback": [
            "\u001b[0;31m---------------------------------------------------------------------------\u001b[0m",
            "\u001b[0;31mNameError\u001b[0m                                 Traceback (most recent call last)",
            "Cell \u001b[0;32mIn[19], line 7\u001b[0m\n\u001b[1;32m      4\u001b[0m age_labels \u001b[38;5;241m=\u001b[39m [\u001b[38;5;124m\"\u001b[39m\u001b[38;5;124m<18\u001b[39m\u001b[38;5;124m\"\u001b[39m, \u001b[38;5;124m\"\u001b[39m\u001b[38;5;124m18-24\u001b[39m\u001b[38;5;124m\"\u001b[39m, \u001b[38;5;124m\"\u001b[39m\u001b[38;5;124m25-34\u001b[39m\u001b[38;5;124m\"\u001b[39m, \u001b[38;5;124m\"\u001b[39m\u001b[38;5;124m35-44\u001b[39m\u001b[38;5;124m\"\u001b[39m, \u001b[38;5;124m\"\u001b[39m\u001b[38;5;124m45+\u001b[39m\u001b[38;5;124m\"\u001b[39m]\n\u001b[1;32m      5\u001b[0m df[\u001b[38;5;124m\"\u001b[39m\u001b[38;5;124mAgeGroup\u001b[39m\u001b[38;5;124m\"\u001b[39m] \u001b[38;5;241m=\u001b[39m pd\u001b[38;5;241m.\u001b[39mcut(df[\u001b[38;5;124m\"\u001b[39m\u001b[38;5;124mAge\u001b[39m\u001b[38;5;124m\"\u001b[39m], age_bins, labels\u001b[38;5;241m=\u001b[39mage_labels)\n\u001b[0;32m----> 7\u001b[0m fig \u001b[38;5;241m=\u001b[39m \u001b[43mpx\u001b[49m\u001b[38;5;241m.\u001b[39msunburst(\n\u001b[1;32m      8\u001b[0m     data_frame\u001b[38;5;241m=\u001b[39mdf,\n\u001b[1;32m      9\u001b[0m     path\u001b[38;5;241m=\u001b[39m[\u001b[38;5;124m\"\u001b[39m\u001b[38;5;124mSex\u001b[39m\u001b[38;5;124m\"\u001b[39m, \u001b[38;5;124m\"\u001b[39m\u001b[38;5;124mPclass\u001b[39m\u001b[38;5;124m\"\u001b[39m, \u001b[38;5;124m\"\u001b[39m\u001b[38;5;124mAgeGroup\u001b[39m\u001b[38;5;124m\"\u001b[39m],\n\u001b[1;32m     10\u001b[0m     values\u001b[38;5;241m=\u001b[39m\u001b[38;5;124m\"\u001b[39m\u001b[38;5;124mAge\u001b[39m\u001b[38;5;124m\"\u001b[39m,\n\u001b[1;32m     11\u001b[0m     color\u001b[38;5;241m=\u001b[39m\u001b[38;5;124m\"\u001b[39m\u001b[38;5;124mPclass\u001b[39m\u001b[38;5;124m\"\u001b[39m\n\u001b[1;32m     12\u001b[0m )\n\u001b[1;32m     14\u001b[0m fig\u001b[38;5;241m.\u001b[39mshow()\n",
            "\u001b[0;31mNameError\u001b[0m: name 'px' is not defined"
          ],
          "output_type": "error"
        }
      ],
      "execution_count": 19
    },
    {
      "id": "6f74232c-8fb4-4eeb-b677-c0640a751115",
      "cell_type": "markdown",
      "source": "### 9. KDE diagram\n   Диаграмма показывает  распределение возраста пассажиров по классу и полу, а также их связь со стоимостью билета и статусом выживания.",
      "metadata": {
        "id": "6f74232c-8fb4-4eeb-b677-c0640a751115"
      }
    },
    {
      "id": "iI57xGEPnrSg",
      "cell_type": "code",
      "source": "sns.kdeplot(x=\"Age\", y=\"Fare\", hue=\"Survived\", fill=True, levels=10, thresh=0.05, alpha=.8, data=df)\n\nplt.title('Age distribution of passengers by class and gender')\nplt.xlabel('Age')\nplt.ylabel('Ticket cost')\nplt.show()",
      "metadata": {
        "colab": {
          "base_uri": "https://localhost:8080/",
          "height": 472
        },
        "id": "iI57xGEPnrSg",
        "executionInfo": {
          "status": "ok",
          "timestamp": 1731637417519,
          "user_tz": -180,
          "elapsed": 1355,
          "user": {
            "displayName": "Светлана Дрягалова",
            "userId": "10120069416308116844"
          }
        },
        "outputId": "5f9f1107-b4c0-4ccb-d58c-0240fd857a51",
        "trusted": true
      },
      "outputs": [
        {
          "ename": "<class 'NameError'>",
          "evalue": "name 'sns' is not defined",
          "traceback": [
            "\u001b[0;31m---------------------------------------------------------------------------\u001b[0m",
            "\u001b[0;31mNameError\u001b[0m                                 Traceback (most recent call last)",
            "Cell \u001b[0;32mIn[20], line 1\u001b[0m\n\u001b[0;32m----> 1\u001b[0m \u001b[43msns\u001b[49m\u001b[38;5;241m.\u001b[39mkdeplot(x\u001b[38;5;241m=\u001b[39m\u001b[38;5;124m\"\u001b[39m\u001b[38;5;124mAge\u001b[39m\u001b[38;5;124m\"\u001b[39m, y\u001b[38;5;241m=\u001b[39m\u001b[38;5;124m\"\u001b[39m\u001b[38;5;124mFare\u001b[39m\u001b[38;5;124m\"\u001b[39m, hue\u001b[38;5;241m=\u001b[39m\u001b[38;5;124m\"\u001b[39m\u001b[38;5;124mSurvived\u001b[39m\u001b[38;5;124m\"\u001b[39m, fill\u001b[38;5;241m=\u001b[39m\u001b[38;5;28;01mTrue\u001b[39;00m, levels\u001b[38;5;241m=\u001b[39m\u001b[38;5;241m10\u001b[39m, thresh\u001b[38;5;241m=\u001b[39m\u001b[38;5;241m0.05\u001b[39m, alpha\u001b[38;5;241m=\u001b[39m\u001b[38;5;241m.8\u001b[39m, data\u001b[38;5;241m=\u001b[39mdf)\n\u001b[1;32m      3\u001b[0m plt\u001b[38;5;241m.\u001b[39mtitle(\u001b[38;5;124m'\u001b[39m\u001b[38;5;124mAge distribution of passengers by class and gender\u001b[39m\u001b[38;5;124m'\u001b[39m)\n\u001b[1;32m      4\u001b[0m plt\u001b[38;5;241m.\u001b[39mxlabel(\u001b[38;5;124m'\u001b[39m\u001b[38;5;124mAge\u001b[39m\u001b[38;5;124m'\u001b[39m)\n",
            "\u001b[0;31mNameError\u001b[0m: name 'sns' is not defined"
          ],
          "output_type": "error"
        }
      ],
      "execution_count": 20
    },
    {
      "id": "a602054d-f3b8-40d2-bcdb-6f63156acc5b",
      "cell_type": "markdown",
      "source": "### 10. 3D scatter plot\n   Трёхмерная диаграмма рассеяния (**интерактивная**), показывающая возраст, стоимость билета и количество родственников, окрашенная в зависимости от статуса выживания и пола.",
      "metadata": {
        "id": "a602054d-f3b8-40d2-bcdb-6f63156acc5b"
      }
    },
    {
      "id": "d8f6cd86-1b11-4914-8b97-639fa7b009f0",
      "cell_type": "code",
      "source": "fig = px.scatter_3d(df, x='Age', y='Fare', z='Parch', color='Sex',\n                    symbol='Survived', size_max=18, title='3D passenger distribution')\nfig.show()",
      "metadata": {
        "trusted": true,
        "colab": {
          "base_uri": "https://localhost:8080/",
          "height": 542
        },
        "id": "d8f6cd86-1b11-4914-8b97-639fa7b009f0",
        "executionInfo": {
          "status": "ok",
          "timestamp": 1731635328573,
          "user_tz": -180,
          "elapsed": 313,
          "user": {
            "displayName": "Светлана Дрягалова",
            "userId": "10120069416308116844"
          }
        },
        "outputId": "dbae7c95-83ce-41ae-9431-ca6b947e0991"
      },
      "outputs": [
        {
          "ename": "<class 'NameError'>",
          "evalue": "name 'px' is not defined",
          "traceback": [
            "\u001b[0;31m---------------------------------------------------------------------------\u001b[0m",
            "\u001b[0;31mNameError\u001b[0m                                 Traceback (most recent call last)",
            "Cell \u001b[0;32mIn[21], line 1\u001b[0m\n\u001b[0;32m----> 1\u001b[0m fig \u001b[38;5;241m=\u001b[39m \u001b[43mpx\u001b[49m\u001b[38;5;241m.\u001b[39mscatter_3d(df, x\u001b[38;5;241m=\u001b[39m\u001b[38;5;124m'\u001b[39m\u001b[38;5;124mAge\u001b[39m\u001b[38;5;124m'\u001b[39m, y\u001b[38;5;241m=\u001b[39m\u001b[38;5;124m'\u001b[39m\u001b[38;5;124mFare\u001b[39m\u001b[38;5;124m'\u001b[39m, z\u001b[38;5;241m=\u001b[39m\u001b[38;5;124m'\u001b[39m\u001b[38;5;124mParch\u001b[39m\u001b[38;5;124m'\u001b[39m, color\u001b[38;5;241m=\u001b[39m\u001b[38;5;124m'\u001b[39m\u001b[38;5;124mSex\u001b[39m\u001b[38;5;124m'\u001b[39m,\n\u001b[1;32m      2\u001b[0m                     symbol\u001b[38;5;241m=\u001b[39m\u001b[38;5;124m'\u001b[39m\u001b[38;5;124mSurvived\u001b[39m\u001b[38;5;124m'\u001b[39m, size_max\u001b[38;5;241m=\u001b[39m\u001b[38;5;241m18\u001b[39m, title\u001b[38;5;241m=\u001b[39m\u001b[38;5;124m'\u001b[39m\u001b[38;5;124m3D passenger distribution\u001b[39m\u001b[38;5;124m'\u001b[39m)\n\u001b[1;32m      3\u001b[0m fig\u001b[38;5;241m.\u001b[39mshow()\n",
            "\u001b[0;31mNameError\u001b[0m: name 'px' is not defined"
          ],
          "output_type": "error"
        }
      ],
      "execution_count": 21
    },
    {
      "id": "9d98dedd-2561-4afe-99cb-2096d09951fe",
      "cell_type": "markdown",
      "source": "## Доп",
      "metadata": {
        "id": "9d98dedd-2561-4afe-99cb-2096d09951fe"
      }
    },
    {
      "id": "c2c5008d-b27d-4445-9744-87b9534669eb",
      "cell_type": "code",
      "source": "sankey_data = df.groupby([\"Pclass\",\"Sex\",\"Survived\"])[[\"PassengerId\"]].count().reset_index()\n\nlabels = []\nfor index, row in sankey_data.iterrows():\n    labels.extend([f\"{row['Pclass']} class\", f\"{row['Sex']}\", f\"Survival: {row['Survived']}\"])\n\nsource = []\ntarget = []\nvalue = []\n\nfor i in range(len(labels)):\n    if i % 3 == 0:\n        source.append(i)\n        target.append(i+1)\n        value.append(sankey_data.iloc[i//3][\"PassengerId\"])\n    elif i % 3 == 1:\n        source.append(i)\n        target.append(i+1)\n        value.append(sankey_data.iloc[(i-1)//3][\"PassengerId\"])\n\nfig = go.Figure(data=[go.Sankey(\n    node=dict(\n        pad=15,\n        thickness=20,\n        line=dict(color=\"black\", width=0.5),\n        label=labels,\n    ),\n    link=dict(\n        source=sources,\n        target=targets,\n        value=values\n    ))])\n\nfig.update_layout(title_text=\"Interactive Sankey Plot: Pclass, Sex and Survival\",\n                  font_size=15)\nfig.show()",
      "metadata": {
        "trusted": true,
        "colab": {
          "base_uri": "https://localhost:8080/",
          "height": 631
        },
        "id": "c2c5008d-b27d-4445-9744-87b9534669eb",
        "executionInfo": {
          "status": "ok",
          "timestamp": 1731635846984,
          "user_tz": -180,
          "elapsed": 610,
          "user": {
            "displayName": "Светлана Дрягалова",
            "userId": "10120069416308116844"
          }
        },
        "outputId": "0660e3e0-23f4-4134-f174-3ca9488916c3"
      },
      "outputs": [
        {
          "name": "stderr",
          "text": "<ipython-input-22-414f93991d98>:1: FutureWarning: The default of observed=False is deprecated and will be changed to True in a future version of pandas. Pass observed=False to retain current behavior or observed=True to adopt the future default and silence this warning.\n  sankey_data = df.groupby([\"Pclass\",\"Sex\",\"Survived\"])[[\"PassengerId\"]].count().reset_index()\n",
          "output_type": "stream"
        },
        {
          "ename": "<class 'NameError'>",
          "evalue": "name 'go' is not defined",
          "traceback": [
            "\u001b[0;31m---------------------------------------------------------------------------\u001b[0m",
            "\u001b[0;31mNameError\u001b[0m                                 Traceback (most recent call last)",
            "Cell \u001b[0;32mIn[22], line 21\u001b[0m\n\u001b[1;32m     18\u001b[0m         target\u001b[38;5;241m.\u001b[39mappend(i\u001b[38;5;241m+\u001b[39m\u001b[38;5;241m1\u001b[39m)\n\u001b[1;32m     19\u001b[0m         value\u001b[38;5;241m.\u001b[39mappend(sankey_data\u001b[38;5;241m.\u001b[39miloc[(i\u001b[38;5;241m-\u001b[39m\u001b[38;5;241m1\u001b[39m)\u001b[38;5;241m/\u001b[39m\u001b[38;5;241m/\u001b[39m\u001b[38;5;241m3\u001b[39m][\u001b[38;5;124m\"\u001b[39m\u001b[38;5;124mPassengerId\u001b[39m\u001b[38;5;124m\"\u001b[39m])\n\u001b[0;32m---> 21\u001b[0m fig \u001b[38;5;241m=\u001b[39m \u001b[43mgo\u001b[49m\u001b[38;5;241m.\u001b[39mFigure(data\u001b[38;5;241m=\u001b[39m[go\u001b[38;5;241m.\u001b[39mSankey(\n\u001b[1;32m     22\u001b[0m     node\u001b[38;5;241m=\u001b[39m\u001b[38;5;28mdict\u001b[39m(\n\u001b[1;32m     23\u001b[0m         pad\u001b[38;5;241m=\u001b[39m\u001b[38;5;241m15\u001b[39m,\n\u001b[1;32m     24\u001b[0m         thickness\u001b[38;5;241m=\u001b[39m\u001b[38;5;241m20\u001b[39m,\n\u001b[1;32m     25\u001b[0m         line\u001b[38;5;241m=\u001b[39m\u001b[38;5;28mdict\u001b[39m(color\u001b[38;5;241m=\u001b[39m\u001b[38;5;124m\"\u001b[39m\u001b[38;5;124mblack\u001b[39m\u001b[38;5;124m\"\u001b[39m, width\u001b[38;5;241m=\u001b[39m\u001b[38;5;241m0.5\u001b[39m),\n\u001b[1;32m     26\u001b[0m         label\u001b[38;5;241m=\u001b[39mlabels,\n\u001b[1;32m     27\u001b[0m     ),\n\u001b[1;32m     28\u001b[0m     link\u001b[38;5;241m=\u001b[39m\u001b[38;5;28mdict\u001b[39m(\n\u001b[1;32m     29\u001b[0m         source\u001b[38;5;241m=\u001b[39msources,\n\u001b[1;32m     30\u001b[0m         target\u001b[38;5;241m=\u001b[39mtargets,\n\u001b[1;32m     31\u001b[0m         value\u001b[38;5;241m=\u001b[39mvalues\n\u001b[1;32m     32\u001b[0m     ))])\n\u001b[1;32m     34\u001b[0m fig\u001b[38;5;241m.\u001b[39mupdate_layout(title_text\u001b[38;5;241m=\u001b[39m\u001b[38;5;124m\"\u001b[39m\u001b[38;5;124mInteractive Sankey Plot: Pclass, Sex and Survival\u001b[39m\u001b[38;5;124m\"\u001b[39m,\n\u001b[1;32m     35\u001b[0m                   font_size\u001b[38;5;241m=\u001b[39m\u001b[38;5;241m15\u001b[39m)\n\u001b[1;32m     36\u001b[0m fig\u001b[38;5;241m.\u001b[39mshow()\n",
            "\u001b[0;31mNameError\u001b[0m: name 'go' is not defined"
          ],
          "output_type": "error"
        }
      ],
      "execution_count": 22
    }
  ]
}